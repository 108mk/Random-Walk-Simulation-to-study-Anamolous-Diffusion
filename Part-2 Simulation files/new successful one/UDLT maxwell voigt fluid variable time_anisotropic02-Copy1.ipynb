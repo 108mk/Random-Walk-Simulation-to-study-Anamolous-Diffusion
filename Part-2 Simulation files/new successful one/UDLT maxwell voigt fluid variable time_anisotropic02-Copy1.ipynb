{
 "cells": [
  {
   "cell_type": "code",
   "execution_count": 6,
   "metadata": {},
   "outputs": [],
   "source": [
    "#calling various library\n",
    "import numpy as np\n",
    "from math import *\n",
    "from random import *\n",
    "import matplotlib.pyplot as plt\n",
    "from pylab import rcParams\n",
    "from datetime import datetime\n",
    "\n"
   ]
  },
  {
   "cell_type": "code",
   "execution_count": 7,
   "metadata": {},
   "outputs": [],
   "source": [
    "                                                                  # no of points we want in the msd plot\n",
    "x_arr = np.loadtxt('x_arr_vts_aniso02.txt')                                      #all elements are in micron\n",
    "y_arr = np.loadtxt('y_arr_vts_aniso02.txt')                                       #all elements are in micron\n",
    "t_arr = np.loadtxt('dt_arr_vts_aniso02.txt')\n"
   ]
  },
  {
   "cell_type": "code",
   "execution_count": 8,
   "metadata": {},
   "outputs": [],
   "source": [
    "dt_min=1e-8                                                                   #initial time step\n",
    "dt_max=1e4                                                                   #final time step in msd graph\n",
    "msd_xarr=[]                                                                    #mean squared x\n",
    "msd_yarr=[]                                                                    #mean squared y\n",
    "msd_rarr=[]                                                                    #r is the msd array\n",
    "mean_t_arr=[]                                                                  #dtarray for msd plot\n",
    "\n",
    "N = 30    \n",
    "timelaglog= np.logspace( np.log10(dt_min), np.log10(dt_max), num=N ) #nonzero points for msd plot(distributed linearly in log scale)\n",
    "counterarray=[]                                                                 #no of data averaging for particular dt\n"
   ]
  },
  {
   "cell_type": "code",
   "execution_count": 9,
   "metadata": {},
   "outputs": [
    {
     "name": "stdout",
     "output_type": "stream",
     "text": [
      "0\n",
      "1\n",
      "2\n",
      "3\n",
      "4\n",
      "5\n",
      "6\n",
      "7\n",
      "8\n",
      "9\n",
      "10\n",
      "11\n",
      "12\n",
      "13\n",
      "14\n",
      "15\n",
      "16\n",
      "17\n",
      "18\n",
      "19\n",
      "20\n",
      "21\n",
      "22\n",
      "23\n",
      "24\n",
      "25\n",
      "26\n",
      "27\n",
      "28\n"
     ]
    }
   ],
   "source": [
    "#from numba import jit\n",
    "#@jit(nopython=True)\n",
    "\n",
    "for m in range(0,len(timelaglog)-1):\n",
    "    print(m)\n",
    "    r=0 \n",
    "    x=0\n",
    "    y=0 \n",
    "    count=0                                                                   #counter no of elements for data avraging for particular dt\n",
    "    for i in range(len(t_arr)):\n",
    "        for j in range(i+1,len(t_arr)):\n",
    "            timelag = t_arr[j]-t_arr[i]                                       #time difference between i'th and j'th elements\n",
    "            if timelag >= timelaglog[m] and timelag <= timelaglog[m+1]:\n",
    "                x = x+((x_arr[j]-x_arr[i])**2)\n",
    "                y = y+((y_arr[j]-y_arr[i])**2)\n",
    "                count = count+1\n",
    "    x=float(x/count)\n",
    "    y=float(y/count)\n",
    "    r=float(x+y) \n",
    "    msd_xarr.append(x)\n",
    "    msd_yarr.append(y)                                                          #msd for a particual dt\n",
    "    msd_rarr.append(r)\n",
    "    mean_t_arr.append(np.sqrt(timelaglog[m]*timelaglog[m+1]))\n",
    "    counterarray.append(count)\n"
   ]
  },
  {
   "cell_type": "code",
   "execution_count": 8,
   "metadata": {},
   "outputs": [],
   "source": [
    "np.savetxt('msd_x_aniso02.txt',msd_xarr)\n",
    "np.savetxt('msd_y_aniso02.txt',msd_yarr)\n",
    "np.savetxt('msd_r_aniso02.txt',msd_rarr)\n",
    "np.savetxt('t_arr_formsd_aniso02.txt',mean_t_arr)\n",
    "np.savetxt('counterarray_aniso02.txt',counterarray)\n"
   ]
  },
  {
   "cell_type": "code",
   "execution_count": 13,
   "metadata": {},
   "outputs": [],
   "source": []
  },
  {
   "cell_type": "code",
   "execution_count": 10,
   "metadata": {},
   "outputs": [
    {
     "data": {
      "text/plain": [
       "Text(0.5, 0, '$tau (s)$')"
      ]
     },
     "execution_count": 10,
     "metadata": {},
     "output_type": "execute_result"
    },
    {
     "data": {
      "image/png": "[encoded data removed]",
      "text/plain": [
       "<Figure size 432x288 with 1 Axes>"
      ]
     },
     "metadata": {
      "needs_background": "light"
     },
     "output_type": "display_data"
    }
   ],
   "source": [
    "\n",
    "\n",
    "plt.loglog(mean_t_arr,msd_xarr,'ro-')\n",
    "plt.loglog(mean_t_arr,msd_yarr,'bo-')\n",
    "plt.ylabel('msd (m$^2$)',size=20)\n",
    "plt.xlabel(r'$tau (s)$', size =20)\n",
    "#plt.xscale('log')\n",
    "#plt.yscale('log')\n"
   ]
  },
  {
   "cell_type": "code",
   "execution_count": 8,
   "metadata": {},
   "outputs": [],
   "source": [
    "import numpy\n",
    "a = numpy.asarray([ mean_t_arr, msd_rarr, msd_xarr, msd_yarr])\n",
    "index = ['time', 'msd_r', 'msd_x', 'msd_y']\n",
    "\n",
    "import pandas as pd\n",
    "df_a = pd.DataFrame(a, index)\n",
    "df_a_tp = pd.DataFrame.transpose(df_a)\n",
    "\n",
    "numpy.savetxt(\"mvm_vts_aniso.csv\", df_a_tp, delimiter=\",\")"
   ]
  },
  {
   "cell_type": "code",
   "execution_count": null,
   "metadata": {},
   "outputs": [],
   "source": [
    "msd_r_iso = np.loadtxt('msd_r_iso.txt')   "
   ]
  },
  {
   "cell_type": "code",
   "execution_count": 9,
   "metadata": {},
   "outputs": [],
   "source": [
    "import numpy\n",
    "ab = numpy.asarray([ mean_t_arr, msd_rarr, msd_r_iso])\n",
    "index = ['time', 'msd_r_aniso', 'msd_r_iso']\n",
    "\n",
    "import pandas as pd\n",
    "df_ab = pd.DataFrame(ab, index)\n",
    "df_ab_tp = pd.DataFrame.transpose(df_ab)\n",
    "\n",
    "numpy.savetxt(\"mvm_vts_iso_aniso.csv\", df_a_tp, delimiter=\",\")"
   ]
  },
  {
   "cell_type": "code",
   "execution_count": null,
   "metadata": {},
   "outputs": [],
   "source": []
  }
 ],
 "metadata": {
  "kernelspec": {
   "display_name": "Python 3",
   "language": "python",
   "name": "python3"
  },
  "language_info": {
   "codemirror_mode": {
    "name": "ipython",
    "version": 3
   },
   "file_extension": ".py",
   "mimetype": "text/x-python",
   "name": "python",
   "nbconvert_exporter": "python",
   "pygments_lexer": "ipython3",
   "version": "3.7.3"
  }
 },
 "nbformat": 4,
 "nbformat_minor": 2
}
