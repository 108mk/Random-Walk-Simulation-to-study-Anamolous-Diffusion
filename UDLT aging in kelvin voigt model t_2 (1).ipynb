{
 "cells": [
  {
   "cell_type": "code",
   "execution_count": 1,
   "metadata": {},
   "outputs": [],
   "source": [
    "import numpy as np\n",
    "from math import *\n",
    "from random import *\n",
    "import matplotlib.pyplot as plt\n",
    "from pylab import rcParams\n",
    "from datetime import datetime\n",
    "fig = plt.figure()\n",
    "time1=datetime.now().strftime('%Y-%m-%d %H:%M:%S')"
   ]
  },
  {
   "cell_type": "code",
   "execution_count": 2,
   "metadata": {},
   "outputs": [],
   "source": [
    "x_arr = np.loadtxt('age kvm x_arr_vts t_2.txt')                                      #all elements are in micron\n",
    "y_arr = np.loadtxt('age kvm y_arr_vts t_2.txt')                                       #all elements are in micron\n",
    "t_arr = np.loadtxt('age kvm dt_arr_vts t_2.txt')"
   ]
  },
  {
   "cell_type": "code",
   "execution_count": 3,
   "metadata": {},
   "outputs": [
    {
     "data": {
      "text/plain": [
       "54408"
      ]
     },
     "execution_count": 3,
     "metadata": {},
     "output_type": "execute_result"
    }
   ],
   "source": [
    "len(x_arr)"
   ]
  },
  {
   "cell_type": "code",
   "execution_count": 4,
   "metadata": {},
   "outputs": [],
   "source": [
    "dt_min=1e-8                                                                   #initial time step\n",
    "dt_max=1e4                                                                  #final time step in msd graph\n",
    "msd_xarr=[]                                                                    #mean squared x\n",
    "msd_yarr=[]                                                                    #mean squared y\n",
    "msd_rarr=[]                                                                    #r is the msd array\n",
    "mean_t_arr=[]                                                                  #dtarray for msd plot\n",
    "\n",
    "N = 40\n",
    "timelaglog= np.logspace( np.log10(dt_min), np.log10(dt_max), num=N ) #nonzero points for msd plot(distributed linearly in log scale)\n",
    "counterarray=[]                                                                 #no of data averaging for particular dt"
   ]
  },
  {
   "cell_type": "code",
   "execution_count": 5,
   "metadata": {},
   "outputs": [
    {
     "data": {
      "text/plain": [
       "'timelaglog'"
      ]
     },
     "execution_count": 5,
     "metadata": {},
     "output_type": "execute_result"
    }
   ],
   "source": [
    "'''timelaglog'''"
   ]
  },
  {
   "cell_type": "code",
   "execution_count": 6,
   "metadata": {
    "collapsed": true
   },
   "outputs": [
    {
     "name": "stdout",
     "output_type": "stream",
     "text": [
      "0\n",
      "no. of  points in bin 1317\n",
      "tau= 1.4251026703029977e-08\n",
      "1\n",
      "no. of  points in bin 1534\n",
      "tau= 2.8942661247167487e-08\n",
      "2\n",
      "no. of  points in bin 1451\n",
      "tau= 5.878016072274912e-08\n",
      "3\n",
      "no. of  points in bin 1466\n",
      "tau= 1.193776641714437e-07\n",
      "4\n",
      "no. of  points in bin 1598\n",
      "tau= 2.424462017082328e-07\n",
      "5\n",
      "no. of  points in bin 1588\n",
      "tau= 4.923882631706742e-07\n",
      "6\n",
      "no. of  points in bin 1668\n",
      "tau= 1.000000000000001e-06\n",
      "7\n",
      "no. of  points in bin 1596\n",
      "tau= 2.030917620904737e-06\n",
      "8\n",
      "no. of  points in bin 1700\n",
      "tau= 4.124626382901353e-06\n",
      "9\n",
      "no. of  points in bin 1707\n",
      "tau= 8.376776400682917e-06\n",
      "10\n",
      "no. of  points in bin 1772\n",
      "tau= 1.7012542798525893e-05\n",
      "11\n",
      "no. of  points in bin 1886\n",
      "tau= 3.455107294592222e-05\n",
      "12\n",
      "no. of  points in bin 1822\n",
      "tau= 7.01703828670383e-05\n",
      "13\n",
      "no. of  points in bin 1980\n",
      "tau= 0.00014251026703029993\n",
      "14\n",
      "no. of  points in bin 2013\n",
      "tau= 0.0002894266124716755\n",
      "15\n",
      "no. of  points in bin 2119\n",
      "tau= 0.0005878016072274918\n",
      "16\n",
      "no. of  points in bin 2180\n",
      "tau= 0.001193776641714437\n",
      "17\n",
      "no. of  points in bin 2269\n",
      "tau= 0.0024244620170823282\n",
      "18\n",
      "no. of  points in bin 2446\n",
      "tau= 0.004923882631706742\n",
      "19\n",
      "no. of  points in bin 2549\n",
      "tau= 0.010000000000000009\n",
      "20\n",
      "no. of  points in bin 2693\n",
      "tau= 0.020309176209047368\n",
      "21\n",
      "no. of  points in bin 2949\n",
      "tau= 0.041246263829013564\n",
      "22\n",
      "no. of  points in bin 3050\n",
      "tau= 0.08376776400682932\n",
      "23\n",
      "no. of  points in bin 3216\n",
      "tau= 0.1701254279852591\n",
      "24\n",
      "no. of  points in bin 3366\n",
      "tau= 0.3455107294592222\n",
      "25\n",
      "no. of  points in bin 3472\n",
      "tau= 0.701703828670383\n",
      "26\n",
      "no. of  points in bin 3833\n",
      "tau= 1.4251026703029992\n",
      "27\n",
      "no. of  points in bin 4036\n",
      "tau= 2.894266124716758\n",
      "28\n",
      "no. of  points in bin 4362\n",
      "tau= 5.878016072274924\n",
      "29\n",
      "no. of  points in bin 4709\n",
      "tau= 11.937766417144383\n",
      "30\n",
      "no. of  points in bin 5295\n",
      "tau= 24.244620170823307\n",
      "31\n",
      "no. of  points in bin 5927\n",
      "tau= 49.238826317067414\n",
      "32\n",
      "no. of  points in bin 6164\n",
      "tau= 100.00000000000021\n",
      "33\n",
      "no. of  points in bin 7392\n",
      "tau= 203.09176209047388\n",
      "34\n",
      "no. of  points in bin 8719\n",
      "tau= 412.4626382901356\n",
      "35\n",
      "no. of  points in bin 10316\n",
      "tau= 837.6776400682924\n",
      "36\n",
      "no. of  points in bin 12878\n",
      "tau= 1701.2542798525892\n",
      "37\n",
      "no. of  points in bin 14611\n",
      "tau= 3455.107294592225\n",
      "38\n",
      "no. of  points in bin 21352\n",
      "tau= 7017.038286703836\n",
      "2020-04-14 13:29:34\n",
      "2020-04-14 13:29:39\n"
     ]
    }
   ],
   "source": [
    "time1=datetime.now().strftime('%Y-%m-%d %H:%M:%S')\n",
    "\n",
    "for m in range(0,len(timelaglog)-1):\n",
    "    print(m)\n",
    "    r=0 \n",
    "    x=0\n",
    "    y=0 \n",
    "    count=0                                                                   #counter no of elements for data avraging for particular dt\n",
    "    for i in range(len(t_arr)):\n",
    "        for j in range(i+1,len(t_arr)):\n",
    "            timelag = t_arr[j]-t_arr[i]                                       #time difference between i'th and j'th elements\n",
    "            if timelag >= timelaglog[m]:\n",
    "                if timelag <= timelaglog[m+1]:\n",
    "                    x = x+((x_arr[j]-x_arr[i])**2)\n",
    "                    y = y+((y_arr[j]-y_arr[i])**2)\n",
    "                    count = count+1\n",
    "                else:\n",
    "                    break;\n",
    "            else:\n",
    "                break;           \n",
    "    print('no. of  points in bin',count) \n",
    "    x=float(x/count)\n",
    "    y=float(y/count)\n",
    "    r=float(x+y) \n",
    "    msd_xarr.append(x)\n",
    "    msd_yarr.append(y)                                                          #msd for a particual dt\n",
    "    msd_rarr.append(r)\n",
    "    mean_t_arr.append(np.sqrt(timelaglog[m]*timelaglog[m+1]))\n",
    "    print( 'tau=', np.sqrt(timelaglog[m]*timelaglog[m+1]) )\n",
    "    counterarray.append(count)\n",
    "  \n",
    "    \n",
    "time2=datetime.now().strftime('%Y-%m-%d %H:%M:%S') # final time ending of the run time\n",
    "print(time1)\n",
    "print(time2) "
   ]
  },
  {
   "cell_type": "code",
   "execution_count": 7,
   "metadata": {},
   "outputs": [],
   "source": [
    "'''np.savetxt('msd_x_iso.txt',msd_xarr)\n",
    "np.savetxt('msd_y_iso.txt',msd_yarr)\n",
    "np.savetxt('msd_r_iso.txt',msd_rarr)\n",
    "np.savetxt('t_arr_formsd_iso.txt',mean_t_arr)\n",
    "np.savetxt('counterarray.txt',counterarray)'''"
   ]
  },
  {
   "cell_type": "code",
   "execution_count": 7,
   "metadata": {},
   "outputs": [],
   "source": [
    "msd_rarr = np.array(msd_rarr)\n",
    "msd_xarr = np.array(msd_xarr)\n",
    "msd_yarr = np.array(msd_yarr)"
   ]
  },
  {
   "cell_type": "code",
   "execution_count": 8,
   "metadata": {},
   "outputs": [
    {
     "data": {
      "image/png": "[encoded data removed]",
      "text/plain": [
       "<Figure size 432x288 with 1 Axes>"
      ]
     },
     "metadata": {
      "needs_background": "light"
     },
     "output_type": "display_data"
    }
   ],
   "source": [
    "plt.plot(mean_t_arr,msd_xarr*1e18,'bo-')\n",
    "plt.plot(mean_t_arr,msd_yarr*1e18,'ro-')\n",
    "plt.ylabel(r'$<\\Delta x^2>,<\\Delta y^2> \\ \\  (nm^2)$',size=15)\n",
    "plt.xlabel(r'$\\tau  (s)$',size=20)\n",
    "plt.xscale('log')\n",
    "plt.yscale('log')\n",
    "#plt.savefig('mvm_iso_x_y_long.png')\n",
    "plt.show()"
   ]
  },
  {
   "cell_type": "code",
   "execution_count": 10,
   "metadata": {},
   "outputs": [
    {
     "data": {
      "text/plain": [
       "\"plt.plot(mean_t_arr,msd_rarr*1e18,'go-')\\nplt.ylabel(r'$<\\\\Delta r^2> \\\\ \\\\  (nm^2)$',size=20)\\nplt.xlabel(r'$\\tau  (s)$',size=20)\\nplt.xscale('log')\\nplt.yscale('log')\\n#plt.savefig('mvm_iso_long.png')\\nplt.show()\""
      ]
     },
     "execution_count": 10,
     "metadata": {},
     "output_type": "execute_result"
    }
   ],
   "source": [
    "'''plt.plot(mean_t_arr,msd_rarr*1e18,'go-')\n",
    "plt.ylabel(r'$<\\Delta r^2> \\ \\  (nm^2)$',size=20)\n",
    "plt.xlabel(r'$\\tau  (s)$',size=20)\n",
    "plt.xscale('log')\n",
    "plt.yscale('log')\n",
    "#plt.savefig('mvm_iso_long.png')\n",
    "plt.show()'''"
   ]
  },
  {
   "cell_type": "code",
   "execution_count": 11,
   "metadata": {},
   "outputs": [
    {
     "data": {
      "text/plain": [
       "'import numpy\\na = numpy.asarray([ mean_t_arr, msd_rarr, msd_xarr, msd_yarr])\\nindex = [\\'time\\', \\'msd_r\\', \\'msd_x\\', \\'msd_y\\']\\n\\nimport pandas as pd\\ndf_a = pd.DataFrame(a, index)\\ndf_a_tp = pd.DataFrame.transpose(df_a)\\n\\nnumpy.savetxt(\"mvm_vts_iso_2.csv\", df_a_tp, delimiter=\",\")'"
      ]
     },
     "execution_count": 11,
     "metadata": {},
     "output_type": "execute_result"
    }
   ],
   "source": [
    "'''import numpy\n",
    "a = numpy.asarray([ mean_t_arr, msd_rarr, msd_xarr, msd_yarr])\n",
    "index = ['time', 'msd_r', 'msd_x', 'msd_y']\n",
    "\n",
    "import pandas as pd\n",
    "df_a = pd.DataFrame(a, index)\n",
    "df_a_tp = pd.DataFrame.transpose(df_a)\n",
    "\n",
    "numpy.savetxt(\"mvm_vts_iso_2.csv\", df_a_tp, delimiter=\",\")'''"
   ]
  },
  {
   "cell_type": "code",
   "execution_count": null,
   "metadata": {},
   "outputs": [],
   "source": []
  }
 ],
 "metadata": {
  "kernelspec": {
   "display_name": "Python 3",
   "language": "python",
   "name": "python3"
  },
  "language_info": {
   "codemirror_mode": {
    "name": "ipython",
    "version": 3
   },
   "file_extension": ".py",
   "mimetype": "text/x-python",
   "name": "python",
   "nbconvert_exporter": "python",
   "pygments_lexer": "ipython3",
   "version": "3.7.3"
  }
 },
 "nbformat": 4,
 "nbformat_minor": 2
}
