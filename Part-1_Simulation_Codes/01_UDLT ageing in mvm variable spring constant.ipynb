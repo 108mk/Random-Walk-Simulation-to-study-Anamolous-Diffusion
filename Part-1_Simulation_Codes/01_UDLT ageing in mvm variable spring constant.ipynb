{
 "cells": [
  {
   "cell_type": "code",
   "execution_count": 1,
   "metadata": {},
   "outputs": [
    {
     "data": {
      "text/plain": [
       "<Figure size 432x288 with 0 Axes>"
      ]
     },
     "metadata": {},
     "output_type": "display_data"
    }
   ],
   "source": [
    "import numpy as np\n",
    "from math import *\n",
    "from random import *\n",
    "import matplotlib.pyplot as plt\n",
    "from pylab import rcParams\n",
    "from datetime import datetime\n",
    "fig = plt.figure()\n",
    "time1=datetime.now().strftime('%Y-%m-%d %H:%M:%S')\n"
   ]
  },
  {
   "cell_type": "code",
   "execution_count": 2,
   "metadata": {},
   "outputs": [],
   "source": [
    "x_arr = np.loadtxt('x_arr_vts00.txt')                                      #all elements are in micron\n",
    "y_arr = np.loadtxt('y_arr_vts00.txt')                                       #all elements are in micron\n",
    "z_arr = np.loadtxt('z_arr_vts00.txt') \n",
    "w_arr = np.loadtxt('w_arr_vts00.txt')\n",
    "t_arr = np.loadtxt('dt_arr_vts00.txt') "
   ]
  },
  {
   "cell_type": "code",
   "execution_count": 3,
   "metadata": {},
   "outputs": [],
   "source": [
    "dt_min=1e-8                                                                   #initial time step\n",
    "dt_max=1e-2                                                                   #final time step in msd graph\n",
    "msd_xarr=[]                                                                    #mean squared x\n",
    "msd_yarr=[]                                                                    #mean squared y\n",
    "msd_zarr=[]\n",
    "msd_warr=[]\n",
    "msd_rarr=[]                                                                    #r is the msd array\n",
    "mean_t_arr=[]                                                                  #dtarray for msd plot\n",
    "\n",
    "N = 40    \n",
    "timelaglog= np.logspace( np.log10(dt_min), np.log10(dt_max), num=N ) \n",
    "counterarray=[]                                                                 #no of data averaging for particular dt\n"
   ]
  },
  {
   "cell_type": "code",
   "execution_count": 4,
   "metadata": {
    "scrolled": true
   },
   "outputs": [
    {
     "name": "stdout",
     "output_type": "stream",
     "text": [
      "0\n",
      "no. of  points in bin 1745\n",
      "tau= 1.193776641714437e-08\n",
      "1\n",
      "no. of  points in bin 1800\n",
      "tau= 1.7012542798525893e-08\n",
      "2\n",
      "no. of  points in bin 1707\n",
      "tau= 2.4244620170823283e-08\n",
      "3\n",
      "no. of  points in bin 1774\n",
      "tau= 3.455107294592218e-08\n",
      "4\n",
      "no. of  points in bin 1789\n",
      "tau= 4.923882631706737e-08\n",
      "5\n",
      "no. of  points in bin 1786\n",
      "tau= 7.01703828670383e-08\n",
      "6\n",
      "no. of  points in bin 1942\n",
      "tau= 1e-07\n",
      "7\n",
      "no. of  points in bin 1837\n",
      "tau= 1.4251026703029976e-07\n",
      "8\n",
      "no. of  points in bin 1929\n",
      "tau= 2.030917620904737e-07\n",
      "9\n",
      "no. of  points in bin 1972\n",
      "tau= 2.894266124716752e-07\n",
      "10\n",
      "no. of  points in bin 2002\n",
      "tau= 4.1246263829013527e-07\n",
      "11\n",
      "no. of  points in bin 2041\n",
      "tau= 5.878016072274918e-07\n",
      "12\n",
      "no. of  points in bin 2241\n",
      "tau= 8.376776400682924e-07\n",
      "13\n",
      "no. of  points in bin 2225\n",
      "tau= 1.193776641714437e-06\n",
      "14\n",
      "no. of  points in bin 2278\n",
      "tau= 1.701254279852591e-06\n",
      "15\n",
      "no. of  points in bin 2368\n",
      "tau= 2.4244620170823308e-06\n",
      "16\n",
      "no. of  points in bin 2429\n",
      "tau= 3.4551072945922185e-06\n",
      "17\n",
      "no. of  points in bin 2462\n",
      "tau= 4.923882631706737e-06\n",
      "18\n",
      "no. of  points in bin 2738\n",
      "tau= 7.017038286703829e-06\n",
      "19\n",
      "no. of  points in bin 2780\n",
      "tau= 9.999999999999999e-06\n",
      "20\n",
      "no. of  points in bin 2896\n",
      "tau= 1.4251026703029978e-05\n",
      "21\n",
      "no. of  points in bin 3029\n",
      "tau= 2.030917620904737e-05\n",
      "22\n",
      "no. of  points in bin 3075\n",
      "tau= 2.8942661247167517e-05\n",
      "23\n",
      "no. of  points in bin 3262\n",
      "tau= 4.124626382901352e-05\n",
      "24\n",
      "no. of  points in bin 3454\n",
      "tau= 5.878016072274918e-05\n",
      "25\n",
      "no. of  points in bin 3449\n",
      "tau= 8.376776400682924e-05\n",
      "26\n",
      "no. of  points in bin 3812\n",
      "tau= 0.0001193776641714437\n",
      "27\n",
      "no. of  points in bin 4006\n",
      "tau= 0.0001701254279852591\n",
      "28\n",
      "no. of  points in bin 4207\n",
      "tau= 0.00024244620170823307\n",
      "29\n",
      "no. of  points in bin 4510\n",
      "tau= 0.0003455107294592222\n",
      "30\n",
      "no. of  points in bin 4839\n",
      "tau= 0.0004923882631706741\n",
      "31\n",
      "no. of  points in bin 5196\n",
      "tau= 0.0007017038286703829\n",
      "32\n",
      "no. of  points in bin 5663\n",
      "tau= 0.001000000000000001\n",
      "33\n",
      "no. of  points in bin 5768\n",
      "tau= 0.0014251026703029992\n",
      "34\n",
      "no. of  points in bin 6711\n",
      "tau= 0.0020309176209047366\n",
      "35\n",
      "no. of  points in bin 7259\n",
      "tau= 0.0028942661247167516\n",
      "36\n",
      "no. of  points in bin 8076\n",
      "tau= 0.004124626382901352\n",
      "37\n",
      "no. of  points in bin 9170\n",
      "tau= 0.005878016072274918\n",
      "38\n",
      "no. of  points in bin 9725\n",
      "tau= 0.008376776400682925\n",
      "2020-05-22 07:59:59\n",
      "2020-05-22 08:00:05\n"
     ]
    }
   ],
   "source": [
    "time1=datetime.now().strftime('%Y-%m-%d %H:%M:%S')\n",
    "\n",
    "for m in range(0,len(timelaglog)-1):\n",
    "    print(m)\n",
    "    r=0 \n",
    "    x=0\n",
    "    y=0 \n",
    "    z=0\n",
    "    w=0\n",
    "    count=0                                                                  \n",
    "    for i in range(len(t_arr)):\n",
    "        for j in range(i+1,len(t_arr)):\n",
    "            timelag = t_arr[j]-t_arr[i]                                       \n",
    "            if timelag >= timelaglog[m]:\n",
    "                if timelag <= timelaglog[m+1]:\n",
    "                    x = x+((x_arr[j]-x_arr[i])**2)\n",
    "                    y = y+((y_arr[j]-y_arr[i])**2)\n",
    "                    z = z+((z_arr[j]-z_arr[i])**2)\n",
    "                    w = w+((w_arr[j]-w_arr[i])**2)\n",
    "                    count = count+1\n",
    "                else:\n",
    "                    break;\n",
    "            else:\n",
    "                break;  \n",
    "                \n",
    "    print('no. of  points in bin',count) \n",
    "    x=float(x/count)\n",
    "    y=float(y/count)\n",
    "    z=float(z/count)\n",
    "    w=float(w/count)\n",
    "    r=float(x+y+z) \n",
    "    \n",
    "    msd_xarr.append(x)\n",
    "    msd_yarr.append(y)                                                        \n",
    "    msd_zarr.append(z)\n",
    "    msd_warr.append(w)\n",
    "    msd_rarr.append(r)\n",
    "    mean_t_arr.append(np.sqrt(timelaglog[m]*timelaglog[m+1]))\n",
    "    print( 'tau=', np.sqrt(timelaglog[m]*timelaglog[m+1]) )\n",
    "    counterarray.append(count)\n",
    "\n",
    "    \n",
    "time2=datetime.now().strftime('%Y-%m-%d %H:%M:%S') # final time ending of the run time\n",
    "print(time1)\n",
    "print(time2) \n",
    "\n"
   ]
  },
  {
   "cell_type": "code",
   "execution_count": 5,
   "metadata": {},
   "outputs": [
    {
     "data": {
      "text/plain": [
       "\"np.savetxt('msd_x_iso.txt',msd_xarr)\\nnp.savetxt('msd_y_iso.txt',msd_yarr)\\nnp.savetxt('msd_r_iso.txt',msd_rarr)\\nnp.savetxt('t_arr_formsd_iso.txt',mean_t_arr)\\nnp.savetxt('counterarray.txt',counterarray)\""
      ]
     },
     "execution_count": 5,
     "metadata": {},
     "output_type": "execute_result"
    }
   ],
   "source": [
    "'''np.savetxt('msd_x_iso.txt',msd_xarr)\n",
    "np.savetxt('msd_y_iso.txt',msd_yarr)\n",
    "np.savetxt('msd_r_iso.txt',msd_rarr)\n",
    "np.savetxt('t_arr_formsd_iso.txt',mean_t_arr)\n",
    "np.savetxt('counterarray.txt',counterarray)'''"
   ]
  },
  {
   "cell_type": "code",
   "execution_count": 5,
   "metadata": {},
   "outputs": [],
   "source": [
    "msd_rarr = np.array(msd_rarr)\n",
    "msd_xarr = np.array(msd_xarr)\n",
    "msd_zarr = np.array(msd_zarr)\n",
    "msd_warr = np.array(msd_warr)\n",
    "msd_yarr = np.array(msd_yarr)"
   ]
  },
  {
   "cell_type": "code",
   "execution_count": 6,
   "metadata": {
    "scrolled": true
   },
   "outputs": [
    {
     "data": {
      "text/plain": [
       "array([5.17663452e-27, 7.61089828e-27, 1.04651538e-26, 1.51205802e-26,\n",
       "       2.25188814e-26, 3.07648904e-26, 4.49548863e-26, 6.27851546e-26,\n",
       "       9.03123358e-26, 1.40039782e-25, 1.89051817e-25, 2.56543218e-25,\n",
       "       3.73864087e-25, 5.08879692e-25, 7.48323422e-25, 1.02081544e-24,\n",
       "       1.52227698e-24, 2.23093624e-24, 3.32866968e-24, 4.35157884e-24,\n",
       "       5.92014789e-24, 8.60240353e-24, 1.15011974e-23, 1.75585045e-23,\n",
       "       2.57597485e-23, 3.39472971e-23, 4.71866901e-23, 6.66642021e-23,\n",
       "       8.96788195e-23, 1.09343793e-22, 1.34902452e-22, 1.72437384e-22,\n",
       "       1.85189880e-22, 2.19565881e-22, 2.28650018e-22, 2.66993754e-22,\n",
       "       3.03909234e-22, 2.81781772e-22, 3.11502403e-22])"
      ]
     },
     "execution_count": 6,
     "metadata": {},
     "output_type": "execute_result"
    }
   ],
   "source": [
    "msd_warr"
   ]
  },
  {
   "cell_type": "code",
   "execution_count": 7,
   "metadata": {
    "scrolled": true
   },
   "outputs": [
    {
     "data": {
      "image/png": "[encoded data removed]",
      "text/plain": [
       "<Figure size 432x288 with 1 Axes>"
      ]
     },
     "metadata": {
      "needs_background": "light"
     },
     "output_type": "display_data"
    }
   ],
   "source": [
    "plt.plot(mean_t_arr,msd_yarr,'ro-')\n",
    "plt.plot(mean_t_arr,msd_zarr,'co-')\n",
    "plt.plot(mean_t_arr,msd_warr,'mo-')\n",
    "\n",
    "\n",
    "plt.ylabel(r'$<\\Delta x^2>,<\\Delta y^2> \\ \\  (nm^2)$',size=15)\n",
    "plt.xlabel(r'$\\tau  (s)$',size=20)\n",
    "\n",
    "'''plt.ticklabel_format(style='sci', axis='x', scilimits=(-2,6))\n",
    "plt.ticklabel_format(style='sci', axis='y', scilimits=(-8,6))'''\n",
    "\n",
    "plt.xscale('log')\n",
    "plt.yscale('log')\n",
    "#plt.savefig('mvm_iso_x_y_long.png')\n",
    "\n",
    "plt.show()\n"
   ]
  },
  {
   "cell_type": "code",
   "execution_count": 34,
   "metadata": {
    "collapsed": true
   },
   "outputs": [
    {
     "data": {
      "image/png": "[encoded data removed]",
      "text/plain": [
       "<Figure size 432x288 with 1 Axes>"
      ]
     },
     "metadata": {
      "needs_background": "light"
     },
     "output_type": "display_data"
    }
   ],
   "source": [
    "\n",
    "'''plt.plot(mean_t_arr,msd_rarr*1e18,'go-')\n",
    "\n",
    "plt.ylabel(r'$<\\Delta r^2> \\ \\  (nm^2)$',size=20)\n",
    "plt.xlabel(r'$\\tau  (s)$',size=20)\n",
    "\n",
    "plt.ticklabel_format(style='sci', axis='x', scilimits=(-2,6))\n",
    "plt.ticklabel_format(style='sci', axis='y', scilimits=(-8,6))\n",
    "\n",
    "plt.xscale('log')\n",
    "plt.yscale('log')\n",
    "plt.savefig('mvm_iso_long.png')\n",
    "\n",
    "plt.show()\n",
    "\n",
    "'''"
   ]
  },
  {
   "cell_type": "code",
   "execution_count": 11,
   "metadata": {},
   "outputs": [],
   "source": [
    "import numpy\n",
    "a = numpy.asarray([ mean_t_arr, msd_rarr, msd_xarr, msd_yarr])\n",
    "index = ['time', 'msd_r', 'msd_x', 'msd_y']\n",
    "\n",
    "import pandas as pd\n",
    "df_a = pd.DataFrame(a, index)\n",
    "df_a_tp = pd.DataFrame.transpose(df_a)\n",
    "\n",
    "numpy.savetxt(\"mvm_vts_iso_2.csv\", df_a_tp, delimiter=\",\")"
   ]
  },
  {
   "cell_type": "code",
   "execution_count": null,
   "metadata": {},
   "outputs": [],
   "source": []
  },
  {
   "cell_type": "code",
   "execution_count": 8,
   "metadata": {},
   "outputs": [],
   "source": [
    "\n",
    "alpha = 0\n",
    "beta = -log(100)/5e1"
   ]
  },
  {
   "cell_type": "code",
   "execution_count": 9,
   "metadata": {},
   "outputs": [],
   "source": [
    "time = 0\n",
    "\n",
    "time1=5e1\n",
    "time2=1e2\n",
    "time3=15e1"
   ]
  },
  {
   "cell_type": "code",
   "execution_count": 10,
   "metadata": {
    "scrolled": true
   },
   "outputs": [
    {
     "data": {
      "text/plain": [
       "[1.193776641714437e-08,\n",
       " 1.7012542798525893e-08,\n",
       " 2.4244620170823283e-08,\n",
       " 3.455107294592218e-08,\n",
       " 4.923882631706737e-08,\n",
       " 7.01703828670383e-08,\n",
       " 1e-07,\n",
       " 1.4251026703029976e-07,\n",
       " 2.030917620904737e-07,\n",
       " 2.894266124716752e-07,\n",
       " 4.1246263829013527e-07,\n",
       " 5.878016072274918e-07,\n",
       " 8.376776400682924e-07,\n",
       " 1.193776641714437e-06,\n",
       " 1.701254279852591e-06,\n",
       " 2.4244620170823308e-06,\n",
       " 3.4551072945922185e-06,\n",
       " 4.923882631706737e-06,\n",
       " 7.017038286703829e-06,\n",
       " 9.999999999999999e-06,\n",
       " 1.4251026703029978e-05,\n",
       " 2.030917620904737e-05,\n",
       " 2.8942661247167517e-05,\n",
       " 4.124626382901352e-05,\n",
       " 5.878016072274918e-05,\n",
       " 8.376776400682924e-05,\n",
       " 0.0001193776641714437,\n",
       " 0.0001701254279852591,\n",
       " 0.00024244620170823307,\n",
       " 0.0003455107294592222,\n",
       " 0.0004923882631706741,\n",
       " 0.0007017038286703829,\n",
       " 0.001000000000000001,\n",
       " 0.0014251026703029992,\n",
       " 0.0020309176209047366,\n",
       " 0.0028942661247167516,\n",
       " 0.004124626382901352,\n",
       " 0.005878016072274918,\n",
       " 0.008376776400682925]"
      ]
     },
     "execution_count": 10,
     "metadata": {},
     "output_type": "execute_result"
    }
   ],
   "source": [
    "mean_t_arr"
   ]
  },
  {
   "cell_type": "code",
   "execution_count": 11,
   "metadata": {},
   "outputs": [],
   "source": [
    "n=len(mean_t_arr)"
   ]
  },
  {
   "cell_type": "code",
   "execution_count": 12,
   "metadata": {},
   "outputs": [],
   "source": [
    "mean_t_arr1=mean_t_arr+(np.ones(n)*time1)\n",
    "e_t=(np.exp(-(alpha-beta)*(mean_t_arr1)))\n",
    "e_tw =(exp(-(alpha-beta)*time1))*np.ones(n)\n",
    "ett_mean_t_arr1 = (1.0/(alpha - beta))*(e_tw - e_t)"
   ]
  },
  {
   "cell_type": "code",
   "execution_count": 13,
   "metadata": {},
   "outputs": [
    {
     "data": {
      "text/plain": [
       "array([1.19377657e-10, 1.70125484e-10, 2.42446183e-10, 3.45510715e-10,\n",
       "       4.92388298e-10, 7.01703767e-10, 9.99999955e-10, 1.42510259e-09,\n",
       "       2.03091759e-09, 2.89426607e-09, 4.12462628e-09, 5.87801586e-09,\n",
       "       8.37677602e-09, 1.19377658e-08, 1.70125415e-08, 2.42446175e-08,\n",
       "       3.45510675e-08, 4.92388151e-08, 7.01703601e-08, 9.99999540e-08,\n",
       "       1.42510173e-07, 2.03091572e-07, 2.89426227e-07, 4.12461855e-07,\n",
       "       5.87800016e-07, 8.37674409e-07, 1.19377008e-06, 1.70124095e-06,\n",
       "       2.42443495e-06, 3.45505232e-06, 4.92377098e-06, 7.01681154e-06,\n",
       "       9.99953950e-06, 1.42500915e-05, 2.03072769e-05, 2.89388039e-05,\n",
       "       4.12384303e-05, 5.87642522e-05, 8.37354577e-05])"
      ]
     },
     "execution_count": 13,
     "metadata": {},
     "output_type": "execute_result"
    }
   ],
   "source": [
    "ett_mean_t_arr1"
   ]
  },
  {
   "cell_type": "code",
   "execution_count": 14,
   "metadata": {},
   "outputs": [],
   "source": [
    "mean_t_arr2=mean_t_arr+(np.ones(n)*time2)\n",
    "e_t=(np.exp(-(alpha-beta)*(mean_t_arr2)))\n",
    "e_tw =(exp(-(alpha-beta)*time2))*np.ones(n)\n",
    "ett_mean_t_arr2 = (1.0/(alpha - beta))*(e_tw - e_t)"
   ]
  },
  {
   "cell_type": "code",
   "execution_count": 15,
   "metadata": {},
   "outputs": [
    {
     "data": {
      "text/plain": [
       "array([1.19377755e-12, 1.70125296e-12, 2.42446192e-12, 3.45510809e-12,\n",
       "       4.92388112e-12, 7.01703867e-12, 9.99999858e-12, 1.42510279e-11,\n",
       "       2.03091760e-11, 2.89426608e-11, 4.12462637e-11, 5.87801587e-11,\n",
       "       8.37677602e-11, 1.19377657e-10, 1.70125414e-10, 2.42446174e-10,\n",
       "       3.45510673e-10, 4.92388150e-10, 7.01703601e-10, 9.99999539e-10,\n",
       "       1.42510173e-09, 2.03091572e-09, 2.89426227e-09, 4.12461855e-09,\n",
       "       5.87800016e-09, 8.37674409e-09, 1.19377008e-08, 1.70124095e-08,\n",
       "       2.42443495e-08, 3.45505232e-08, 4.92377098e-08, 7.01681154e-08,\n",
       "       9.99953950e-08, 1.42500915e-07, 2.03072769e-07, 2.89388039e-07,\n",
       "       4.12384303e-07, 5.87642522e-07, 8.37354577e-07])"
      ]
     },
     "execution_count": 15,
     "metadata": {},
     "output_type": "execute_result"
    }
   ],
   "source": [
    "ett_mean_t_arr2"
   ]
  },
  {
   "cell_type": "code",
   "execution_count": null,
   "metadata": {},
   "outputs": [],
   "source": []
  },
  {
   "cell_type": "code",
   "execution_count": 16,
   "metadata": {},
   "outputs": [],
   "source": [
    "mean_t_arr3=mean_t_arr+(np.ones(n)*time3)\n",
    "e_t=(np.exp(-(alpha-beta)*(mean_t_arr3)))\n",
    "e_tw =(exp(-(alpha-beta)*time3))*np.ones(n)\n",
    "ett_mean_t_arr3 = (1.0/(alpha - beta))*(e_tw - e_t)"
   ]
  },
  {
   "cell_type": "code",
   "execution_count": 17,
   "metadata": {},
   "outputs": [
    {
     "data": {
      "text/plain": [
       "array([1.19377755e-14, 1.70125499e-14, 2.42446197e-14, 3.45510824e-14,\n",
       "       4.92388105e-14, 7.01703870e-14, 9.99999870e-14, 1.42510259e-13,\n",
       "       2.03091760e-13, 2.89426608e-13, 4.12462637e-13, 5.87801567e-13,\n",
       "       8.37677603e-13, 1.19377658e-12, 1.70125415e-12, 2.42446176e-12,\n",
       "       3.45510675e-12, 4.92388152e-12, 7.01703601e-12, 9.99999539e-12,\n",
       "       1.42510173e-11, 2.03091572e-11, 2.89426227e-11, 4.12461855e-11,\n",
       "       5.87800016e-11, 8.37674409e-11, 1.19377008e-10, 1.70124095e-10,\n",
       "       2.42443495e-10, 3.45505232e-10, 4.92377098e-10, 7.01681154e-10,\n",
       "       9.99953950e-10, 1.42500915e-09, 2.03072769e-09, 2.89388039e-09,\n",
       "       4.12384303e-09, 5.87642522e-09, 8.37354577e-09])"
      ]
     },
     "execution_count": 17,
     "metadata": {},
     "output_type": "execute_result"
    }
   ],
   "source": [
    "ett_mean_t_arr3"
   ]
  },
  {
   "cell_type": "code",
   "execution_count": 18,
   "metadata": {},
   "outputs": [
    {
     "data": {
      "image/png": "[encoded data removed]",
      "text/plain": [
       "<Figure size 432x288 with 1 Axes>"
      ]
     },
     "metadata": {
      "needs_background": "light"
     },
     "output_type": "display_data"
    }
   ],
   "source": [
    "plt.plot(ett_mean_t_arr1,msd_yarr,'ro-')\n",
    "plt.plot(ett_mean_t_arr2,msd_zarr,'co-')\n",
    "plt.plot(ett_mean_t_arr3,msd_warr,'mo-')\n",
    "#plt.plot(mean_t_arr,msd_zarr*1e18,'co-')\n",
    "\n",
    "\n",
    "plt.ylabel(r'$<\\Delta x^2>,<\\Delta y^2> \\ \\  (nm^2)$',size=15)\n",
    "plt.xlabel(r'$\\tau  (s)$',size=20)\n",
    "\n",
    "\n",
    "plt.xscale('log')\n",
    "plt.yscale('log')\n",
    "#plt.savefig('mvm_iso_x_y_long.png')\n",
    "\n",
    "plt.show()\n",
    "\n"
   ]
  },
  {
   "cell_type": "code",
   "execution_count": 48,
   "metadata": {},
   "outputs": [
    {
     "data": {
      "text/plain": [
       "90.65162875592914"
      ]
     },
     "execution_count": 48,
     "metadata": {},
     "output_type": "execute_result"
    }
   ],
   "source": [
    "(msd_yarr[0])/(msd_zarr[7])"
   ]
  },
  {
   "cell_type": "code",
   "execution_count": 49,
   "metadata": {},
   "outputs": [
    {
     "data": {
      "text/plain": [
       "5.944441797381286e-26"
      ]
     },
     "execution_count": 49,
     "metadata": {},
     "output_type": "execute_result"
    }
   ],
   "source": [
    "msd_zarr[7]"
   ]
  },
  {
   "cell_type": "code",
   "execution_count": 20,
   "metadata": {},
   "outputs": [
    {
     "data": {
      "image/png": "[encoded data removed]",
      "text/plain": [
       "<Figure size 432x288 with 1 Axes>"
      ]
     },
     "metadata": {
      "needs_background": "light"
     },
     "output_type": "display_data"
    }
   ],
   "source": [
    "plt.plot(ett_mean_t_arr1,msd_yarr,'r<')\n",
    "plt.plot(ett_mean_t_arr2,msd_zarr*10,'c<')\n",
    "plt.plot(ett_mean_t_arr3,msd_warr*100,'m*')\n",
    "\n",
    "\n",
    "plt.ylabel(r'$<\\Delta x^2>,<\\Delta y^2> \\ \\  (nm^2)$',size=15)\n",
    "plt.xlabel(r'$\\tau  (s)$',size=20)\n",
    "\n",
    "'''plt.ticklabel_format(style='sci', axis='x', scilimits=(-2,6))\n",
    "plt.ticklabel_format(style='sci', axis='y', scilimits=(-8,6))'''\n",
    "\n",
    "plt.xscale('log')\n",
    "plt.yscale('log')\n",
    "#plt.savefig('mvm_iso_x_y_long.png')\n",
    "\n",
    "plt.show()\n",
    "\n",
    "\n"
   ]
  },
  {
   "cell_type": "code",
   "execution_count": 17,
   "metadata": {},
   "outputs": [
    {
     "data": {
      "image/png": "[encoded data removed]",
      "text/plain": [
       "<Figure size 432x288 with 1 Axes>"
      ]
     },
     "metadata": {
      "needs_background": "light"
     },
     "output_type": "display_data"
    }
   ],
   "source": [
    "#plt.plot(mean_t_arr,msd_xarr*1e18,'bo-')\n",
    "plt.plot(mean_t_arr,msd_yarr*1e18,'ro-')\n",
    "plt.plot(mean_t_arr,msd_zarr*1e18,'co-')\n",
    "\n",
    "\n",
    "plt.ylabel(r'$<\\Delta x^2>,<\\Delta y^2> \\ \\  (nm^2)$',size=15)\n",
    "plt.xlabel(r'$\\tau  (s)$',size=20)\n",
    "\n",
    "'''plt.ticklabel_format(style='sci', axis='x', scilimits=(-2,6))\n",
    "plt.ticklabel_format(style='sci', axis='y', scilimits=(-8,6))'''\n",
    "\n",
    "plt.xscale('log')\n",
    "plt.yscale('log')\n",
    "#plt.savefig('mvm_iso_x_y_long.png')\n",
    "\n",
    "plt.show()"
   ]
  },
  {
   "cell_type": "code",
   "execution_count": null,
   "metadata": {},
   "outputs": [],
   "source": []
  }
 ],
 "metadata": {
  "kernelspec": {
   "display_name": "Python 3",
   "language": "python",
   "name": "python3"
  },
  "language_info": {
   "codemirror_mode": {
    "name": "ipython",
    "version": 3
   },
   "file_extension": ".py",
   "mimetype": "text/x-python",
   "name": "python",
   "nbconvert_exporter": "python",
   "pygments_lexer": "ipython3",
   "version": "3.7.3"
  }
 },
 "nbformat": 4,
 "nbformat_minor": 2
}
