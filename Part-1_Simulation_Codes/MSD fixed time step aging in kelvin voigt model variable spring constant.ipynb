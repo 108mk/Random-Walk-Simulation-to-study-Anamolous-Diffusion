{
 "cells": [
  {
   "cell_type": "code",
   "execution_count": 1,
   "metadata": {},
   "outputs": [
    {
     "data": {
      "text/plain": [
       "<Figure size 432x288 with 0 Axes>"
      ]
     },
     "metadata": {},
     "output_type": "display_data"
    }
   ],
   "source": [
    "import numpy as np\n",
    "from math import *\n",
    "from random import *\n",
    "import matplotlib.pyplot as plt\n",
    "from pylab import rcParams\n",
    "from datetime import datetime\n",
    "fig = plt.figure()\n",
    "time1=datetime.now().strftime('%Y-%m-%d %H:%M:%S')"
   ]
  },
  {
   "cell_type": "code",
   "execution_count": 2,
   "metadata": {},
   "outputs": [],
   "source": [
    "x_arr0 = np.loadtxt('98.txt')                                      #all elements are in micron\n",
    "y_arr0 = np.loadtxt('99.txt')                                       #all elements are in micron\n",
    "t_arr0 = np.loadtxt('100.txt')"
   ]
  },
  {
   "cell_type": "code",
   "execution_count": 3,
   "metadata": {},
   "outputs": [],
   "source": [
    "x_arr1 = np.loadtxt('101.txt')                                      #all elements are in micron\n",
    "y_arr1 = np.loadtxt('102.txt')                                       #all elements are in micron\n",
    "t_arr1 = np.loadtxt('103.txt')"
   ]
  },
  {
   "cell_type": "code",
   "execution_count": 4,
   "metadata": {},
   "outputs": [],
   "source": [
    "x_arr2 = np.loadtxt('104.txt')                                      #all elements are in micron\n",
    "y_arr2 = np.loadtxt('105.txt')                                       #all elements are in micron\n",
    "t_arr2 = np.loadtxt('106.txt')"
   ]
  },
  {
   "cell_type": "code",
   "execution_count": 5,
   "metadata": {},
   "outputs": [],
   "source": [
    "x_arr3 = np.loadtxt('107.txt')                                      #all elements are in micron\n",
    "y_arr3 = np.loadtxt('108.txt')                                       #all elements are in micron\n",
    "t_arr3 = np.loadtxt('109.txt')"
   ]
  },
  {
   "cell_type": "code",
   "execution_count": 6,
   "metadata": {},
   "outputs": [],
   "source": [
    "x_arr4 = np.loadtxt('110.txt')                                      #all elements are in micron\n",
    "y_arr4 = np.loadtxt('111.txt')                                       #all elements are in micron\n",
    "t_arr4 = np.loadtxt('112.txt')"
   ]
  },
  {
   "cell_type": "code",
   "execution_count": 7,
   "metadata": {},
   "outputs": [
    {
     "data": {
      "text/plain": [
       "60001"
      ]
     },
     "execution_count": 7,
     "metadata": {},
     "output_type": "execute_result"
    }
   ],
   "source": [
    "len(x_arr1)"
   ]
  },
  {
   "cell_type": "code",
   "execution_count": 8,
   "metadata": {},
   "outputs": [],
   "source": [
    "x_arr =[]\n",
    "y_arr =[]\n",
    "t_arr =[]"
   ]
  },
  {
   "cell_type": "code",
   "execution_count": 9,
   "metadata": {},
   "outputs": [],
   "source": [
    "x_arr=x_arr0                               \n",
    "y_arr=y_arr0                                     \n",
    "t_arr=t_arr0 "
   ]
  },
  {
   "cell_type": "code",
   "execution_count": 10,
   "metadata": {},
   "outputs": [],
   "source": [
    "# -------------------------Mean square displacent function and Time lag----------------------- \n",
    "import statistics as stat\n",
    "from numba import jit\n",
    "\n",
    "@jit\n",
    "def msd_1d(x):\n",
    "    result = np.zeros_like(x)\n",
    "    for delta in range(1,len(x)):\n",
    "        thisresult = 0\n",
    "        for i in range(delta,len(x)):\n",
    "            thisresult += (x[i] - x[i-delta])**2\n",
    "        result[delta] = thisresult / (len(x) - delta)\n",
    "    return result"
   ]
  },
  {
   "cell_type": "code",
   "execution_count": 11,
   "metadata": {},
   "outputs": [],
   "source": [
    "# ---------------------------mean square displacement  in X---------- \n",
    "arr_msd_x =[]\n",
    "arr_msd_x = msd_1d(x_arr)\n"
   ]
  },
  {
   "cell_type": "code",
   "execution_count": 12,
   "metadata": {},
   "outputs": [],
   "source": [
    "# ---------------------------mean square displacement  in Y---------- \n",
    "arr_msd_y =[]\n",
    "arr_msd_y = msd_1d(y_arr)\n"
   ]
  },
  {
   "cell_type": "code",
   "execution_count": 13,
   "metadata": {},
   "outputs": [
    {
     "data": {
      "text/plain": [
       "60001"
      ]
     },
     "execution_count": 13,
     "metadata": {},
     "output_type": "execute_result"
    }
   ],
   "source": [
    "len(arr_msd_x)"
   ]
  },
  {
   "cell_type": "code",
   "execution_count": 14,
   "metadata": {},
   "outputs": [
    {
     "data": {
      "text/plain": [
       "\"np.savetxt('msd_x_iso.txt',msd_xarr)\\nnp.savetxt('msd_y_iso.txt',msd_yarr)\\nnp.savetxt('msd_r_iso.txt',msd_rarr)\\nnp.savetxt('t_arr_formsd_iso.txt',mean_t_arr)\\nnp.savetxt('counterarray.txt',counterarray)\""
      ]
     },
     "execution_count": 14,
     "metadata": {},
     "output_type": "execute_result"
    }
   ],
   "source": [
    "'''np.savetxt('msd_x_iso.txt',msd_xarr)\n",
    "np.savetxt('msd_y_iso.txt',msd_yarr)\n",
    "np.savetxt('msd_r_iso.txt',msd_rarr)\n",
    "np.savetxt('t_arr_formsd_iso.txt',mean_t_arr)\n",
    "np.savetxt('counterarray.txt',counterarray)'''"
   ]
  },
  {
   "cell_type": "code",
   "execution_count": 15,
   "metadata": {},
   "outputs": [],
   "source": [
    "msd_xarr0 = np.array(arr_msd_x)\n",
    "msd_yarr0 = np.array(arr_msd_y)"
   ]
  },
  {
   "cell_type": "code",
   "execution_count": null,
   "metadata": {},
   "outputs": [],
   "source": []
  },
  {
   "cell_type": "code",
   "execution_count": 16,
   "metadata": {},
   "outputs": [],
   "source": [
    "x_arr =[]\n",
    "y_arr =[]\n",
    "t_arr =[]"
   ]
  },
  {
   "cell_type": "code",
   "execution_count": 17,
   "metadata": {},
   "outputs": [],
   "source": [
    "x_arr=x_arr1                               \n",
    "y_arr=y_arr1                                     \n",
    "t_arr=t_arr1 "
   ]
  },
  {
   "cell_type": "code",
   "execution_count": 18,
   "metadata": {},
   "outputs": [],
   "source": [
    "# ---------------------------mean square displacement  in X---------- \n",
    "arr_msd_x =[]\n",
    "arr_msd_x = msd_1d(x_arr)"
   ]
  },
  {
   "cell_type": "code",
   "execution_count": 19,
   "metadata": {},
   "outputs": [],
   "source": [
    "# ---------------------------mean square displacement  in Y---------- \n",
    "arr_msd_y =[]\n",
    "arr_msd_y = msd_1d(y_arr)"
   ]
  },
  {
   "cell_type": "code",
   "execution_count": 20,
   "metadata": {},
   "outputs": [],
   "source": [
    "msd_xarr1 = np.array(arr_msd_x)\n",
    "msd_yarr1 = np.array(arr_msd_y)"
   ]
  },
  {
   "cell_type": "code",
   "execution_count": null,
   "metadata": {},
   "outputs": [],
   "source": []
  },
  {
   "cell_type": "code",
   "execution_count": 21,
   "metadata": {},
   "outputs": [],
   "source": [
    "x_arr =[]\n",
    "y_arr =[]\n",
    "t_arr =[]"
   ]
  },
  {
   "cell_type": "code",
   "execution_count": 22,
   "metadata": {},
   "outputs": [],
   "source": [
    "x_arr=x_arr2                               \n",
    "y_arr=y_arr2                                     \n",
    "t_arr=t_arr2"
   ]
  },
  {
   "cell_type": "code",
   "execution_count": 23,
   "metadata": {},
   "outputs": [],
   "source": [
    "# ---------------------------mean square displacement  in Y---------- \n",
    "arr_msd_x =[]\n",
    "arr_msd_x = msd_1d(x_arr)"
   ]
  },
  {
   "cell_type": "code",
   "execution_count": 24,
   "metadata": {},
   "outputs": [],
   "source": [
    "# ---------------------------mean square displacement  in Y---------- \n",
    "arr_msd_y =[]\n",
    "arr_msd_y = msd_1d(y_arr)"
   ]
  },
  {
   "cell_type": "code",
   "execution_count": 25,
   "metadata": {},
   "outputs": [],
   "source": [
    "msd_xarr2 = np.array(arr_msd_x)\n",
    "msd_yarr2 = np.array(arr_msd_y)"
   ]
  },
  {
   "cell_type": "code",
   "execution_count": null,
   "metadata": {},
   "outputs": [],
   "source": []
  },
  {
   "cell_type": "code",
   "execution_count": 26,
   "metadata": {},
   "outputs": [],
   "source": [
    "x_arr =[]\n",
    "y_arr =[]\n",
    "t_arr =[]"
   ]
  },
  {
   "cell_type": "code",
   "execution_count": 27,
   "metadata": {},
   "outputs": [],
   "source": [
    "x_arr=x_arr3                               \n",
    "y_arr=y_arr3                                     \n",
    "t_arr=t_arr3"
   ]
  },
  {
   "cell_type": "code",
   "execution_count": 28,
   "metadata": {},
   "outputs": [],
   "source": [
    "# ---------------------------mean square displacement  in Y---------- \n",
    "arr_msd_x =[]\n",
    "arr_msd_x = msd_1d(x_arr)"
   ]
  },
  {
   "cell_type": "code",
   "execution_count": 29,
   "metadata": {},
   "outputs": [],
   "source": [
    "# ---------------------------mean square displacement  in Y---------- \n",
    "arr_msd_y =[]\n",
    "arr_msd_y = msd_1d(y_arr)"
   ]
  },
  {
   "cell_type": "code",
   "execution_count": 30,
   "metadata": {},
   "outputs": [],
   "source": [
    "msd_xarr3 = np.array(arr_msd_x)\n",
    "msd_yarr3 = np.array(arr_msd_y)"
   ]
  },
  {
   "cell_type": "code",
   "execution_count": null,
   "metadata": {},
   "outputs": [],
   "source": []
  },
  {
   "cell_type": "code",
   "execution_count": 31,
   "metadata": {},
   "outputs": [],
   "source": [
    "x_arr =[]\n",
    "y_arr =[]\n",
    "t_arr =[]"
   ]
  },
  {
   "cell_type": "code",
   "execution_count": 32,
   "metadata": {},
   "outputs": [],
   "source": [
    "x_arr=x_arr4                               \n",
    "y_arr=y_arr4                                     \n",
    "t_arr=t_arr4"
   ]
  },
  {
   "cell_type": "code",
   "execution_count": 33,
   "metadata": {},
   "outputs": [],
   "source": [
    "# ---------------------------mean square displacement  in Y---------- \n",
    "arr_msd_x =[]\n",
    "arr_msd_x = msd_1d(x_arr)"
   ]
  },
  {
   "cell_type": "code",
   "execution_count": 34,
   "metadata": {},
   "outputs": [],
   "source": [
    "# ---------------------------mean square displacement  in Y---------- \n",
    "arr_msd_y =[]\n",
    "arr_msd_y = msd_1d(y_arr)"
   ]
  },
  {
   "cell_type": "code",
   "execution_count": 35,
   "metadata": {},
   "outputs": [],
   "source": [
    "msd_xarr4 = np.array(arr_msd_x)\n",
    "msd_yarr4 = np.array(arr_msd_y)"
   ]
  },
  {
   "cell_type": "code",
   "execution_count": null,
   "metadata": {},
   "outputs": [],
   "source": []
  },
  {
   "cell_type": "code",
   "execution_count": null,
   "metadata": {},
   "outputs": [],
   "source": []
  },
  {
   "cell_type": "code",
   "execution_count": 36,
   "metadata": {},
   "outputs": [],
   "source": [
    "delta_t = 1e-3  # time step length\n",
    "end_t = 60    #maximum time to run dynamics\n",
    "t_step = np.arange(0,end_t,delta_t) # creating intervals \n",
    "n = len(t_step)"
   ]
  },
  {
   "cell_type": "code",
   "execution_count": 37,
   "metadata": {},
   "outputs": [],
   "source": [
    "len(t_step)\n",
    "mean_t_arr=t_step"
   ]
  },
  {
   "cell_type": "code",
   "execution_count": 38,
   "metadata": {},
   "outputs": [
    {
     "data": {
      "text/plain": [
       "60000"
      ]
     },
     "execution_count": 38,
     "metadata": {},
     "output_type": "execute_result"
    }
   ],
   "source": [
    "len(t_step)"
   ]
  },
  {
   "cell_type": "code",
   "execution_count": 38,
   "metadata": {},
   "outputs": [
    {
     "data": {
      "image/png": "[encoded data removed]",
      "text/plain": [
       "<Figure size 432x288 with 1 Axes>"
      ]
     },
     "metadata": {
      "needs_background": "light"
     },
     "output_type": "display_data"
    }
   ],
   "source": [
    "\n",
    "\n",
    "\n",
    "plt.plot(mean_t_arr[:16000],(msd_xarr0*1e12)[:16000],'c*')\n",
    "plt.plot(mean_t_arr[:16000],(msd_xarr1*1e12)[:16000],'b.')\n",
    "plt.plot(mean_t_arr[:16000],(msd_xarr2*1e12)[:16000],'g.')\n",
    "plt.plot(mean_t_arr[:16000],(msd_xarr3*1e12)[:16000],'r.')\n",
    "plt.plot(mean_t_arr[:16000],(msd_xarr4*1e12)[:16000],'y.')\n",
    "plt.ylabel(r'$<\\Delta x^2>,<\\Delta y^2> \\ \\  (nm^2)$',size=15)\n",
    "plt.xlabel(r'$\\tau  (s)$',size=20)\n",
    "plt.xscale('log')\n",
    "plt.yscale('log')\n",
    "#plt.savefig('mvm_iso_x_y_long.png')\n",
    "plt.show()"
   ]
  },
  {
   "cell_type": "code",
   "execution_count": 87,
   "metadata": {},
   "outputs": [
    {
     "data": {
      "image/png": "[encoded data removed]",
      "text/plain": [
       "<Figure size 504x432 with 1 Axes>"
      ]
     },
     "metadata": {
      "needs_background": "light"
     },
     "output_type": "display_data"
    }
   ],
   "source": [
    "from pylab import rcParams\n",
    "rcParams ['figure.figsize']=7,6\n",
    "\n",
    "\n",
    "plt.plot(mean_t_arr[:60000],(msd_xarr0*1e12)[:60000],'k*')\n",
    "plt.plot(mean_t_arr[:60000],(msd_xarr1*1e12)[:60000],'bD')\n",
    "plt.plot(mean_t_arr[:60000],(msd_xarr2*1e12)[:60000],'m<')\n",
    "plt.plot(mean_t_arr[:60000],(msd_xarr3*1e12)[:60000],'r>')\n",
    "plt.plot(mean_t_arr[:60000],(msd_xarr4*1e12)[:60000],'g.')\n",
    "plt.ylabel(r'$<R^2>\\ \\  [nm^2]$',size=15)\n",
    "plt.xlabel(r'$\\tau  (s)$',size=20)\n",
    "plt.xscale('log')\n",
    "plt.yscale('log')\n",
    "#plt.savefig('mvm_iso_x_y_long.png')\n",
    "plt.show()"
   ]
  },
  {
   "cell_type": "code",
   "execution_count": 39,
   "metadata": {},
   "outputs": [
    {
     "data": {
      "image/png": "[encoded data removed]",
      "text/plain": [
       "<Figure size 504x432 with 1 Axes>"
      ]
     },
     "metadata": {
      "needs_background": "light"
     },
     "output_type": "display_data"
    }
   ],
   "source": [
    "from pylab import rcParams\n",
    "rcParams ['figure.figsize']=7,6\n",
    "\n",
    "\n",
    "plt.plot(mean_t_arr[:60000],(msd_xarr0*1e12)[:60000],'c*', label=r'$t_w = 1200 s$')\n",
    "plt.plot(mean_t_arr[:60000],(msd_xarr1*1e12)[:60000],'bD', label=r'$t_w = 1800 s$')\n",
    "plt.plot(mean_t_arr[:60000],(msd_xarr2*1e12)[:60000],'g<', label=r'$t_w = 2400 s$')\n",
    "plt.plot(mean_t_arr[:60000],(msd_xarr3*1e12)[:60000],'r>', label=r'$t_w = 3000 s$')\n",
    "plt.plot(mean_t_arr[:60000],(msd_xarr4*1e12)[:60000],'y.', label=r'$t_w = 3600 s$')\n",
    "plt.ylabel(r'$<R^2>\\ \\  [\\mu m^2]$',size=15)\n",
    "plt.xlabel(r'$t-t_w  \\ [s]$',size=20)\n",
    "plt.legend(loc=\"upper left\")\n",
    "plt.xscale('log')\n",
    "plt.yscale('log')\n",
    "#plt.savefig('mvm_iso_x_y_long.png')\n",
    "plt.show()"
   ]
  },
  {
   "cell_type": "code",
   "execution_count": 39,
   "metadata": {},
   "outputs": [
    {
     "data": {
      "text/plain": [
       "\"plt.plot(mean_t_arr,msd_rarr*1e18,'go-')\\nplt.ylabel(r'$<\\\\Delta r^2> \\\\ \\\\  (nm^2)$',size=20)\\nplt.xlabel(r'$\\tau  (s)$',size=20)\\nplt.xscale('log')\\nplt.yscale('log')\\n#plt.savefig('mvm_iso_long.png')\\nplt.show()\""
      ]
     },
     "execution_count": 39,
     "metadata": {},
     "output_type": "execute_result"
    }
   ],
   "source": [
    "'''plt.plot(mean_t_arr,msd_rarr*1e18,'go-')\n",
    "plt.ylabel(r'$<\\Delta r^2> \\ \\  (nm^2)$',size=20)\n",
    "plt.xlabel(r'$\\tau  (s)$',size=20)\n",
    "plt.xscale('log')\n",
    "plt.yscale('log')\n",
    "#plt.savefig('mvm_iso_long.png')\n",
    "plt.show()'''"
   ]
  },
  {
   "cell_type": "code",
   "execution_count": 40,
   "metadata": {},
   "outputs": [
    {
     "data": {
      "text/plain": [
       "'import numpy\\na = numpy.asarray([ mean_t_arr, msd_rarr, msd_xarr, msd_yarr])\\nindex = [\\'time\\', \\'msd_r\\', \\'msd_x\\', \\'msd_y\\']\\n\\nimport pandas as pd\\ndf_a = pd.DataFrame(a, index)\\ndf_a_tp = pd.DataFrame.transpose(df_a)\\n\\nnumpy.savetxt(\"mvm_vts_iso_2.csv\", df_a_tp, delimiter=\",\")'"
      ]
     },
     "execution_count": 40,
     "metadata": {},
     "output_type": "execute_result"
    }
   ],
   "source": [
    "'''import numpy\n",
    "a = numpy.asarray([ mean_t_arr, msd_rarr, msd_xarr, msd_yarr])\n",
    "index = ['time', 'msd_r', 'msd_x', 'msd_y']\n",
    "\n",
    "import pandas as pd\n",
    "df_a = pd.DataFrame(a, index)\n",
    "df_a_tp = pd.DataFrame.transpose(df_a)\n",
    "\n",
    "numpy.savetxt(\"mvm_vts_iso_2.csv\", df_a_tp, delimiter=\",\")'''"
   ]
  },
  {
   "cell_type": "code",
   "execution_count": null,
   "metadata": {},
   "outputs": [],
   "source": []
  },
  {
   "cell_type": "code",
   "execution_count": 41,
   "metadata": {},
   "outputs": [],
   "source": [
    "# ----------EFFECTIVE TIME THEORY---------------"
   ]
  },
  {
   "cell_type": "code",
   "execution_count": 66,
   "metadata": {},
   "outputs": [],
   "source": [
    "\n",
    "alpha = log(10)/1000\n",
    "beta = 0"
   ]
  },
  {
   "cell_type": "code",
   "execution_count": 67,
   "metadata": {},
   "outputs": [],
   "source": [
    "time = 0\n",
    "\n",
    "time0=1200\n",
    "time1=1800\n",
    "time2=2400\n",
    "time3=3000\n",
    "time4=3600"
   ]
  },
  {
   "cell_type": "code",
   "execution_count": null,
   "metadata": {},
   "outputs": [],
   "source": []
  },
  {
   "cell_type": "code",
   "execution_count": 68,
   "metadata": {},
   "outputs": [],
   "source": [
    "mean_t_arr0=mean_t_arr+(np.ones(n)*time0)\n",
    "e_t=(np.exp(-(alpha-beta)*(mean_t_arr0)))\n",
    "e_tw =(exp(-(alpha-beta)*time0))*np.ones(n)\n",
    "ett_mean_t_arr0 = (1.0/(alpha - beta))*(e_tw - e_t)"
   ]
  },
  {
   "cell_type": "code",
   "execution_count": 69,
   "metadata": {},
   "outputs": [
    {
     "data": {
      "text/plain": [
       "array([0.00000000e+00, 6.30956618e-05, 1.26191178e-04, ...,\n",
       "       3.53570753e+00, 3.53576248e+00, 3.53581744e+00])"
      ]
     },
     "execution_count": 69,
     "metadata": {},
     "output_type": "execute_result"
    }
   ],
   "source": [
    "ett_mean_t_arr0"
   ]
  },
  {
   "cell_type": "code",
   "execution_count": null,
   "metadata": {},
   "outputs": [],
   "source": []
  },
  {
   "cell_type": "code",
   "execution_count": 70,
   "metadata": {},
   "outputs": [],
   "source": [
    "mean_t_arr1=mean_t_arr+(np.ones(n)*time1)"
   ]
  },
  {
   "cell_type": "code",
   "execution_count": 71,
   "metadata": {},
   "outputs": [],
   "source": [
    "e_t=(np.exp(-(alpha-beta)*(mean_t_arr1)))"
   ]
  },
  {
   "cell_type": "code",
   "execution_count": 72,
   "metadata": {},
   "outputs": [],
   "source": [
    "e_tw =(exp(-(alpha-beta)*time1))*np.ones(n)"
   ]
  },
  {
   "cell_type": "code",
   "execution_count": 73,
   "metadata": {},
   "outputs": [],
   "source": [
    "ett_mean_t_arr1 = (1.0/(alpha - beta))*(e_tw - e_t)"
   ]
  },
  {
   "cell_type": "code",
   "execution_count": 74,
   "metadata": {},
   "outputs": [
    {
     "data": {
      "text/plain": [
       "array([0.00000000e+00, 1.58489137e-05, 3.16977909e-05, ...,\n",
       "       8.88129577e-01, 8.88143381e-01, 8.88157185e-01])"
      ]
     },
     "execution_count": 74,
     "metadata": {},
     "output_type": "execute_result"
    }
   ],
   "source": [
    "ett_mean_t_arr1"
   ]
  },
  {
   "cell_type": "code",
   "execution_count": null,
   "metadata": {},
   "outputs": [],
   "source": []
  },
  {
   "cell_type": "code",
   "execution_count": 75,
   "metadata": {},
   "outputs": [],
   "source": [
    "mean_t_arr2=mean_t_arr+(np.ones(n)*time2)"
   ]
  },
  {
   "cell_type": "code",
   "execution_count": 76,
   "metadata": {},
   "outputs": [],
   "source": [
    "e_t=(np.exp(-(alpha-beta)*(mean_t_arr2)))"
   ]
  },
  {
   "cell_type": "code",
   "execution_count": 77,
   "metadata": {},
   "outputs": [],
   "source": [
    "e_tw =(exp(-(alpha-beta)*time2))*np.ones(n)"
   ]
  },
  {
   "cell_type": "code",
   "execution_count": 78,
   "metadata": {},
   "outputs": [],
   "source": [
    "ett_mean_t_arr2 = (1.0/(alpha - beta))*(e_tw - e_t)"
   ]
  },
  {
   "cell_type": "code",
   "execution_count": 79,
   "metadata": {},
   "outputs": [
    {
     "data": {
      "text/plain": [
       "array([0.00000000e+00, 3.98106712e-06, 7.96212508e-06, ...,\n",
       "       2.23088063e-01, 2.23091531e-01, 2.23094998e-01])"
      ]
     },
     "execution_count": 79,
     "metadata": {},
     "output_type": "execute_result"
    }
   ],
   "source": [
    "ett_mean_t_arr2"
   ]
  },
  {
   "cell_type": "code",
   "execution_count": null,
   "metadata": {},
   "outputs": [],
   "source": []
  },
  {
   "cell_type": "code",
   "execution_count": 80,
   "metadata": {},
   "outputs": [],
   "source": [
    "mean_t_arr3=mean_t_arr+(np.ones(n)*time3)"
   ]
  },
  {
   "cell_type": "code",
   "execution_count": 81,
   "metadata": {},
   "outputs": [],
   "source": [
    "e_t=(np.exp(-(alpha-beta)*(mean_t_arr3)))"
   ]
  },
  {
   "cell_type": "code",
   "execution_count": 82,
   "metadata": {},
   "outputs": [],
   "source": [
    "e_tw =(exp(-(alpha-beta)*time3))*np.ones(n)"
   ]
  },
  {
   "cell_type": "code",
   "execution_count": 83,
   "metadata": {},
   "outputs": [],
   "source": [
    "ett_mean_t_arr3 = (1.0/(alpha - beta))*(e_tw - e_t)"
   ]
  },
  {
   "cell_type": "code",
   "execution_count": 84,
   "metadata": {},
   "outputs": [
    {
     "data": {
      "text/plain": [
       "array([0.00000000e+00, 9.99998849e-07, 1.99999539e-06, ...,\n",
       "       5.60371879e-02, 5.60380589e-02, 5.60389299e-02])"
      ]
     },
     "execution_count": 84,
     "metadata": {},
     "output_type": "execute_result"
    }
   ],
   "source": [
    "ett_mean_t_arr3"
   ]
  },
  {
   "cell_type": "code",
   "execution_count": null,
   "metadata": {},
   "outputs": [],
   "source": []
  },
  {
   "cell_type": "code",
   "execution_count": 85,
   "metadata": {},
   "outputs": [],
   "source": [
    "mean_t_arr4=mean_t_arr+(np.ones(n)*time4)"
   ]
  },
  {
   "cell_type": "code",
   "execution_count": 86,
   "metadata": {},
   "outputs": [],
   "source": [
    "e_t=(np.exp(-(alpha-beta)*(mean_t_arr4)))"
   ]
  },
  {
   "cell_type": "code",
   "execution_count": 87,
   "metadata": {},
   "outputs": [],
   "source": [
    "e_tw =(exp(-(alpha-beta)*time4))*np.ones(n)"
   ]
  },
  {
   "cell_type": "code",
   "execution_count": 88,
   "metadata": {},
   "outputs": [],
   "source": [
    "ett_mean_t_arr4 = (1.0/(alpha - beta))*(e_tw - e_t)"
   ]
  },
  {
   "cell_type": "code",
   "execution_count": 89,
   "metadata": {},
   "outputs": [
    {
     "data": {
      "text/plain": [
       "array([0.00000000e+00, 2.51188354e-07, 5.02376129e-07, ...,\n",
       "       1.40759052e-02, 1.40761240e-02, 1.40763428e-02])"
      ]
     },
     "execution_count": 89,
     "metadata": {},
     "output_type": "execute_result"
    }
   ],
   "source": [
    "ett_mean_t_arr4"
   ]
  },
  {
   "cell_type": "code",
   "execution_count": null,
   "metadata": {},
   "outputs": [],
   "source": []
  },
  {
   "cell_type": "code",
   "execution_count": 90,
   "metadata": {
    "scrolled": false
   },
   "outputs": [
    {
     "data": {
      "image/png": "[encoded data removed]",
      "text/plain": [
       "<Figure size 504x432 with 1 Axes>"
      ]
     },
     "metadata": {
      "needs_background": "light"
     },
     "output_type": "display_data"
    }
   ],
   "source": [
    "plt.plot(ett_mean_t_arr0[:16000],(msd_xarr0*1e12)[:16000],'c.')\n",
    "plt.plot(ett_mean_t_arr1[:16000],(msd_xarr1*1e12)[:16000],'b.')\n",
    "plt.plot(ett_mean_t_arr2[:16000],(msd_xarr2*1e12)[:16000],'g.')\n",
    "plt.plot(ett_mean_t_arr3[:16000],(msd_xarr3*1e12)[:16000],'r.')\n",
    "plt.plot(ett_mean_t_arr4[:16000],(msd_xarr4*1e12)[:16000],'y.')\n",
    "plt.ylabel(r'$<\\Delta x^2>,<\\Delta y^2> \\ \\  (nm^2)$',size=15)\n",
    "plt.xlabel(r'$\\tau  (s)$',size=20)\n",
    "plt.xscale('log')\n",
    "plt.yscale('log')\n",
    "label = r'$\\mathrm{t}(k=\\infty)$'\n",
    "#plt.savefig('mvm_iso_x_y_long.png')\n",
    "plt.show()"
   ]
  },
  {
   "cell_type": "code",
   "execution_count": 91,
   "metadata": {},
   "outputs": [
    {
     "data": {
      "image/png": "[encoded data removed]",
      "text/plain": [
       "<Figure size 504x432 with 1 Axes>"
      ]
     },
     "metadata": {
      "needs_background": "light"
     },
     "output_type": "display_data"
    }
   ],
   "source": [
    "from pylab import rcParams\n",
    "rcParams ['figure.figsize']=7,6\n",
    "plt.plot(ett_mean_t_arr0[:60000],(msd_xarr0*1e12)[:60000],'c*', label=r'$t_w = 1200 s$')\n",
    "plt.plot(ett_mean_t_arr1[:60000],(msd_xarr1*1e12)[:60000],'bD', label=r'$t_w = 1800 s$')\n",
    "plt.plot(ett_mean_t_arr2[:60000],(msd_xarr2*1e12)[:60000],'g<', label=r'$t_w = 2400 s$')\n",
    "plt.plot(ett_mean_t_arr3[:60000],(msd_xarr3*1e12)[:60000],'r>', label=r'$t_w = 3000 s$')\n",
    "plt.plot(ett_mean_t_arr4[:60000],(msd_xarr4*1e12)[:60000],'y.', label=r'$t_w = 3600 s$')\n",
    "\n",
    "plt.ylabel(r'$<R^2>\\ \\  [\\mu m^2]$',size=15)\n",
    "\n",
    "plt.xlabel(r'$\\xi-\\xi_w\\ [s] $',size=20)\n",
    "plt.xscale('log')\n",
    "plt.yscale('log')\n",
    "plt.legend(loc=\"upper left\")\n",
    "#plt.savefig('mvm_iso_x_y_long.png')\n",
    "plt.show()"
   ]
  },
  {
   "cell_type": "code",
   "execution_count": 92,
   "metadata": {},
   "outputs": [
    {
     "data": {
      "text/plain": [
       "array([0.00000000e+00, 6.30956618e-05, 1.26191178e-04, ...,\n",
       "       3.53570753e+00, 3.53576248e+00, 3.53581744e+00])"
      ]
     },
     "execution_count": 92,
     "metadata": {},
     "output_type": "execute_result"
    }
   ],
   "source": [
    "ett_mean_t_arr0"
   ]
  },
  {
   "cell_type": "code",
   "execution_count": 69,
   "metadata": {},
   "outputs": [
    {
     "data": {
      "text/plain": [
       "array([-0.00000000e+00,  6.30958071e-02,  1.26191759e-01, ...,\n",
       "        3.34335308e+03,  3.34342387e+03,  3.34349467e+03])"
      ]
     },
     "execution_count": 69,
     "metadata": {},
     "output_type": "execute_result"
    }
   ],
   "source": [
    "ett_mean_t_arr1"
   ]
  },
  {
   "cell_type": "code",
   "execution_count": 70,
   "metadata": {},
   "outputs": [
    {
     "data": {
      "text/plain": [
       "array([-0.00000000e+00,  2.51188932e-01,  5.02378443e-01, ...,\n",
       "        1.33101283e+04,  1.33104102e+04,  1.33106920e+04])"
      ]
     },
     "execution_count": 70,
     "metadata": {},
     "output_type": "execute_result"
    }
   ],
   "source": [
    "ett_mean_t_arr2"
   ]
  },
  {
   "cell_type": "code",
   "execution_count": 71,
   "metadata": {},
   "outputs": [
    {
     "data": {
      "text/plain": [
       "array([-0.00000000e+00,  1.00000115e+00,  2.00000461e+00, ...,\n",
       "        5.29885753e+04,  5.29896974e+04,  5.29908194e+04])"
      ]
     },
     "execution_count": 71,
     "metadata": {},
     "output_type": "execute_result"
    }
   ],
   "source": [
    "ett_mean_t_arr3"
   ]
  },
  {
   "cell_type": "code",
   "execution_count": 72,
   "metadata": {},
   "outputs": [
    {
     "data": {
      "text/plain": [
       "array([-0.00000000e+00,  3.98107629e+00,  7.96216174e+00, ...,\n",
       "        2.10951318e+05,  2.10955785e+05,  2.10960252e+05])"
      ]
     },
     "execution_count": 72,
     "metadata": {},
     "output_type": "execute_result"
    }
   ],
   "source": [
    "ett_mean_t_arr4"
   ]
  },
  {
   "cell_type": "code",
   "execution_count": null,
   "metadata": {},
   "outputs": [],
   "source": []
  },
  {
   "cell_type": "code",
   "execution_count": null,
   "metadata": {},
   "outputs": [],
   "source": []
  }
 ],
 "metadata": {
  "kernelspec": {
   "display_name": "Python 3",
   "language": "python",
   "name": "python3"
  },
  "language_info": {
   "codemirror_mode": {
    "name": "ipython",
    "version": 3
   },
   "file_extension": ".py",
   "mimetype": "text/x-python",
   "name": "python",
   "nbconvert_exporter": "python",
   "pygments_lexer": "ipython3",
   "version": "3.7.3"
  }
 },
 "nbformat": 4,
 "nbformat_minor": 2
}
