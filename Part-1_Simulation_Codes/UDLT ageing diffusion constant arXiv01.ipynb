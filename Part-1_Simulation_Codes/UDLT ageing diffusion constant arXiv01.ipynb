{
 "cells": [
  {
   "cell_type": "code",
   "execution_count": 1,
   "metadata": {},
   "outputs": [],
   "source": [
    "#--------------VISCOUS FLUID---------- SPHERICAL PARTICLE--------VARIABLE TIME---------\n",
    "import numpy as np\n",
    "from math import *\n",
    "from random import *\n",
    "import matplotlib.pyplot as plt\n",
    "from pylab import rcParams\n",
    "from datetime import datetime\n",
    "fig = plt.figure() "
   ]
  },
  {
   "cell_type": "code",
   "execution_count": 2,
   "metadata": {},
   "outputs": [],
   "source": [
    "x_arr = np.loadtxt('age 20.txt')                                       #all elements are in micron\n",
    "y_arr = np.loadtxt('age 21.txt')                                       #all elements are in micron\n",
    "t_arr = np.loadtxt('age 22.txt') "
   ]
  },
  {
   "cell_type": "code",
   "execution_count": 3,
   "metadata": {
    "scrolled": true
   },
   "outputs": [
    {
     "data": {
      "text/plain": [
       "69318"
      ]
     },
     "execution_count": 3,
     "metadata": {},
     "output_type": "execute_result"
    }
   ],
   "source": [
    "len(x_arr) "
   ]
  },
  {
   "cell_type": "code",
   "execution_count": 4,
   "metadata": {},
   "outputs": [
    {
     "data": {
      "text/plain": [
       "'import pandas as pd\\ndf = pd.DataFrame(t_arr)'"
      ]
     },
     "execution_count": 4,
     "metadata": {},
     "output_type": "execute_result"
    }
   ],
   "source": [
    "'''import pandas as pd\n",
    "df = pd.DataFrame(t_arr)'''"
   ]
  },
  {
   "cell_type": "code",
   "execution_count": 5,
   "metadata": {},
   "outputs": [
    {
     "data": {
      "text/plain": [
       "'df'"
      ]
     },
     "execution_count": 5,
     "metadata": {},
     "output_type": "execute_result"
    }
   ],
   "source": [
    "'''df'''"
   ]
  },
  {
   "cell_type": "code",
   "execution_count": 6,
   "metadata": {},
   "outputs": [
    {
     "data": {
      "text/plain": [
       "'pd.DataFrame.describe(df)'"
      ]
     },
     "execution_count": 6,
     "metadata": {},
     "output_type": "execute_result"
    }
   ],
   "source": [
    "'''pd.DataFrame.describe(df)'''"
   ]
  },
  {
   "cell_type": "code",
   "execution_count": 7,
   "metadata": {},
   "outputs": [
    {
     "data": {
      "text/plain": [
       "'pd.DataFrame.hist(df,bins=50)'"
      ]
     },
     "execution_count": 7,
     "metadata": {},
     "output_type": "execute_result"
    }
   ],
   "source": [
    "'''pd.DataFrame.hist(df,bins=50)'''"
   ]
  },
  {
   "cell_type": "code",
   "execution_count": 4,
   "metadata": {},
   "outputs": [],
   "source": [
    "dt_min=1e-4                                                                  #initial time step\n",
    "dt_max=1e-1                                                                 #final time step in msd graph\n",
    "msd_xarr=[]                                                                    #mean squared x\n",
    "msd_yarr=[]                                                                    #mean squared y\n",
    "msd_rarr=[]                                                                    #r is the msd array\n",
    "mean_t_arr=[]                                                                  #dtarray for msd plot\n",
    "\n",
    "N = 30\n",
    "timelaglog= np.logspace( np.log10(dt_min), np.log10(dt_max), num=N ) #nonzero points for msd plot(distributed linearly in log scale)\n",
    "counterarray=[]                                                                 #no of data averaging for particular dt'''"
   ]
  },
  {
   "cell_type": "code",
   "execution_count": 5,
   "metadata": {
    "scrolled": true
   },
   "outputs": [
    {
     "name": "stdout",
     "output_type": "stream",
     "text": [
      "0\n",
      "no. of  points 2425\n",
      "tau= 0.00011264816923358862\n",
      "1\n",
      "no. of  points 2347\n",
      "tau= 0.00014294613383568447\n",
      "2\n",
      "no. of  points 2386\n",
      "tau= 0.0001813930693911062\n",
      "3\n",
      "no. of  points 2369\n",
      "tau= 0.00023018073130224665\n",
      "4\n",
      "no. of  points 2339\n",
      "tau= 0.00029209037170322484\n",
      "5\n",
      "no. of  points 2309\n",
      "tau= 0.00037065129109221544\n",
      "6\n",
      "no. of  points 2450\n",
      "tau= 0.0004703420341698632\n",
      "7\n",
      "no. of  points 2401\n",
      "tau= 0.0005968456995122307\n",
      "8\n",
      "no. of  points 2437\n",
      "tau= 0.0007573739175895006\n",
      "9\n",
      "no. of  points 2423\n",
      "tau= 0.0009610779662375917\n",
      "10\n",
      "no. of  points 2528\n",
      "tau= 0.0012195704601594415\n",
      "11\n",
      "no. of  points 2554\n",
      "tau= 0.0015475873545578891\n",
      "12\n",
      "no. of  points 2642\n",
      "tau= 0.00196382800192977\n",
      "13\n",
      "no. of  points 2744\n",
      "tau= 0.002492021151378057\n",
      "14\n",
      "no. of  points 2970\n",
      "tau= 0.0031622776601683794\n",
      "15\n",
      "no. of  points 2963\n",
      "tau= 0.004012807031942777\n",
      "16\n",
      "no. of  points 3153\n",
      "tau= 0.0050920956367733975\n",
      "17\n",
      "no. of  points 3250\n",
      "tau= 0.006461670787466969\n",
      "18\n",
      "no. of  points 3448\n",
      "tau= 0.008199608244604943\n",
      "19\n",
      "no. of  points 3523\n",
      "tau= 0.010404983103657858\n",
      "20\n",
      "no. of  points 3632\n",
      "tau= 0.013203517797162955\n",
      "21\n",
      "no. of  points 3790\n",
      "tau= 0.016754749189233416\n",
      "22\n",
      "no. of  points 4141\n",
      "tau= 0.021261123338996567\n",
      "23\n",
      "no. of  points 4324\n",
      "tau= 0.026979536400730007\n",
      "24\n",
      "no. of  points 4631\n",
      "tau= 0.03423597957607582\n",
      "25\n",
      "no. of  points 4877\n",
      "tau= 0.043444122987293665\n",
      "26\n",
      "no. of  points 5214\n",
      "tau= 0.05512889788770675\n",
      "27\n",
      "no. of  points 5672\n",
      "tau= 0.06995642156712631\n",
      "28\n",
      "no. of  points 6114\n",
      "tau= 0.08877197088985866\n",
      "2020-04-29 08:15:03\n",
      "2020-04-29 08:15:07\n"
     ]
    }
   ],
   "source": [
    "time1=datetime.now().strftime('%Y-%m-%d %H:%M:%S')\n",
    "\n",
    "for m in range(0,len(timelaglog)-1):\n",
    "    print(m)\n",
    "    r=0 \n",
    "    x=0\n",
    "    y=0 \n",
    "    count=0                                                                   #counter no of elements for data avraging for particular dt\n",
    "    for i in range(len(t_arr)):\n",
    "        for j in range(i+1,len(t_arr)):\n",
    "            timelag = t_arr[j]-t_arr[i]                                       #time difference between i'th and j'th elements\n",
    "            if timelag >= timelaglog[m]:\n",
    "                if timelag <= timelaglog[m+1]:\n",
    "                    count = count+1\n",
    "                    x = x+((x_arr[j]-x_arr[i])**2)\n",
    "                    y = y+((y_arr[j]-y_arr[i])**2)\n",
    "                else:\n",
    "                    break;\n",
    "            else:\n",
    "                break;\n",
    "            \n",
    "    print('no. of  points',count) \n",
    "    x=float(x/count)\n",
    "    y=float(y/count)\n",
    "    r=float(x+y) \n",
    "    msd_xarr.append(x)\n",
    "    msd_yarr.append(y)                                                          #msd for a particual dt\n",
    "    msd_rarr.append(r)\n",
    "    mean_t_arr.append(np.sqrt(timelaglog[m]*timelaglog[m+1]))\n",
    "    print( 'tau=', np.sqrt(timelaglog[m]*timelaglog[m+1]) )\n",
    "    counterarray.append(count)\n",
    "    \n",
    "time2=datetime.now().strftime('%Y-%m-%d %H:%M:%S') # final time ending of the run time\n",
    "print(time1)\n",
    "print(time2) "
   ]
  },
  {
   "cell_type": "code",
   "execution_count": 4,
   "metadata": {},
   "outputs": [],
   "source": [
    "'''# -------------------------Mean square displacent function and Time lag----------------------- \n",
    "import statistics as stat\n",
    "from numba import jit\n",
    "# ---------mean square displacement function---------- \n",
    "@jit\n",
    "def msd_1d(x):\n",
    "    result = np.zeros_like(x)\n",
    "    for delta in range(1,len(x)):\n",
    "        thisresult = 0\n",
    "        for i in range(delta,len(x)):\n",
    "            thisresult += (x[i] - x[i-delta])**2\n",
    "        result[delta] = thisresult / (len(x) - delta)\n",
    "    return result\n",
    "    '''"
   ]
  },
  {
   "cell_type": "code",
   "execution_count": 5,
   "metadata": {},
   "outputs": [
    {
     "ename": "KeyboardInterrupt",
     "evalue": "",
     "output_type": "error",
     "traceback": [
      "\u001b[0;31m---------------------------------------------------------------------------\u001b[0m",
      "\u001b[0;31mKeyboardInterrupt\u001b[0m                         Traceback (most recent call last)",
      "\u001b[0;32m<ipython-input-5-4e21ce8b3501>\u001b[0m in \u001b[0;36m<module>\u001b[0;34m\u001b[0m\n\u001b[0;32m----> 1\u001b[0;31m \u001b[0mmsd_x_arr\u001b[0m \u001b[0;34m=\u001b[0m \u001b[0mmsd_1d\u001b[0m\u001b[0;34m(\u001b[0m\u001b[0mx_arr\u001b[0m\u001b[0;34m)\u001b[0m\u001b[0;34m\u001b[0m\u001b[0;34m\u001b[0m\u001b[0m\n\u001b[0m",
      "\u001b[0;31mKeyboardInterrupt\u001b[0m: "
     ]
    }
   ],
   "source": [
    "'''msd_x_arr = msd_1d(x_arr)'''"
   ]
  },
  {
   "cell_type": "code",
   "execution_count": 6,
   "metadata": {},
   "outputs": [
    {
     "data": {
      "text/plain": [
       "100000"
      ]
     },
     "execution_count": 6,
     "metadata": {},
     "output_type": "execute_result"
    }
   ],
   "source": [
    "len(msd_x_arr)"
   ]
  },
  {
   "cell_type": "code",
   "execution_count": 7,
   "metadata": {},
   "outputs": [],
   "source": [
    "'''t_step = np.arange(0,10**3, 0.01) # creating intervals '''"
   ]
  },
  {
   "cell_type": "code",
   "execution_count": 8,
   "metadata": {},
   "outputs": [
    {
     "data": {
      "text/plain": [
       "100000"
      ]
     },
     "execution_count": 8,
     "metadata": {},
     "output_type": "execute_result"
    }
   ],
   "source": [
    "len(t_step)"
   ]
  },
  {
   "cell_type": "code",
   "execution_count": 6,
   "metadata": {
    "collapsed": true
   },
   "outputs": [
    {
     "ename": "NameError",
     "evalue": "name 't_step' is not defined",
     "output_type": "error",
     "traceback": [
      "\u001b[0;31m---------------------------------------------------------------------------\u001b[0m",
      "\u001b[0;31mNameError\u001b[0m                                 Traceback (most recent call last)",
      "\u001b[0;32m<ipython-input-6-197ce93cf699>\u001b[0m in \u001b[0;36m<module>\u001b[0;34m\u001b[0m\n\u001b[0;32m----> 1\u001b[0;31m \u001b[0mplt\u001b[0m\u001b[0;34m.\u001b[0m\u001b[0mplot\u001b[0m\u001b[0;34m(\u001b[0m\u001b[0mt_step\u001b[0m\u001b[0;34m,\u001b[0m \u001b[0mmsd_x_arr\u001b[0m\u001b[0;34m,\u001b[0m \u001b[0;34m'g-'\u001b[0m\u001b[0;34m)\u001b[0m\u001b[0;34m\u001b[0m\u001b[0;34m\u001b[0m\u001b[0m\n\u001b[0m\u001b[1;32m      2\u001b[0m \u001b[0;34m\u001b[0m\u001b[0m\n\u001b[1;32m      3\u001b[0m \u001b[0mplt\u001b[0m\u001b[0;34m.\u001b[0m\u001b[0mylabel\u001b[0m\u001b[0;34m(\u001b[0m\u001b[0;34mr'$<\\Delta r^2> \\ \\  (m^2)$'\u001b[0m\u001b[0;34m,\u001b[0m\u001b[0msize\u001b[0m\u001b[0;34m=\u001b[0m\u001b[0;36m20\u001b[0m\u001b[0;34m)\u001b[0m\u001b[0;34m\u001b[0m\u001b[0;34m\u001b[0m\u001b[0m\n\u001b[1;32m      4\u001b[0m \u001b[0mplt\u001b[0m\u001b[0;34m.\u001b[0m\u001b[0mxlabel\u001b[0m\u001b[0;34m(\u001b[0m\u001b[0;34mr'$\\tau  (s)$'\u001b[0m\u001b[0;34m,\u001b[0m\u001b[0msize\u001b[0m\u001b[0;34m=\u001b[0m\u001b[0;36m20\u001b[0m\u001b[0;34m)\u001b[0m\u001b[0;34m\u001b[0m\u001b[0;34m\u001b[0m\u001b[0m\n\u001b[1;32m      5\u001b[0m \u001b[0;34m\u001b[0m\u001b[0m\n",
      "\u001b[0;31mNameError\u001b[0m: name 't_step' is not defined"
     ]
    }
   ],
   "source": [
    "'''plt.plot(t_step, msd_x_arr, 'g-')\n",
    "\n",
    "plt.ylabel(r'$<\\Delta r^2> \\ \\  (m^2)$',size=20)\n",
    "plt.xlabel(r'$\\tau  (s)$',size=20)\n",
    "\n",
    "plt.xscale('log')\n",
    "plt.yscale('log')\n",
    "#plt.savefig('viscous_long.png')\n",
    "#plt.axis('square')\n",
    "\n",
    "\n",
    "plt.show()'''"
   ]
  },
  {
   "cell_type": "code",
   "execution_count": 6,
   "metadata": {
    "scrolled": true
   },
   "outputs": [
    {
     "data": {
      "image/png": "[encoded data removed]",
      "text/plain": [
       "<Figure size 432x288 with 1 Axes>"
      ]
     },
     "metadata": {
      "needs_background": "light"
     },
     "output_type": "display_data"
    }
   ],
   "source": [
    "plt.plot(mean_t_arr,msd_rarr,'go-')\n",
    "\n",
    "plt.ylabel(r'$<\\Delta r^2> \\ \\  (m^2)$',size=20)\n",
    "plt.xlabel(r'$\\tau  (s)$',size=20)\n",
    "\n",
    "plt.xscale('log')\n",
    "plt.yscale('log')\n",
    "#plt.savefig('viscous_long.png')\n",
    "\n",
    "plt.show()"
   ]
  },
  {
   "cell_type": "code",
   "execution_count": 14,
   "metadata": {},
   "outputs": [
    {
     "name": "stderr",
     "output_type": "stream",
     "text": [
      "/Users/manishkumar/anaconda3/lib/python3.7/site-packages/ipykernel_launcher.py:2: RuntimeWarning: divide by zero encountered in log10\n",
      "  \n",
      "/Users/manishkumar/anaconda3/lib/python3.7/site-packages/numpy/lib/function_base.py:2449: RuntimeWarning: invalid value encountered in subtract\n",
      "  X -= avg[:, None]\n"
     ]
    }
   ],
   "source": [
    "from scipy.stats import linregress\n",
    "slope, intercept, r_value, p_value, std_err = linregress(np.log10(t_step), np.log10(msd_x_arr))"
   ]
  },
  {
   "cell_type": "code",
   "execution_count": 15,
   "metadata": {},
   "outputs": [
    {
     "data": {
      "text/plain": [
       "nan"
      ]
     },
     "execution_count": 15,
     "metadata": {},
     "output_type": "execute_result"
    }
   ],
   "source": [
    "slope"
   ]
  },
  {
   "cell_type": "code",
   "execution_count": 11,
   "metadata": {},
   "outputs": [
    {
     "data": {
      "text/plain": [
       "\"plt.plot(mean_t_arr,msd_xarr,'bo-')\\nplt.plot(mean_t_arr,msd_yarr,'ro-')\\nplt.ylabel(r'$<\\\\Delta x^2>,<\\\\Delta y^2> \\\\ \\\\  (m^2)$',size=15)\\nplt.xlabel(r'$\\tau  (s)$',size=20)\\n\\nplt.xscale('log')\\nplt.yscale('log')\\n#plt.savefig('viscous_x_y_long.png')\\n\\nplt.show()\\n\\n\""
      ]
     },
     "execution_count": 11,
     "metadata": {},
     "output_type": "execute_result"
    }
   ],
   "source": [
    "'''plt.plot(mean_t_arr,msd_xarr,'bo-')\n",
    "plt.plot(mean_t_arr,msd_yarr,'ro-')\n",
    "plt.ylabel(r'$<\\Delta x^2>,<\\Delta y^2> \\ \\  (m^2)$',size=15)\n",
    "plt.xlabel(r'$\\tau  (s)$',size=20)\n",
    "\n",
    "plt.xscale('log')\n",
    "plt.yscale('log')\n",
    "#plt.savefig('viscous_x_y_long.png')\n",
    "\n",
    "plt.show()\n",
    "\n",
    "'''"
   ]
  },
  {
   "cell_type": "code",
   "execution_count": 12,
   "metadata": {},
   "outputs": [
    {
     "data": {
      "text/plain": [
       "\"np.savetxt('msd_x_viscous.txt',msd_xarr)\\nnp.savetxt('msd_y_viscous.txt',msd_yarr)\\nnp.savetxt('msd_r_viscous.txt',msd_rarr)\\nnp.savetxt('t_arr_viscous.txt',mean_t_arr)\\nnp.savetxt('counterarray_viscous.txt',counterarray)\""
      ]
     },
     "execution_count": 12,
     "metadata": {},
     "output_type": "execute_result"
    }
   ],
   "source": [
    "'''np.savetxt('msd_x_viscous.txt',msd_xarr)\n",
    "np.savetxt('msd_y_viscous.txt',msd_yarr)\n",
    "np.savetxt('msd_r_viscous.txt',msd_rarr)\n",
    "np.savetxt('t_arr_viscous.txt',mean_t_arr)\n",
    "np.savetxt('counterarray_viscous.txt',counterarray)'''"
   ]
  },
  {
   "cell_type": "code",
   "execution_count": 13,
   "metadata": {},
   "outputs": [
    {
     "data": {
      "text/plain": [
       "'import numpy\\na = numpy.asarray([ mean_t_arr, msd_rarr, msd_xarr, msd_yarr])\\nindex = [\\'time\\', \\'msd_r\\', \\'msd_x\\', \\'msd_y\\']\\n\\nimport pandas as pd\\ndf_a = pd.DataFrame(a, index)\\ndf_a_tp = pd.DataFrame.transpose(df_a)\\n\\nnumpy.savetxt(\"viscous_long.csv\", df_a_tp, delimiter=\",\")'"
      ]
     },
     "execution_count": 13,
     "metadata": {},
     "output_type": "execute_result"
    }
   ],
   "source": [
    "'''import numpy\n",
    "a = numpy.asarray([ mean_t_arr, msd_rarr, msd_xarr, msd_yarr])\n",
    "index = ['time', 'msd_r', 'msd_x', 'msd_y']\n",
    "\n",
    "import pandas as pd\n",
    "df_a = pd.DataFrame(a, index)\n",
    "df_a_tp = pd.DataFrame.transpose(df_a)\n",
    "\n",
    "numpy.savetxt(\"viscous_long.csv\", df_a_tp, delimiter=\",\")'''"
   ]
  },
  {
   "cell_type": "code",
   "execution_count": null,
   "metadata": {},
   "outputs": [],
   "source": []
  }
 ],
 "metadata": {
  "kernelspec": {
   "display_name": "Python 3",
   "language": "python",
   "name": "python3"
  },
  "language_info": {
   "codemirror_mode": {
    "name": "ipython",
    "version": 3
   },
   "file_extension": ".py",
   "mimetype": "text/x-python",
   "name": "python",
   "nbconvert_exporter": "python",
   "pygments_lexer": "ipython3",
   "version": "3.7.3"
  }
 },
 "nbformat": 4,
 "nbformat_minor": 2
}
