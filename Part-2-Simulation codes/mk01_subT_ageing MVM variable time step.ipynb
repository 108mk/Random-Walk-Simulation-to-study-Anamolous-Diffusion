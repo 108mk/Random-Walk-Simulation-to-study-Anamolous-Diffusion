{
 "cells": [
  {
   "cell_type": "code",
   "execution_count": 1,
   "metadata": {},
   "outputs": [],
   "source": [
    "import numpy as np\n",
    "from math import *\n",
    "from random import *\n",
    "import matplotlib.pyplot as plt\n",
    "\n",
    "from datetime import datetime\n",
    "time1=datetime.now().strftime('%Y-%m-%d %H:%M:%S')\n",
    "                                                  #initial time starting of the runtime\n",
    "#---------system parameters.\n",
    "T=300.0                                   #temparature in unit kelvin\n",
    "eta=1e4                       #viscosity co efficient in unit Pa.s\n",
    "etas=1e-3\n",
    "a=2e-6                          #diameter of the probe sphere in meter\n",
    "\n",
    "kb=1.38e-23                      #boltzman constant s.i unit\n",
    "Gp=1000                                    #elastic modulus for both model Pa\n",
    "\n",
    "#---------some constants determined from the above parameters\n",
    "\n",
    "D=(kb*T)/(6*pi*eta*(a/2))                  #diffusion coefficient of liquid\n",
    "m=0.0                                     #mean of the random walk motion\n",
    "lamb=(etas/Gp)\n",
    "k=6*pi*(a/2)*Gp   "
   ]
  },
  {
   "cell_type": "code",
   "execution_count": 2,
   "metadata": {},
   "outputs": [],
   "source": [
    "lamb=1e-3"
   ]
  },
  {
   "cell_type": "code",
   "execution_count": 14,
   "metadata": {},
   "outputs": [],
   "source": [
    "#-------------------------------body of the code\n",
    "xm=0.0                                     #initial x cordinate in unit micro meter\n",
    "ym=0.0                                     #initial y cordinate in unit micro meter\n",
    "zm=0.0\n",
    "xarr_m=[]                                #list of total x after ith step\n",
    "yarr_m=[]                                #list of total y after ith step\n",
    "zarr_m=[]\n",
    "\n",
    "\n",
    "\n",
    "xv=0.0                                     #initial x cordinate in unit micro meter\n",
    "yv=0.0                                     #initial y cordinate in unit micro meter\n",
    "zv=0.0\n",
    "xarr_v=[]                                #list of total x after ith step\n",
    "yarr_v=[]                                #list of total y after \n",
    "zarr_v=[]\n",
    "\n",
    "\n",
    "xv2=0.0                                     #initial x cordinate in unit micro meter\n",
    "yv2=0.0                                     #initial y cordinate in unit micro meter\n",
    "zv2=0.0\n",
    "xarr_v2=[]                                #list of total x after ith step\n",
    "yarr_v2=[]                                #list of total y after \n",
    "zarr_v2=[]\n",
    "\n",
    "\n"
   ]
  },
  {
   "cell_type": "code",
   "execution_count": 15,
   "metadata": {},
   "outputs": [],
   "source": [
    "alpha=log(10)/1200"
   ]
  },
  {
   "cell_type": "code",
   "execution_count": 16,
   "metadata": {},
   "outputs": [
    {
     "data": {
      "text/plain": [
       "0.0019188209108283716"
      ]
     },
     "execution_count": 16,
     "metadata": {},
     "output_type": "execute_result"
    }
   ],
   "source": [
    "alpha"
   ]
  },
  {
   "cell_type": "code",
   "execution_count": 17,
   "metadata": {},
   "outputs": [],
   "source": [
    "time0=1200\n",
    "time1=1800\n",
    "time2=2400"
   ]
  },
  {
   "cell_type": "code",
   "execution_count": 34,
   "metadata": {},
   "outputs": [
    {
     "data": {
      "text/plain": [
       "-0.09148242434831312"
      ]
     },
     "execution_count": 34,
     "metadata": {},
     "output_type": "execute_result"
    }
   ],
   "source": [
    "(exp(-alpha*(time0+50))-exp(-alpha*time0))/exp(-alpha*time0)"
   ]
  },
  {
   "cell_type": "code",
   "execution_count": 19,
   "metadata": {},
   "outputs": [
    {
     "data": {
      "text/plain": [
       "100001"
      ]
     },
     "execution_count": 19,
     "metadata": {},
     "output_type": "execute_result"
    }
   ],
   "source": [
    "tf=1e-6                                  #total time in unit second\n",
    "\n",
    "t=0.0\n",
    "t_arr=[]                               #delta time array in seconds\n",
    "\n",
    "t = 0\n",
    "while t < tf:\n",
    "    #--------------------maxwell part of the code\n",
    "    #p=uniform(-8,-2)\n",
    "    dt= tf/1e5 #(10**p)                            #linear distributed in 10 base logscale of time\n",
    "    s=((2*D*dt)**(0.5))                   #standard deviation of the random walk in  meter\n",
    "    \n",
    "    xm=10e-9 #xm+(gauss(m,s))\n",
    "    xarr_m.append(xm)\n",
    "    \n",
    "    ym=10.05e-9 #ym+(gauss(m,s))\n",
    "    yarr_m.append(ym)\n",
    "    \n",
    "    zm=10.10e-9 #ym+(gauss(m,s))\n",
    "    zarr_m.append(zm)\n",
    "    \n",
    "    \n",
    "    #---------------------voigt part of the code\n",
    "    Ax=xv*exp(-(dt/(lamb*(exp(-alpha*time0)))))\n",
    "    Bx=sqrt(((kb*T)/(k*(exp(alpha*time0))))*(1-exp(-(2*dt/(lamb*(exp(-alpha*time0)))))))\n",
    "    \n",
    "    Ay=yv*exp(-(dt/(lamb*(exp(-alpha*time1)))))\n",
    "    By=sqrt(((kb*T)/(k*(exp(alpha*time1))))*(1-exp(-(2*dt/(lamb*(exp(-alpha*time1)))))))\n",
    "    \n",
    "    Az=zv*exp(-(dt/(lamb*(exp(-alpha*time2)))))\n",
    "    Bz=sqrt(((kb*T)/(k*(exp(alpha*time2))))*(1-exp(-(2*dt/(lamb*(exp(-alpha*time2)))))))\n",
    "    \n",
    "    #---------------------voigt part of the code\n",
    "    Ax2=xv2*exp(-(dt/(lamb*(exp(-alpha*time0)))))\n",
    "    Bx2=sqrt(((kb*T)/(k*(exp(alpha*time0))))*(1-exp(-(2*dt/(lamb*(exp(-alpha*time0)))))))\n",
    "    \n",
    "    Ay2=yv2*exp(-(dt/(lamb*(exp(-alpha*time1)))))\n",
    "    By2=sqrt(((kb*T)/(k*(exp(alpha*time1))))*(1-exp(-(2*dt/(lamb*(exp(-alpha*time1)))))))\n",
    "    \n",
    "    Az2=zv2*exp(-(dt/(lamb*(exp(-alpha*time2)))))\n",
    "    Bz2=sqrt(((kb*T)/(k*(exp(alpha*time2))))*(1-exp(-(2*dt/(lamb*(exp(-alpha*time2)))))))\n",
    "    \n",
    "    \n",
    "    xv=(gauss(Ax,Bx))\n",
    "    xarr_v.append(xv)\n",
    "    \n",
    "    yv=(gauss(Ay,By))\n",
    "    yarr_v.append(yv)\n",
    "    \n",
    "    zv=(gauss(Az,Bz))\n",
    "    zarr_v.append(zv)\n",
    "    \n",
    "    xv2=(gauss(Ax2,Bx2))\n",
    "    xarr_v2.append(xv2)\n",
    "    \n",
    "    yv2=(gauss(Ay2,By2))\n",
    "    yarr_v2.append(yv2)\n",
    "    \n",
    "    zv2=(gauss(Az2,Bz2))\n",
    "    zarr_v2.append(zv2)\n",
    "    \n",
    "    \n",
    "    t=t+dt\n",
    "    t_arr.append(t)\n",
    "    \n",
    "    \n",
    "xarr_m=np.array(xarr_m)\n",
    "yarr_m=np.array(yarr_m)\n",
    "zarr_m=np.array(zarr_m)\n",
    "\n",
    "#-----------------------------------\n",
    "xarr_v=np.array(xarr_v)\n",
    "yarr_v=np.array(yarr_v)\n",
    "zarr_v=np.array(zarr_v)\n",
    "\n",
    "\n",
    "    \n",
    "xarr_mv=(xarr_m +xarr_v)\n",
    "yarr_mv=(yarr_m +yarr_v)\n",
    "zarr_mv=(zarr_m +zarr_v)\n",
    "\n",
    "\n",
    "#------------------------------------\n",
    "xarr_v2=np.array(xarr_v2)\n",
    "yarr_v2=np.array(yarr_v2)\n",
    "zarr_v2=np.array(zarr_v2)\n",
    "\n",
    "\n",
    "    \n",
    "xarr_mv2=(xarr_m +xarr_v2)\n",
    "yarr_mv2=(yarr_m +yarr_v2)\n",
    "zarr_mv2=(zarr_m +zarr_v2)\n",
    "\n",
    "\n",
    "max(t_arr)\n",
    "\n",
    "len(xarr_mv)"
   ]
  },
  {
   "cell_type": "code",
   "execution_count": 20,
   "metadata": {},
   "outputs": [
    {
     "data": {
      "text/plain": [
       "array([1.00000162e-08, 9.99998032e-09, 1.00000349e-08, ...,\n",
       "       1.00278468e-08, 1.00280048e-08, 1.00280043e-08])"
      ]
     },
     "execution_count": 20,
     "metadata": {},
     "output_type": "execute_result"
    }
   ],
   "source": [
    "xarr_mv"
   ]
  },
  {
   "cell_type": "code",
   "execution_count": 21,
   "metadata": {},
   "outputs": [
    {
     "data": {
      "text/plain": [
       "array([1.00500399e-08, 1.00500202e-08, 1.00500267e-08, ...,\n",
       "       1.00511787e-08, 1.00512126e-08, 1.00513737e-08])"
      ]
     },
     "execution_count": 21,
     "metadata": {},
     "output_type": "execute_result"
    }
   ],
   "source": [
    "yarr_mv"
   ]
  },
  {
   "cell_type": "code",
   "execution_count": 22,
   "metadata": {},
   "outputs": [
    {
     "data": {
      "image/png": "[encoded data removed]",
      "text/plain": [
       "<Figure size 432x432 with 1 Axes>"
      ]
     },
     "metadata": {
      "needs_background": "light"
     },
     "output_type": "display_data"
    }
   ],
   "source": [
    "from pylab import rcParams\n",
    "rcParams ['figure.figsize']=6,6\n",
    "\n",
    "plt.plot(xarr_mv*1e9,xarr_mv2*1e9,'r-', label=r'$t_w = 1200 s$')\n",
    "plt.plot(yarr_mv*1e9,yarr_mv2*1e9,'c-', label=r'$t_w = 1800 s$')\n",
    "plt.plot(zarr_mv*1e9,zarr_mv2*1e9,'m-', label=r'$t_w = 2400 s$')\n",
    "\n",
    "plt.legend(loc=\"upper left\")\n",
    "plt.ylabel(r'$ [nm] $', size=20)\n",
    "plt.xlabel(r'$ [nm] $', size=20)\n",
    "\n",
    "plt.axis('square')\n",
    "plt.show()\n"
   ]
  },
  {
   "cell_type": "code",
   "execution_count": 23,
   "metadata": {},
   "outputs": [
    {
     "data": {
      "text/plain": [
       "\"np.savetxt('x_arr_vts11.txt', xarr_mv)\\nnp.savetxt('y_arr_vts11.txt', yarr_mv)\\nnp.savetxt('z_arr_vts11.txt', zarr_mv)\\nnp.savetxt('dt_arr_vts11.txt',t_arr)\""
      ]
     },
     "execution_count": 23,
     "metadata": {},
     "output_type": "execute_result"
    }
   ],
   "source": [
    "'''np.savetxt('x_arr_vts11.txt', xarr_mv)\n",
    "np.savetxt('y_arr_vts11.txt', yarr_mv)\n",
    "np.savetxt('z_arr_vts11.txt', zarr_mv)\n",
    "np.savetxt('dt_arr_vts11.txt',t_arr)'''"
   ]
  },
  {
   "cell_type": "code",
   "execution_count": 24,
   "metadata": {},
   "outputs": [
    {
     "data": {
      "text/plain": [
       "0.0019188209108283716"
      ]
     },
     "execution_count": 24,
     "metadata": {},
     "output_type": "execute_result"
    }
   ],
   "source": [
    "log(10)/1200"
   ]
  },
  {
   "cell_type": "code",
   "execution_count": null,
   "metadata": {},
   "outputs": [],
   "source": []
  },
  {
   "cell_type": "code",
   "execution_count": 31,
   "metadata": {},
   "outputs": [],
   "source": [
    "#-------------------------------body of the code\n",
    "xm=0.0                                     #initial x cordinate in unit micro meter\n",
    "ym=0.0                                     #initial y cordinate in unit micro meter\n",
    "zm=0.0\n",
    "xarr_m=[]                                #list of total x after ith step\n",
    "yarr_m=[]                                #list of total y after ith step\n",
    "zarr_m=[]\n",
    "\n",
    "\n",
    "\n",
    "xv=0.0                                     #initial x cordinate in unit micro meter\n",
    "yv=0.0                                     #initial y cordinate in unit micro meter\n",
    "zv=0.0\n",
    "xarr_v=[]                                #list of total x after ith step\n",
    "yarr_v=[]                                #list of total y after \n",
    "zarr_v=[]\n",
    "\n",
    "\n",
    "xv2=0.0                                     #initial x cordinate in unit micro meter\n",
    "yv2=0.0                                     #initial y cordinate in unit micro meter\n",
    "zv2=0.0\n",
    "xarr_v2=[]                                #list of total x after ith step\n",
    "yarr_v2=[]                                #list of total y after \n",
    "zarr_v2=[]\n"
   ]
  },
  {
   "cell_type": "code",
   "execution_count": 32,
   "metadata": {},
   "outputs": [
    {
     "data": {
      "text/plain": [
       "100001"
      ]
     },
     "execution_count": 32,
     "metadata": {},
     "output_type": "execute_result"
    }
   ],
   "source": [
    "tf=60                                  #total time in unit second\n",
    "\n",
    "t=0.0\n",
    "t_arr=[]                               #delta time array in seconds\n",
    "\n",
    "t = 0\n",
    "while t < tf:\n",
    "    #--------------------maxwell part of the code\n",
    "    #p=uniform(-8,-2)\n",
    "    dt= tf/1e5 #(10**p)                            #linear distributed in 10 base logscale of time\n",
    "    s=((2*D*dt)**(0.5))                   #standard deviation of the random walk in  meter\n",
    "    \n",
    "    xm=10e-9 #xm+(gauss(m,s))\n",
    "    xarr_m.append(xm)\n",
    "    \n",
    "    ym=11e-9 #ym+(gauss(m,s))\n",
    "    yarr_m.append(ym)\n",
    "    \n",
    "    zm=11.8e-9 #ym+(gauss(m,s))\n",
    "    zarr_m.append(zm)\n",
    "    \n",
    "    \n",
    "    #---------------------voigt part of the code\n",
    "    Ax=xv*exp(-(dt/(lamb*(exp(-alpha*time0)))))\n",
    "    Bx=sqrt(((kb*T)/(k*(exp(alpha*time0))))*(1-exp(-(2*dt/(lamb*(exp(-alpha*time0)))))))\n",
    "    \n",
    "    Ay=yv*exp(-(dt/(lamb*(exp(-alpha*time1)))))\n",
    "    By=sqrt(((kb*T)/(k*(exp(alpha*time1))))*(1-exp(-(2*dt/(lamb*(exp(-alpha*time1)))))))\n",
    "    \n",
    "    Az=zv*exp(-(dt/(lamb*(exp(-alpha*time2)))))\n",
    "    Bz=sqrt(((kb*T)/(k*(exp(alpha*time2))))*(1-exp(-(2*dt/(lamb*(exp(-alpha*time2)))))))\n",
    "    \n",
    "    #---------------------voigt part of the code\n",
    "    Ax2=xv2*exp(-(dt/(lamb*(exp(-alpha*time0)))))\n",
    "    Bx2=sqrt(((kb*T)/(k*(exp(alpha*time0))))*(1-exp(-(2*dt/(lamb*(exp(-alpha*time0)))))))\n",
    "    \n",
    "    Ay2=yv2*exp(-(dt/(lamb*(exp(-alpha*time1)))))\n",
    "    By2=sqrt(((kb*T)/(k*(exp(alpha*time1))))*(1-exp(-(2*dt/(lamb*(exp(-alpha*time1)))))))\n",
    "    \n",
    "    Az2=zv2*exp(-(dt/(lamb*(exp(-alpha*time2)))))\n",
    "    Bz2=sqrt(((kb*T)/(k*(exp(alpha*time2))))*(1-exp(-(2*dt/(lamb*(exp(-alpha*time2)))))))\n",
    "    \n",
    "    \n",
    "    xv=(gauss(Ax,Bx))\n",
    "    xarr_v.append(xv)\n",
    "    \n",
    "    yv=(gauss(Ay,By))\n",
    "    yarr_v.append(yv)\n",
    "    \n",
    "    zv=(gauss(Az,Bz))\n",
    "    zarr_v.append(zv)\n",
    "    \n",
    "    xv2=(gauss(Ax2,Bx2))\n",
    "    xarr_v2.append(xv2)\n",
    "    \n",
    "    yv2=(gauss(Ay2,By2))\n",
    "    yarr_v2.append(yv2)\n",
    "    \n",
    "    zv2=(gauss(Az2,Bz2))\n",
    "    zarr_v2.append(zv2)\n",
    "    \n",
    "    \n",
    "    t=t+dt\n",
    "    t_arr.append(t)\n",
    "    \n",
    "    \n",
    "xarr_m=np.array(xarr_m)\n",
    "yarr_m=np.array(yarr_m)\n",
    "zarr_m=np.array(zarr_m)\n",
    "\n",
    "#-----------------------------------\n",
    "xarr_v=np.array(xarr_v)\n",
    "yarr_v=np.array(yarr_v)\n",
    "zarr_v=np.array(zarr_v)\n",
    "\n",
    "\n",
    "    \n",
    "xarr_mv=(xarr_m +xarr_v)\n",
    "yarr_mv=(yarr_m +yarr_v)\n",
    "zarr_mv=(zarr_m +zarr_v)\n",
    "\n",
    "\n",
    "#------------------------------------\n",
    "xarr_v2=np.array(xarr_v2)\n",
    "yarr_v2=np.array(yarr_v2)\n",
    "zarr_v2=np.array(zarr_v2)\n",
    "\n",
    "\n",
    "    \n",
    "xarr_mv2=(xarr_m +xarr_v2)\n",
    "yarr_mv2=(yarr_m +yarr_v2)\n",
    "zarr_mv2=(zarr_m +zarr_v2)\n",
    "\n",
    "\n",
    "max(t_arr)\n",
    "\n",
    "len(xarr_mv)"
   ]
  },
  {
   "cell_type": "code",
   "execution_count": 33,
   "metadata": {},
   "outputs": [
    {
     "data": {
      "image/png": "[encoded data removed]",
      "text/plain": [
       "<Figure size 432x432 with 1 Axes>"
      ]
     },
     "metadata": {
      "needs_background": "light"
     },
     "output_type": "display_data"
    }
   ],
   "source": [
    "from pylab import rcParams\n",
    "rcParams ['figure.figsize']=6,6\n",
    "\n",
    "plt.plot(xarr_mv*1e9,xarr_mv2*1e9,'r-', label=r'$t_w = 1200 s$')\n",
    "plt.plot(yarr_mv*1e9,yarr_mv2*1e9,'c-', label=r'$t_w = 1800 s$')\n",
    "plt.plot(zarr_mv*1e9,zarr_mv2*1e9,'m-', label=r'$t_w = 2400 s$')\n",
    "\n",
    "plt.legend(loc=\"upper left\")\n",
    "plt.ylabel(r'$ [nm] $', size=20)\n",
    "plt.xlabel(r'$ [nm] $', size=20)\n",
    "\n",
    "plt.axis('square')\n",
    "plt.show()\n",
    "\n"
   ]
  },
  {
   "cell_type": "code",
   "execution_count": null,
   "metadata": {},
   "outputs": [],
   "source": []
  }
 ],
 "metadata": {
  "kernelspec": {
   "display_name": "Python 3",
   "language": "python",
   "name": "python3"
  },
  "language_info": {
   "codemirror_mode": {
    "name": "ipython",
    "version": 3
   },
   "file_extension": ".py",
   "mimetype": "text/x-python",
   "name": "python",
   "nbconvert_exporter": "python",
   "pygments_lexer": "ipython3",
   "version": "3.7.3"
  }
 },
 "nbformat": 4,
 "nbformat_minor": 2
}
