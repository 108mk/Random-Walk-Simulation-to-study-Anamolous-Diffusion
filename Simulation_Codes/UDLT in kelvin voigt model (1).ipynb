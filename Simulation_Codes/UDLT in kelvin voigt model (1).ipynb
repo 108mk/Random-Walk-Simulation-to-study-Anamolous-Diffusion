{
 "cells": [
  {
   "cell_type": "code",
   "execution_count": 1,
   "metadata": {},
   "outputs": [
    {
     "data": {
      "text/plain": [
       "<Figure size 432x288 with 0 Axes>"
      ]
     },
     "metadata": {},
     "output_type": "display_data"
    }
   ],
   "source": [
    "#calling various library\n",
    "import numpy as np\n",
    "from math import *\n",
    "from random import *\n",
    "import matplotlib.pyplot as plt\n",
    "from pylab import rcParams\n",
    "from datetime import datetime\n",
    "fig = plt.figure()\n",
    "time1=datetime.now().strftime('%Y-%m-%d %H:%M:%S')"
   ]
  },
  {
   "cell_type": "code",
   "execution_count": 2,
   "metadata": {},
   "outputs": [],
   "source": [
    "x_arr = np.loadtxt('age kvm x_arr_vts t_1.txt')                                      #all elements are in micron\n",
    "y_arr = np.loadtxt('age kvm y_arr_vts t_1.txt')                                       #all elements are in micron\n",
    "t_arr = np.loadtxt('age kvm dt_arr_vts t_1.txt')"
   ]
  },
  {
   "cell_type": "code",
   "execution_count": 3,
   "metadata": {},
   "outputs": [
    {
     "data": {
      "text/plain": [
       "26649"
      ]
     },
     "execution_count": 3,
     "metadata": {},
     "output_type": "execute_result"
    }
   ],
   "source": [
    "len(x_arr)"
   ]
  },
  {
   "cell_type": "code",
   "execution_count": 4,
   "metadata": {},
   "outputs": [],
   "source": [
    "dt_min=1e-8                                                                   #initial time step\n",
    "dt_max=1e2                                                                  #final time step in msd graph\n",
    "msd_xarr=[]                                                                    #mean squared x\n",
    "msd_yarr=[]                                                                    #mean squared y\n",
    "msd_rarr=[]                                                                    #r is the msd array\n",
    "mean_t_arr=[]                                                                  #dtarray for msd plot\n",
    "\n",
    "N = 36\n",
    "timelaglog= np.logspace( np.log10(dt_min), np.log10(dt_max), num=N ) #nonzero points for msd plot(distributed linearly in log scale)\n",
    "counterarray=[]                                                                 #no of data averaging for particular dt\n"
   ]
  },
  {
   "cell_type": "code",
   "execution_count": 5,
   "metadata": {},
   "outputs": [
    {
     "data": {
      "text/plain": [
       "'timelaglog'"
      ]
     },
     "execution_count": 5,
     "metadata": {},
     "output_type": "execute_result"
    }
   ],
   "source": [
    "'''timelaglog'''"
   ]
  },
  {
   "cell_type": "code",
   "execution_count": 6,
   "metadata": {},
   "outputs": [
    {
     "name": "stdout",
     "output_type": "stream",
     "text": [
      "0\n",
      "no. of  points in bin 629\n",
      "tau= 1.3894954943731375e-08\n",
      "1\n",
      "no. of  points in bin 651\n",
      "tau= 2.6826957952797245e-08\n",
      "2\n",
      "no. of  points in bin 658\n",
      "tau= 5.179474679231207e-08\n",
      "3\n",
      "no. of  points in bin 657\n",
      "tau= 9.999999999999989e-08\n",
      "4\n",
      "no. of  points in bin 668\n",
      "tau= 1.9306977288832494e-07\n",
      "5\n",
      "no. of  points in bin 710\n",
      "tau= 3.727593720314942e-07\n",
      "6\n",
      "no. of  points in bin 739\n",
      "tau= 7.19685673001152e-07\n",
      "7\n",
      "no. of  points in bin 755\n",
      "tau= 1.3894954943731374e-06\n",
      "8\n",
      "no. of  points in bin 740\n",
      "tau= 2.682695795279725e-06\n",
      "9\n",
      "no. of  points in bin 714\n",
      "tau= 5.179474679231207e-06\n",
      "10\n",
      "no. of  points in bin 781\n",
      "tau= 9.99999999999999e-06\n",
      "11\n",
      "no. of  points in bin 760\n",
      "tau= 1.9306977288832496e-05\n",
      "12\n",
      "no. of  points in bin 861\n",
      "tau= 3.727593720314938e-05\n",
      "13\n",
      "no. of  points in bin 842\n",
      "tau= 7.196856730011514e-05\n",
      "14\n",
      "no. of  points in bin 932\n",
      "tau= 0.00013894954943731373\n",
      "15\n",
      "no. of  points in bin 902\n",
      "tau= 0.00026826957952797245\n",
      "16\n",
      "no. of  points in bin 947\n",
      "tau= 0.0005179474679231208\n",
      "17\n",
      "no. of  points in bin 1085\n",
      "tau= 0.000999999999999999\n",
      "18\n",
      "no. of  points in bin 1012\n",
      "tau= 0.0019306977288832477\n",
      "19\n",
      "no. of  points in bin 1048\n",
      "tau= 0.0037275937203149344\n",
      "20\n",
      "no. of  points in bin 1208\n",
      "tau= 0.0071968567300115145\n",
      "21\n",
      "no. of  points in bin 1132\n",
      "tau= 0.013894954943731374\n",
      "22\n",
      "no. of  points in bin 1175\n",
      "tau= 0.026826957952797246\n",
      "23\n",
      "no. of  points in bin 1302\n",
      "tau= 0.05179474679231207\n",
      "24\n",
      "no. of  points in bin 1390\n",
      "tau= 0.0999999999999999\n",
      "25\n",
      "no. of  points in bin 1506\n",
      "tau= 0.19306977288832478\n",
      "26\n",
      "no. of  points in bin 1512\n",
      "tau= 0.37275937203149345\n",
      "27\n",
      "no. of  points in bin 1746\n",
      "tau= 0.7196856730011514\n",
      "28\n",
      "no. of  points in bin 1710\n",
      "tau= 1.389495494373136\n",
      "29\n",
      "no. of  points in bin 1992\n",
      "tau= 2.682695795279722\n",
      "30\n",
      "no. of  points in bin 1869\n",
      "tau= 5.179474679231202\n",
      "31\n",
      "no. of  points in bin 2303\n",
      "tau= 9.99999999999998\n",
      "32\n",
      "no. of  points in bin 2274\n",
      "tau= 19.306977288832496\n",
      "33\n",
      "no. of  points in bin 2530\n",
      "tau= 37.275937203149375\n",
      "34\n",
      "no. of  points in bin 2734\n",
      "tau= 71.96856730011514\n",
      "2020-05-19 11:45:40\n",
      "2020-05-19 11:45:41\n"
     ]
    }
   ],
   "source": [
    "time1=datetime.now().strftime('%Y-%m-%d %H:%M:%S')\n",
    "\n",
    "for m in range(0,len(timelaglog)-1):\n",
    "    print(m)\n",
    "    r=0 \n",
    "    x=0\n",
    "    y=0 \n",
    "    count=0                                                                   #counter no of elements for data avraging for particular dt\n",
    "    for i in range(len(t_arr)):\n",
    "        for j in range(i+1,len(t_arr)):\n",
    "            timelag = t_arr[j]-t_arr[i]                                       #time difference between i'th and j'th elements\n",
    "            if timelag >= timelaglog[m]:\n",
    "                if timelag <= timelaglog[m+1]:\n",
    "                    x = x+((x_arr[j]-x_arr[i])**2)\n",
    "                    y = y+((y_arr[j]-y_arr[i])**2)\n",
    "                    count = count+1\n",
    "                else:\n",
    "                    break;\n",
    "            else:\n",
    "                break;           \n",
    "    print('no. of  points in bin',count) \n",
    "    x=float(x/count)\n",
    "    y=float(y/count)\n",
    "    r=float(x+y) \n",
    "    msd_xarr.append(x)\n",
    "    msd_yarr.append(y)                                                          #msd for a particual dt\n",
    "    msd_rarr.append(r)\n",
    "    mean_t_arr.append(np.sqrt(timelaglog[m]*timelaglog[m+1]))\n",
    "    print( 'tau=', np.sqrt(timelaglog[m]*timelaglog[m+1]) )\n",
    "    counterarray.append(count)\n",
    "  \n",
    "    \n",
    "time2=datetime.now().strftime('%Y-%m-%d %H:%M:%S') # final time ending of the run time\n",
    "print(time1)\n",
    "print(time2) "
   ]
  },
  {
   "cell_type": "code",
   "execution_count": 7,
   "metadata": {},
   "outputs": [
    {
     "data": {
      "text/plain": [
       "\"np.savetxt('msd_x_iso.txt',msd_xarr)\\nnp.savetxt('msd_y_iso.txt',msd_yarr)\\nnp.savetxt('msd_r_iso.txt',msd_rarr)\\nnp.savetxt('t_arr_formsd_iso.txt',mean_t_arr)\\nnp.savetxt('counterarray.txt',counterarray)\""
      ]
     },
     "execution_count": 7,
     "metadata": {},
     "output_type": "execute_result"
    }
   ],
   "source": [
    "'''np.savetxt('msd_x_iso.txt',msd_xarr)\n",
    "np.savetxt('msd_y_iso.txt',msd_yarr)\n",
    "np.savetxt('msd_r_iso.txt',msd_rarr)\n",
    "np.savetxt('t_arr_formsd_iso.txt',mean_t_arr)\n",
    "np.savetxt('counterarray.txt',counterarray)'''"
   ]
  },
  {
   "cell_type": "code",
   "execution_count": 8,
   "metadata": {},
   "outputs": [],
   "source": [
    "msd_rarr = np.array(msd_rarr)\n",
    "msd_xarr = np.array(msd_xarr)\n",
    "msd_yarr = np.array(msd_yarr)"
   ]
  },
  {
   "cell_type": "code",
   "execution_count": 10,
   "metadata": {},
   "outputs": [
    {
     "data": {
      "image/png": "[encoded data removed]",
      "text/plain": [
       "<Figure size 432x288 with 1 Axes>"
      ]
     },
     "metadata": {
      "needs_background": "light"
     },
     "output_type": "display_data"
    }
   ],
   "source": [
    "#plt.plot(mean_t_arr,msd_xarr*1e18,'bo-')\n",
    "plt.plot(mean_t_arr,msd_yarr*1e18,'ro-')\n",
    "plt.ylabel(r'$<\\Delta x^2>,<\\Delta y^2> \\ \\  (nm^2)$',size=15)\n",
    "plt.xlabel(r'$\\tau  (s)$',size=20)\n",
    "plt.xscale('log')\n",
    "plt.yscale('log')\n",
    "#plt.savefig('mvm_iso_x_y_long.png')\n",
    "plt.show()"
   ]
  },
  {
   "cell_type": "code",
   "execution_count": 10,
   "metadata": {},
   "outputs": [
    {
     "data": {
      "image/png": "[encoded data removed]",
      "text/plain": [
       "<Figure size 432x288 with 1 Axes>"
      ]
     },
     "metadata": {
      "needs_background": "light"
     },
     "output_type": "display_data"
    }
   ],
   "source": [
    "plt.plot(mean_t_arr,msd_rarr*1e18,'go-')\n",
    "plt.ylabel(r'$<\\Delta r^2> \\ \\  (nm^2)$',size=20)\n",
    "plt.xlabel(r'$\\tau  (s)$',size=20)\n",
    "plt.xscale('log')\n",
    "plt.yscale('log')\n",
    "#plt.savefig('mvm_iso_long.png')\n",
    "plt.show()"
   ]
  },
  {
   "cell_type": "code",
   "execution_count": 11,
   "metadata": {},
   "outputs": [
    {
     "data": {
      "text/plain": [
       "'import numpy\\na = numpy.asarray([ mean_t_arr, msd_rarr, msd_xarr, msd_yarr])\\nindex = [\\'time\\', \\'msd_r\\', \\'msd_x\\', \\'msd_y\\']\\n\\nimport pandas as pd\\ndf_a = pd.DataFrame(a, index)\\ndf_a_tp = pd.DataFrame.transpose(df_a)\\n\\nnumpy.savetxt(\"mvm_vts_iso_2.csv\", df_a_tp, delimiter=\",\")'"
      ]
     },
     "execution_count": 11,
     "metadata": {},
     "output_type": "execute_result"
    }
   ],
   "source": [
    "'''import numpy\n",
    "a = numpy.asarray([ mean_t_arr, msd_rarr, msd_xarr, msd_yarr])\n",
    "index = ['time', 'msd_r', 'msd_x', 'msd_y']\n",
    "\n",
    "import pandas as pd\n",
    "df_a = pd.DataFrame(a, index)\n",
    "df_a_tp = pd.DataFrame.transpose(df_a)\n",
    "\n",
    "numpy.savetxt(\"mvm_vts_iso_2.csv\", df_a_tp, delimiter=\",\")'''"
   ]
  },
  {
   "cell_type": "code",
   "execution_count": null,
   "metadata": {},
   "outputs": [],
   "source": []
  }
 ],
 "metadata": {
  "kernelspec": {
   "display_name": "Python 3",
   "language": "python",
   "name": "python3"
  },
  "language_info": {
   "codemirror_mode": {
    "name": "ipython",
    "version": 3
   },
   "file_extension": ".py",
   "mimetype": "text/x-python",
   "name": "python",
   "nbconvert_exporter": "python",
   "pygments_lexer": "ipython3",
   "version": "3.7.3"
  }
 },
 "nbformat": 4,
 "nbformat_minor": 2
}
