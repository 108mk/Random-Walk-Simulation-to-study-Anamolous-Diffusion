{
 "cells": [
  {
   "cell_type": "code",
   "execution_count": 1,
   "metadata": {},
   "outputs": [],
   "source": [
    "#brownian particle in a ideal Newtonian fluid (2d):\n",
    "\n",
    "#calling various library\n",
    "import numpy as np\n",
    "from math import *\n",
    "from random import *\n",
    "import matplotlib.pyplot as plt"
   ]
  },
  {
   "cell_type": "code",
   "execution_count": 2,
   "metadata": {},
   "outputs": [],
   "source": [
    "#system parameters.\n",
    "T=300.0                                   #temparature in unit kelvin\n",
    "eta_x = 1e4                       #viscosity co efficient in unit Pa.s\n",
    "eta_y = 2*eta_x\n",
    "\n",
    "eta_s=1e-3\n",
    "a=2e-6                          #diameter of the probe sphere in meter\n",
    "\n",
    "dt_min=1e-8                                      #time step in unit second\n",
    "dt_max=1e4\n",
    "tf=1.5e7                             #total time in unit second\n",
    "\n",
    "kb=1.38e-23                      #boltzman constant s.i unit\n",
    "Gp_x = 1000                                    #elastic modulus for both model Pa\n",
    "Gp_y = 2*Gp_x\n",
    "#some constants determined from the above parameters\n",
    "\n",
    "D_x=(kb*T)/(6*pi*eta_x*(a/2))                  #diffusion coefficient of liquid\n",
    "D_y=(kb*T)/(6*pi*eta_y*(a/2)) \n",
    "\n",
    "m=0.0                                     #mean of the random walk motion\n",
    "lamb_x=(eta_s/Gp_x)\n",
    "lamb_y=(eta_s/Gp_y)\n",
    "\n",
    "k_x=6*pi*(a/2)*Gp_x   \n",
    "k_y=6*pi*(a/2)*Gp_y\n",
    "\n",
    "\n",
    "    "
   ]
  },
  {
   "cell_type": "code",
   "execution_count": 3,
   "metadata": {},
   "outputs": [],
   "source": [
    "#body of the code\n",
    "xm=0.0                                     #initial x cordinate in unit micro meter\n",
    "ym=0.0                                     #initial y cordinate in unit micro meter\n",
    "xarr_m=[]                                #list of total x after ith step\n",
    "yarr_m=[]                                #list of total y after ith step\n",
    "\n",
    "xv=0.0                                     #initial x cordinate in unit micro meter\n",
    "yv=0.0                                     #initial y cordinate in unit micro meter\n",
    "xarr_v=[]                                #list of total x after ith step\n",
    "yarr_v=[]                                #list of total y after \n",
    "\n",
    "t=0.0\n",
    "t_arr=[]                               #delta time array in seconds\n",
    "dt_arr=[]"
   ]
  },
  {
   "cell_type": "code",
   "execution_count": 4,
   "metadata": {},
   "outputs": [],
   "source": [
    "t = 0\n",
    "while t < tf:\n",
    "    #--------------------maxwell part of the code\n",
    "    p=uniform(-8,4)\n",
    "    dt=(10**p)                            #linear distributed in 10 base logscale of time\n",
    "    s_x=((2*D_x*dt)**(0.5))                   #standard deviation of the random walk in  meter\n",
    "    s_y=((2*D_y*dt)**(0.5))\n",
    "    \n",
    "    \n",
    "    xm=xm+(gauss(m,s_x))\n",
    "    xarr_m.append(xm)\n",
    "    \n",
    "    ym=ym+(gauss(m,s_y))\n",
    "    yarr_m.append(ym)\n",
    "    \n",
    "    \n",
    "    #---------------------voight part of the code\n",
    "    Ax=xv*exp(-(dt/lamb_x))\n",
    "    Bx=sqrt(((kb*T)/k_x)*(1-exp(-(2*dt/lamb_x))))\n",
    "    \n",
    "    Ay=yv*exp(-(dt/lamb_y))\n",
    "    By=sqrt(((kb*T)/k_y)*(1-exp(-(2*dt/lamb_y))))\n",
    "    \n",
    "    xv=(gauss(Ax,Bx))\n",
    "    xarr_v.append(xv)\n",
    "    \n",
    "    yv=(gauss(Ay,By))\n",
    "    yarr_v.append(yv)\n",
    "    \n",
    "    t=t+dt\n",
    "    t_arr.append(t)\n",
    "    dt_arr.append(dt)\n",
    "    \n",
    "xarr_m=np.array(xarr_m)\n",
    "yarr_m=np.array(yarr_m)\n",
    "xarr_v=np.array(xarr_v)\n",
    "yarr_v=np.array(yarr_v)\n",
    "\n",
    "xarr_mv=xarr_m +xarr_v\n",
    "yarr_mv=yarr_m +yarr_v\n",
    "\n",
    "\n",
    "xarr_mv = np.array(xarr_mv)\n",
    "yarr_mv = np.array(yarr_mv)"
   ]
  },
  {
   "cell_type": "code",
   "execution_count": 5,
   "metadata": {},
   "outputs": [
    {
     "data": {
      "image/png": "[encoded data removed]",
      "text/plain": [
       "<Figure size 432x432 with 1 Axes>"
      ]
     },
     "metadata": {
      "needs_background": "light"
     },
     "output_type": "display_data"
    }
   ],
   "source": [
    "from pylab import rcParams\n",
    "rcParams ['figure.figsize']=6,6\n",
    "\n",
    "\n",
    "plt.plot(xarr_mv*1e6,yarr_mv*1e6,'blue')\n",
    "plt.plot(xarr_m*1e6,yarr_m*1e6,'red')\n",
    "\n",
    "plt.ylabel(r'$\\mu m$', size=20)\n",
    "plt.xlabel(r'$\\mu m$', size=20)\n",
    "plt.axis('square')\n",
    "plt.show()\n"
   ]
  },
  {
   "cell_type": "code",
   "execution_count": 6,
   "metadata": {},
   "outputs": [],
   "source": [
    "np.savetxt('Desktop/01.txt',xarr_mv)\n",
    "np.savetxt('Desktop/02.txt', yarr_mv)\n",
    "np.savetxt('Desktop/03.txt',t_arr)"
   ]
  },
  {
   "cell_type": "code",
   "execution_count": null,
   "metadata": {},
   "outputs": [],
   "source": []
  }
 ],
 "metadata": {
  "kernelspec": {
   "display_name": "Python 3",
   "language": "python",
   "name": "python3"
  },
  "language_info": {
   "codemirror_mode": {
    "name": "ipython",
    "version": 3
   },
   "file_extension": ".py",
   "mimetype": "text/x-python",
   "name": "python",
   "nbconvert_exporter": "python",
   "pygments_lexer": "ipython3",
   "version": "3.7.3"
  }
 },
 "nbformat": 4,
 "nbformat_minor": 2
}
