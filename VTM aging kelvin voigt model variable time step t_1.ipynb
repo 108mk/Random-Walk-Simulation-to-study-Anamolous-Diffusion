{
 "cells": [
  {
   "cell_type": "code",
   "execution_count": 1,
   "metadata": {},
   "outputs": [],
   "source": [
    "import numpy as np\n",
    "from math import *\n",
    "from random import *\n",
    "import matplotlib.pyplot as plt\n",
    "\n",
    "from datetime import datetime\n",
    "time1=datetime.now().strftime('%Y-%m-%d %H:%M:%S')\n",
    "                                                  #initial time starting of the runtime\n",
    "#----------system parameters------------------------------\n",
    "T=300.0                          #temparature in unit kelvin\n",
    "etas=1e-3\n",
    "a=2e-6                           #diameter of the probe sphere in meter\n",
    "\n",
    "kb=1.38e-23                      #boltzman constant s.i unit\n",
    "#Gp=2.2e-5                          #elastic modulus for both model Pa\n",
    "Gp=1000\n",
    "#----------some constants determined from the above parameters\n",
    "m=0.0                                     #mean of the random walk motion\n",
    "lamb=(etas/Gp)\n",
    "k=6*pi*(a/2)*Gp   "
   ]
  },
  {
   "cell_type": "code",
   "execution_count": 2,
   "metadata": {},
   "outputs": [],
   "source": [
    "#---------body of the code---------------------------\n",
    "xv1=10e-6                                #initial x cordinate in unit micro meter\n",
    "yv1=10e-6                                  #initial y cordinate in unit micro meter\n",
    "xarr_v1=[]                                #list of total x after ith step\n",
    "yarr_v1=[]                                #list of total y after \n",
    "t_arr1=[]\n",
    "xstep1_arr=[]"
   ]
  },
  {
   "cell_type": "code",
   "execution_count": 12,
   "metadata": {},
   "outputs": [],
   "source": [
    "#---------body of the code---------------------------\n",
    "xv2=40e-6                                   #initial x cordinate in unit micro meter\n",
    "yv2=40e-6                                 #initial y cordinate in unit micro meter\n",
    "xarr_v2=[]                                #list of total x after ith step\n",
    "yarr_v2=[]                                #list of total y after \n",
    "t_arr2=[]\n",
    "xstep2_arr=[]\n"
   ]
  },
  {
   "cell_type": "code",
   "execution_count": 18,
   "metadata": {},
   "outputs": [],
   "source": [
    "#---------body of the code---------------------------\n",
    "xv3=80e-6                                   #initial x cordinate in unit micro meter\n",
    "yv3=80e-6                                 #initial y cordinate in unit micro meter\n",
    "xarr_v3=[]                                #list of total x after ith step\n",
    "yarr_v3=[]                                #list of total y after \n",
    "t_arr3=[]\n",
    "xstep3_arr=[]\n",
    "\n"
   ]
  },
  {
   "cell_type": "code",
   "execution_count": 3,
   "metadata": {},
   "outputs": [
    {
     "data": {
      "text/plain": [
       "1e-06"
      ]
     },
     "execution_count": 3,
     "metadata": {},
     "output_type": "execute_result"
    }
   ],
   "source": [
    "lamb"
   ]
  },
  {
   "cell_type": "code",
   "execution_count": 4,
   "metadata": {},
   "outputs": [],
   "source": [
    "A = lamb\n",
    "alpha = 0.088\n",
    "beta = 0.033"
   ]
  },
  {
   "cell_type": "code",
   "execution_count": 5,
   "metadata": {},
   "outputs": [],
   "source": [
    "time = 0\n",
    "\n",
    "\n",
    "time1=180+60+20\n",
    "time2=220+60+20\n",
    "time3=260+60+20\n",
    "time4=450+60+20\n",
    "time5=540+60+20\n"
   ]
  },
  {
   "cell_type": "code",
   "execution_count": 6,
   "metadata": {},
   "outputs": [
    {
     "data": {
      "text/plain": [
       "1.6233459850084566"
      ]
     },
     "execution_count": 6,
     "metadata": {},
     "output_type": "execute_result"
    }
   ],
   "source": [
    "A*exp((alpha-beta)*time1)"
   ]
  },
  {
   "cell_type": "code",
   "execution_count": 7,
   "metadata": {},
   "outputs": [
    {
     "data": {
      "text/plain": [
       "14.650719428953465"
      ]
     },
     "execution_count": 7,
     "metadata": {},
     "output_type": "execute_result"
    }
   ],
   "source": [
    "A*exp((alpha-beta)*time2)"
   ]
  },
  {
   "cell_type": "code",
   "execution_count": 19,
   "metadata": {},
   "outputs": [
    {
     "data": {
      "text/plain": [
       "132.22294062272715"
      ]
     },
     "execution_count": 19,
     "metadata": {},
     "output_type": "execute_result"
    }
   ],
   "source": [
    "A*exp((alpha-beta)*time3)"
   ]
  },
  {
   "cell_type": "code",
   "execution_count": null,
   "metadata": {},
   "outputs": [],
   "source": [
    "A*exp((alpha-beta)*time4)"
   ]
  },
  {
   "cell_type": "code",
   "execution_count": null,
   "metadata": {},
   "outputs": [],
   "source": [
    "A*exp(alpha*time5)"
   ]
  },
  {
   "cell_type": "code",
   "execution_count": 11,
   "metadata": {},
   "outputs": [],
   "source": [
    "#---------body of the code---------------------------\n",
    "xv=xv1\n",
    "yv=yv1\n",
    "xarr_v=xarr_v1\n",
    "yarr_v=yarr_v1\n",
    "t_arr=t_arr1\n",
    "xstep_arr=xstep1_arr\n",
    "time=time1"
   ]
  },
  {
   "cell_type": "code",
   "execution_count": 14,
   "metadata": {},
   "outputs": [],
   "source": [
    "#---------body of the code---------------------------\n",
    "xv=xv2\n",
    "yv=yv2\n",
    "xarr_v=xarr_v2\n",
    "yarr_v=yarr_v2\n",
    "t_arr=t_arr2\n",
    "xstep_arr=xstep2_arr\n",
    "time=time2"
   ]
  },
  {
   "cell_type": "code",
   "execution_count": 20,
   "metadata": {},
   "outputs": [],
   "source": [
    "#---------body of the code---------------------------\n",
    "xv=xv3\n",
    "yv=yv3\n",
    "xarr_v=xarr_v3\n",
    "yarr_v=yarr_v3\n",
    "t_arr=t_arr3\n",
    "xstep_arr=xstep3_arr\n",
    "time=time3"
   ]
  },
  {
   "cell_type": "code",
   "execution_count": 12,
   "metadata": {},
   "outputs": [],
   "source": [
    "tau_t=0\n",
    "tf = time+60                                #total time in unit second\n",
    "t = time\n",
    "dt=0\n",
    "while t < tf:\n",
    "    #--------------------maxwell part of the code--------\n",
    "    p=uniform(-4,0)\n",
    "    dt=(10**p)                            #linear distributed in 10 base logscale of time\n",
    "\n",
    "\n",
    "    tau_t = exp((alpha-beta)*time)\n",
    "    tau_tt = exp(beta*time)\n",
    "    \n",
    "    \n",
    "    #---------------------voigt part of the code--------\n",
    "    Ax=xv*exp(-(dt/lamb*tau_t))\n",
    "    Bx=sqrt(((kb*T)/k*tau_tt)*(1-exp(-(2*dt/lamb*tau_t))))\n",
    "    \n",
    "    Ay=yv*exp(-(dt/lamb*tau_t))\n",
    "    By=sqrt(((kb*T)/k*tau_tt)*(1-exp(-(2*dt/lamb*tau_t))))\n",
    "    \n",
    "    xstep=(gauss(Ax,Bx))\n",
    "    xv=xv+xstep\n",
    "    xarr_v.append(xv)\n",
    "    \n",
    "    xstep_arr.append(xstep)\n",
    "    \n",
    "    ystep=(gauss(Ay,By))\n",
    "    yv=yv+ystep\n",
    "    yarr_v.append(yv)\n",
    "    \n",
    "    t=t+dt\n",
    "    t_arr.append(t)"
   ]
  },
  {
   "cell_type": "code",
   "execution_count": 13,
   "metadata": {},
   "outputs": [
    {
     "data": {
      "text/plain": [
       "782"
      ]
     },
     "execution_count": 13,
     "metadata": {},
     "output_type": "execute_result"
    }
   ],
   "source": [
    "len(xstep1_arr)"
   ]
  },
  {
   "cell_type": "code",
   "execution_count": 10,
   "metadata": {},
   "outputs": [],
   "source": [
    "xstep1_arr=np.array(xstep1_arr)"
   ]
  },
  {
   "cell_type": "code",
   "execution_count": 11,
   "metadata": {},
   "outputs": [
    {
     "data": {
      "text/plain": [
       "(array([  1.,   0.,   0.,   0.,   0.,   0.,   0.,   0.,   0.,   0.,   0.,\n",
       "          0.,   0.,   0.,   0.,   0.,   0.,   0.,   0.,   0.,   0.,   0.,\n",
       "          1.,   0.,   0.,   0.,   0.,   0.,   0.,   0.,   0.,   0.,   0.,\n",
       "          0.,   1.,   0.,   0.,   0.,   0.,   0.,   0.,   0.,   0.,   0.,\n",
       "          1.,   1.,   0.,   0.,   0.,   0.,   0.,   0.,   0.,   0.,   0.,\n",
       "          1.,   0.,   0.,   0.,   0.,   0.,   0.,   0.,   0.,   0.,   0.,\n",
       "          0.,   0.,   0.,   0.,   0.,   0.,   0.,   0.,   0.,   0.,   0.,\n",
       "          0.,   0.,   0.,   2.,   0.,   0.,   0.,   1.,   0.,   0.,   0.,\n",
       "          0.,   0.,   0.,   0.,   0.,   0.,   1.,   0.,   0.,   0.,   0.,\n",
       "          0.,   0.,   0.,   1.,   0.,   0.,   1.,   0.,   0.,   1.,   2.,\n",
       "          0.,   0.,   1.,   0.,   0.,   0.,   0.,   2.,   1.,   0.,   0.,\n",
       "          0.,   1.,   1.,   2.,   1.,   1.,   1.,   1.,   0.,   1.,   1.,\n",
       "          1.,   1.,   0.,   2.,   1.,   0.,   0.,   0.,   2.,   0.,   1.,\n",
       "          0.,   0.,   1.,   0.,   0.,   2.,   1.,   0.,   1.,   1.,   0.,\n",
       "          0.,   3.,   2.,   1.,   0.,   1.,   2.,   4.,   1.,   2.,   3.,\n",
       "          4.,   3.,   1.,   3.,   4.,   2.,   0.,   3.,   1.,   5.,   3.,\n",
       "          3.,   2.,   0.,   3.,   1.,   3.,   1.,   3.,   0.,   7.,   6.,\n",
       "          3.,   0.,   5.,   2.,   2.,   3.,   0.,   4.,   2.,   3.,   2.,\n",
       "          2.,   7.,   1.,   5.,   2.,   1.,   6.,   1.,   5.,   0.,   2.,\n",
       "          2.,   3.,   4.,   8.,   8.,   7.,   2.,   9.,   4.,   3.,   6.,\n",
       "          5.,   7.,   5.,   5.,   6.,   6.,   6.,   3.,   6.,   6.,   3.,\n",
       "          6.,  13.,   8.,   5.,   5.,   3.,   6.,   6.,   5.,   9.,   8.,\n",
       "          2.,   9.,   9.,  11.,   4.,  11.,  10.,  12.,   4.,   7.,  10.,\n",
       "         12.,   8.,   8.,  10.,   7.,  11.,   9.,  16.,  10.,  14.,  14.,\n",
       "         12.,  10.,   8.,   6.,  12.,   9.,  17.,  14.,  17.,  26.,   8.,\n",
       "         15.,  14.,  17.,  12.,  17.,  13.,  19.,  23.,  15.,  11.,  13.,\n",
       "         17.,  14.,  17.,  15.,  21.,  24.,  21.,  31.,  14.,  15.,  13.,\n",
       "         17.,  19.,  27.,  21.,  16.,  18.,  18.,  15.,  21.,  16.,  20.,\n",
       "         21.,  25.,  26.,  23.,  21.,  18.,  24.,  28.,  26.,  26.,  27.,\n",
       "         22.,  31.,  27.,  25.,  34.,  16.,  34.,  30.,  31.,  31.,  30.,\n",
       "         29.,  26.,  20.,  32.,  31.,  26.,  21.,  35.,  49.,  35.,  38.,\n",
       "         26.,  41.,  34.,  33.,  35.,  41.,  31.,  39.,  31.,  36.,  40.,\n",
       "         31.,  41.,  43.,  32.,  31.,  38.,  38.,  41.,  46.,  37.,  19.,\n",
       "         30.,  39.,  39.,  44.,  35.,  29.,  51.,  44.,  47.,  39.,  43.,\n",
       "         48.,  41.,  51.,  43.,  52.,  56.,  44.,  44.,  50.,  50.,  46.,\n",
       "         64.,  47.,  49.,  39.,  58.,  43.,  51.,  42.,  52.,  53.,  65.,\n",
       "         58.,  54.,  54.,  56.,  49.,  53.,  47.,  60.,  56.,  62.,  53.,\n",
       "         46.,  56.,  55.,  54.,  70.,  73.,  81.,  62.,  54.,  54.,  69.,\n",
       "         73.,  63.,  63.,  63.,  58.,  61.,  63.,  62.,  74.,  69.,  62.,\n",
       "         67.,  61.,  52.,  65.,  62.,  73.,  67.,  71.,  67.,  70.,  65.,\n",
       "         62.,  79.,  59.,  77.,  66.,  67.,  64.,  92.,  92.,  79.,  82.,\n",
       "         80.,  82.,  99.,  56.,  68.,  68.,  83.,  83.,  73.,  64.,  72.,\n",
       "         68.,  87.,  90.,  71.,  92.,  85.,  93.,  79.,  87.,  81.,  76.,\n",
       "         85.,  72.,  68.,  82.,  93.,  91.,  88.,  80.,  85.,  59.,  83.,\n",
       "         75.,  88.,  81.,  85.,  89., 100.,  95.,  74.,  77.,  94.,  88.,\n",
       "        102.,  93.,  75.,  91.,  87.,  88., 111.,  82.,  78.,  76.,  90.,\n",
       "         74.,  90.,  74.,  95.,  78.,  90.,  85.,  92.,  95.,  88.,  79.,\n",
       "        105., 109.,  82.,  81.,  87.,  79.,  89.,  96.,  97.,  86.,  92.,\n",
       "         94.,  84.,  86.,  84.,  83.,  90.,  86.,  74.,  98.,  79.,  73.,\n",
       "         96.,  85.,  90.,  96.,  74.,  75.,  83.,  73.,  90.,  89.,  80.,\n",
       "         72.,  78.,  78.,  85.,  97.,  91.,  80.,  83.,  55.,  75.,  93.,\n",
       "         96.,  99.,  82.,  62.,  90.,  86.,  68.,  92.,  84.,  77.,  53.,\n",
       "         64.,  76.,  95.,  86.,  73.,  79.,  75.,  93.,  78.,  67.,  62.,\n",
       "         77.,  66.,  85.,  76.,  74.,  56.,  65.,  78.,  65.,  69.,  73.,\n",
       "         77.,  76.,  85.,  76.,  75.,  62.,  57.,  51.,  71.,  61.,  60.,\n",
       "         78.,  74.,  64.,  79.,  80.,  60.,  57.,  74.,  51.,  52.,  67.,\n",
       "         71.,  75.,  55.,  65.,  76.,  45.,  61.,  53.,  47.,  57.,  56.,\n",
       "         57.,  59.,  70.,  61.,  58.,  50.,  63.,  52.,  64.,  71.,  55.,\n",
       "         57.,  51.,  59.,  50.,  54.,  60.,  48.,  50.,  45.,  57.,  54.,\n",
       "         45.,  60.,  43.,  44.,  49.,  48.,  36.,  66.,  43.,  37.,  44.,\n",
       "         42.,  47.,  49.,  45.,  46.,  52.,  47.,  44.,  45.,  37.,  48.,\n",
       "         47.,  46.,  39.,  38.,  38.,  27.,  39.,  38.,  45.,  48.,  38.,\n",
       "         31.,  40.,  44.,  35.,  43.,  42.,  39.,  47.,  41.,  33.,  38.,\n",
       "         36.,  30.,  27.,  42.,  37.,  35.,  30.,  30.,  31.,  31.,  35.,\n",
       "         29.,  32.,  25.,  32.,  27.,  29.,  36.,  34.,  28.,  29.,  30.,\n",
       "         21.,  23.,  29.,  29.,  25.,  24.,  24.,  26.,  14.,  23.,  30.,\n",
       "         34.,  24.,  22.,  29.,  22.,  15.,  23.,  19.,  22.,  24.,  23.,\n",
       "         19.,  19.,  21.,  19.,  20.,  15.,  21.,  20.,  18.,  14.,  18.,\n",
       "         18.,  18.,  12.,  12.,  17.,  19.,  22.,  13.,  15.,  13.,  18.,\n",
       "         18.,  15.,  16.,  13.,  16.,  20.,  12.,  15.,  10.,  10.,  13.,\n",
       "         14.,  16.,   9.,   8.,  10.,  12.,  10.,   9.,   9.,   7.,  11.,\n",
       "         12.,   7.,  11.,   8.,  10.,   8.,   9.,  15.,   8.,   5.,   8.,\n",
       "          7.,   6.,   8.,   9.,   9.,  11.,  13.,   5.,  10.,   6.,   7.,\n",
       "          5.,   8.,   5.,   5.,  10.,   9.,  10.,  10.,   6.,   8.,  10.,\n",
       "          7.,  10.,   6.,   4.,   4.,   2.,   5.,  12.,   3.,   7.,   8.,\n",
       "          7.,   2.,   5.,   2.,   2.,   2.,   2.,   4.,   2.,   2.,   5.,\n",
       "          2.,   2.,   5.,   7.,   3.,   3.,   3.,   4.,   5.,   6.,   3.,\n",
       "          7.,   1.,   0.,   2.,   0.,   3.,   3.,   4.,   3.,   6.,   2.,\n",
       "          2.,   2.,   1.,   0.,   1.,   2.,   3.,   1.,   2.,   1.,   1.,\n",
       "          3.,   0.,   1.,   1.,   2.,   1.,   2.,   4.,   2.,   3.,   1.,\n",
       "          0.,   1.,   2.,   0.,   6.,   3.,   0.,   2.,   1.,   2.,   2.,\n",
       "          2.,   0.,   2.,   2.,   0.,   1.,   0.,   3.,   0.,   1.,   2.,\n",
       "          1.,   1.,   1.,   1.,   0.,   0.,   0.,   1.,   0.,   0.,   2.,\n",
       "          1.,   0.,   3.,   0.,   0.,   0.,   0.,   2.,   1.,   2.,   0.,\n",
       "          0.,   0.,   0.,   0.,   1.,   0.,   1.,   0.,   1.,   0.,   0.,\n",
       "          0.,   0.,   1.,   0.,   0.,   2.,   0.,   0.,   0.,   0.,   0.,\n",
       "          0.,   0.,   0.,   2.,   0.,   1.,   0.,   0.,   0.,   0.,   0.,\n",
       "          1.,   1.,   0.,   1.,   0.,   0.,   1.,   0.,   0.,   0.,   0.,\n",
       "          0.,   0.,   0.,   1.,   0.,   0.,   0.,   0.,   0.,   0.,   0.,\n",
       "          0.,   0.,   0.,   1.,   0.,   0.,   0.,   0.,   0.,   0.,   0.,\n",
       "          0.,   0.,   0.,   0.,   0.,   0.,   0.,   0.,   0.,   1.]),\n",
       " array([-1.39638706e-07, -1.39370051e-07, -1.39101396e-07, ...,\n",
       "         1.28479181e-07,  1.28747836e-07,  1.29016492e-07]),\n",
       " <a list of 1000 Patch objects>)"
      ]
     },
     "execution_count": 11,
     "metadata": {},
     "output_type": "execute_result"
    },
    {
     "data": {
      "image/png": "[encoded data removed]",
      "text/plain": [
       "<Figure size 432x288 with 1 Axes>"
      ]
     },
     "metadata": {
      "needs_background": "light"
     },
     "output_type": "display_data"
    }
   ],
   "source": [
    "plt.hist(xstep1_arr, bins=1000, alpha=0.5)"
   ]
  },
  {
   "cell_type": "code",
   "execution_count": 16,
   "metadata": {},
   "outputs": [],
   "source": [
    "xstep2_arr=np.array(xstep2_arr)"
   ]
  },
  {
   "cell_type": "code",
   "execution_count": 17,
   "metadata": {},
   "outputs": [
    {
     "data": {
      "text/plain": [
       "(array([  1.,   0.,   0.,   0.,   0.,   0.,   0.,   0.,   0.,   0.,   0.,\n",
       "          0.,   0.,   0.,   0.,   0.,   0.,   1.,   0.,   0.,   0.,   0.,\n",
       "          0.,   2.,   0.,   1.,   0.,   0.,   0.,   0.,   0.,   0.,   0.,\n",
       "          0.,   0.,   0.,   0.,   0.,   0.,   1.,   0.,   0.,   0.,   0.,\n",
       "          2.,   1.,   0.,   0.,   0.,   0.,   1.,   0.,   0.,   0.,   0.,\n",
       "          0.,   0.,   0.,   0.,   0.,   1.,   1.,   1.,   1.,   1.,   2.,\n",
       "          1.,   3.,   0.,   1.,   1.,   2.,   1.,   1.,   1.,   1.,   1.,\n",
       "          0.,   1.,   1.,   3.,   1.,   0.,   1.,   1.,   0.,   3.,   0.,\n",
       "          2.,   1.,   0.,   1.,   0.,   0.,   1.,   1.,   0.,   0.,   0.,\n",
       "          2.,   1.,   0.,   1.,   1.,   2.,   2.,   0.,   0.,   2.,   4.,\n",
       "          4.,   4.,   1.,   2.,   2.,   3.,   2.,   2.,   0.,   5.,   3.,\n",
       "          3.,   3.,   4.,   3.,   2.,   4.,   2.,   7.,   2.,   3.,   3.,\n",
       "          2.,   5.,   1.,   5.,   3.,   3.,   2.,   3.,   3.,   3.,   6.,\n",
       "          4.,   5.,   3.,   6.,   5.,   3.,   1.,   4.,   5.,   6.,   4.,\n",
       "          7.,   5.,   4.,   6.,   2.,   5.,   2.,   6.,   2.,   7.,   7.,\n",
       "          5.,   6.,   5.,   5.,   2.,  10.,   7.,  11.,   6.,   1.,   9.,\n",
       "          7.,  12.,   2.,   8.,   4.,   8.,   7.,   9.,   6.,   6.,   5.,\n",
       "          9.,   8.,  10.,   7.,  12.,   6.,   8.,  10.,   8.,   9.,   6.,\n",
       "          9.,  13.,  16.,  12.,   9.,  11.,  15.,   9.,   9.,  17.,  11.,\n",
       "         11.,  12.,  12.,   6.,  16.,   8.,  12.,  14.,  13.,  20.,  15.,\n",
       "         17.,  10.,  19.,   8.,  17.,  19.,  14.,  11.,  11.,  15.,  14.,\n",
       "          8.,  25.,  25.,  13.,  20.,  16.,  17.,  18.,  19.,  13.,  23.,\n",
       "         21.,  14.,  24.,  18.,  18.,  13.,  21.,  29.,  10.,  22.,  20.,\n",
       "         21.,  19.,  36.,  24.,  21.,  29.,  23.,  14.,  20.,  21.,  20.,\n",
       "         25.,  17.,  15.,  17.,  23.,  36.,  20.,  34.,  31.,  35.,  29.,\n",
       "         20.,  21.,  21.,  34.,  33.,  38.,  34.,  17.,  27.,  32.,  35.,\n",
       "         31.,  29.,  30.,  32.,  27.,  36.,  37.,  37.,  33.,  22.,  32.,\n",
       "         17.,  40.,  24.,  23.,  37.,  29.,  33.,  33.,  38.,  44.,  34.,\n",
       "         30.,  40.,  33.,  38.,  38.,  37.,  44.,  46.,  50.,  42.,  35.,\n",
       "         45.,  46.,  28.,  39.,  41.,  41.,  46.,  47.,  59.,  36.,  50.,\n",
       "         45.,  35.,  40.,  45.,  44.,  43.,  37.,  48.,  56.,  45.,  51.,\n",
       "         48.,  43.,  48.,  51.,  45.,  45.,  54.,  49.,  67.,  54.,  40.,\n",
       "         55.,  49.,  63.,  59.,  61.,  58.,  57.,  60.,  48.,  61.,  51.,\n",
       "         68.,  64.,  63.,  66.,  61.,  56.,  46.,  65.,  64.,  53.,  64.,\n",
       "         65.,  60.,  62.,  67.,  63.,  66.,  66.,  70.,  67.,  73.,  54.,\n",
       "         77.,  45.,  62.,  70.,  68.,  70.,  86.,  65.,  84.,  76.,  74.,\n",
       "         87.,  80.,  78.,  82.,  68.,  70.,  70.,  58.,  66.,  70.,  84.,\n",
       "         65.,  84.,  78.,  72.,  69.,  83.,  64.,  63.,  61., 100.,  70.,\n",
       "         61.,  59.,  76.,  93.,  77.,  76.,  73.,  82.,  72.,  72.,  74.,\n",
       "         86.,  80.,  72.,  62.,  89.,  66.,  64.,  86.,  79.,  93.,  81.,\n",
       "         81.,  64.,  77.,  72.,  86.,  72.,  94.,  77.,  77.,  88.,  78.,\n",
       "         84.,  86.,  66.,  68.,  67.,  86.,  82.,  64.,  86.,  73.,  87.,\n",
       "         72.,  77.,  83.,  81.,  84.,  91.,  90.,  76.,  93.,  84.,  74.,\n",
       "         99.,  68.,  69.,  87., 104.,  72.,  83.,  86.,  73.,  86.,  82.,\n",
       "         84., 108.,  75.,  78., 100.,  92.,  73.,  91.,  90.,  84.,  78.,\n",
       "         97.,  87.,  98., 100.,  89.,  84.,  84.,  74.,  81.,  77.,  83.,\n",
       "         79.,  77.,  75.,  81.,  86.,  78.,  86.,  85.,  82.,  83.,  91.,\n",
       "         85.,  92.,  90.,  78.,  78.,  70.,  86.,  81.,  73.,  69.,  78.,\n",
       "         81.,  77.,  69.,  75.,  66.,  59.,  81.,  85.,  92.,  73.,  81.,\n",
       "         86.,  67.,  82.,  58.,  71.,  74.,  71.,  75.,  78.,  78.,  77.,\n",
       "         62.,  76.,  55.,  79.,  89.,  66.,  69.,  59.,  67.,  78.,  72.,\n",
       "         74.,  63.,  73.,  61.,  70.,  79.,  78.,  64.,  59.,  67.,  66.,\n",
       "         59.,  50.,  66.,  74.,  55.,  62.,  63.,  60.,  61.,  59.,  62.,\n",
       "         57.,  67.,  59.,  56.,  52.,  57.,  52.,  61.,  60.,  60.,  61.,\n",
       "         55.,  62.,  47.,  63.,  48.,  52.,  48.,  59.,  37.,  50.,  45.,\n",
       "         44.,  57.,  59.,  51.,  53.,  54.,  48.,  55.,  46.,  43.,  41.,\n",
       "         47.,  51.,  46.,  45.,  44.,  44.,  46.,  46.,  43.,  42.,  40.,\n",
       "         40.,  45.,  52.,  44.,  40.,  46.,  40.,  30.,  41.,  33.,  37.,\n",
       "         41.,  40.,  43.,  37.,  45.,  34.,  38.,  44.,  29.,  42.,  31.,\n",
       "         33.,  48.,  28.,  27.,  37.,  34.,  41.,  35.,  35.,  34.,  39.,\n",
       "         34.,  28.,  41.,  26.,  20.,  33.,  34.,  32.,  29.,  28.,  25.,\n",
       "         36.,  37.,  24.,  21.,  23.,  22.,  27.,  27.,  23.,  23.,  23.,\n",
       "         16.,  26.,  24.,  20.,  35.,  24.,  28.,  30.,  26.,  27.,  22.,\n",
       "         21.,  22.,  17.,  18.,  14.,  17.,  29.,  16.,  15.,  17.,  19.,\n",
       "         21.,  11.,  25.,  17.,  16.,  26.,  22.,  18.,  20.,  15.,  14.,\n",
       "         17.,  14.,  18.,  12.,  21.,  13.,  15.,  14.,   8.,  21.,  12.,\n",
       "         11.,  17.,  10.,  14.,  10.,  11.,  15.,  16.,   8.,  15.,  13.,\n",
       "         11.,  14.,  14.,  13.,  12.,  15.,   8.,  11.,  16.,  11.,  13.,\n",
       "          8.,   7.,   9.,  11.,  16.,  12.,   9.,   8.,  11.,  15.,  10.,\n",
       "          8.,   8.,   9.,  11.,   4.,   6.,   7.,   5.,   8.,   5.,   7.,\n",
       "          8.,   7.,   5.,   7.,   5.,   6.,   9.,   7.,   3.,   6.,   2.,\n",
       "          1.,   3.,   5.,   4.,   4.,   6.,   6.,   3.,   2.,   4.,   4.,\n",
       "          6.,   4.,   1.,   3.,   8.,   8.,   8.,   4.,   5.,   3.,   7.,\n",
       "          2.,   5.,   2.,   2.,   7.,   4.,   3.,   7.,   5.,   4.,   4.,\n",
       "          0.,   3.,   7.,   2.,   1.,   3.,   3.,   4.,   0.,   3.,   6.,\n",
       "          1.,   2.,   3.,   5.,   2.,   1.,   3.,   3.,   3.,   1.,   2.,\n",
       "          4.,   2.,   1.,   2.,   0.,   0.,   4.,   2.,   0.,   2.,   0.,\n",
       "          1.,   3.,   1.,   1.,   0.,   1.,   1.,   1.,   0.,   1.,   1.,\n",
       "          1.,   1.,   6.,   2.,   2.,   1.,   2.,   4.,   2.,   3.,   1.,\n",
       "          0.,   0.,   1.,   0.,   0.,   2.,   3.,   1.,   1.,   2.,   2.,\n",
       "          0.,   1.,   0.,   0.,   2.,   1.,   1.,   0.,   1.,   2.,   0.,\n",
       "          0.,   0.,   1.,   0.,   1.,   0.,   1.,   2.,   1.,   0.,   2.,\n",
       "          0.,   0.,   0.,   1.,   1.,   0.,   1.,   0.,   1.,   0.,   1.,\n",
       "          1.,   0.,   1.,   0.,   0.,   0.,   0.,   0.,   0.,   0.,   0.,\n",
       "          0.,   0.,   1.,   0.,   0.,   0.,   1.,   0.,   0.,   0.,   0.,\n",
       "          0.,   0.,   2.,   0.,   0.,   0.,   0.,   1.,   1.,   0.,   0.,\n",
       "          0.,   0.,   0.,   0.,   0.,   0.,   0.,   0.,   0.,   1.,   0.,\n",
       "          0.,   0.,   0.,   0.,   0.,   0.,   1.,   0.,   0.,   0.,   0.,\n",
       "          0.,   0.,   0.,   0.,   0.,   0.,   0.,   0.,   0.,   0.,   0.,\n",
       "          1.,   0.,   0.,   0.,   0.,   0.,   0.,   0.,   0.,   0.,   0.,\n",
       "          0.,   0.,   0.,   0.,   1.,   0.,   0.,   0.,   1.,   1.]),\n",
       " array([-2.36985113e-07, -2.36488866e-07, -2.35992618e-07, ...,\n",
       "         2.58270197e-07,  2.58766445e-07,  2.59262692e-07]),\n",
       " <a list of 1000 Patch objects>)"
      ]
     },
     "execution_count": 17,
     "metadata": {},
     "output_type": "execute_result"
    },
    {
     "data": {
      "image/png": "[encoded data removed]",
      "text/plain": [
       "<Figure size 432x288 with 1 Axes>"
      ]
     },
     "metadata": {
      "needs_background": "light"
     },
     "output_type": "display_data"
    }
   ],
   "source": [
    "plt.hist(xstep2_arr, bins=1000, alpha=0.5)"
   ]
  },
  {
   "cell_type": "code",
   "execution_count": 22,
   "metadata": {},
   "outputs": [],
   "source": [
    "xstep3_arr=np.array(xstep3_arr)"
   ]
  },
  {
   "cell_type": "code",
   "execution_count": 23,
   "metadata": {},
   "outputs": [
    {
     "data": {
      "text/plain": [
       "(array([  1.,   0.,   0.,   0.,   0.,   0.,   0.,   0.,   0.,   0.,   0.,\n",
       "          0.,   0.,   0.,   0.,   0.,   0.,   0.,   0.,   0.,   0.,   0.,\n",
       "          0.,   0.,   0.,   0.,   0.,   0.,   0.,   0.,   0.,   0.,   0.,\n",
       "          0.,   0.,   0.,   0.,   0.,   0.,   0.,   0.,   0.,   0.,   0.,\n",
       "          0.,   0.,   0.,   0.,   0.,   0.,   0.,   0.,   0.,   0.,   0.,\n",
       "          0.,   1.,   0.,   0.,   0.,   0.,   0.,   1.,   0.,   0.,   0.,\n",
       "          0.,   1.,   1.,   0.,   0.,   0.,   0.,   0.,   0.,   0.,   0.,\n",
       "          1.,   1.,   0.,   0.,   0.,   1.,   0.,   0.,   0.,   0.,   0.,\n",
       "          0.,   1.,   1.,   1.,   0.,   0.,   0.,   0.,   0.,   0.,   2.,\n",
       "          1.,   0.,   0.,   1.,   0.,   1.,   1.,   1.,   1.,   0.,   1.,\n",
       "          0.,   0.,   0.,   0.,   1.,   0.,   0.,   0.,   1.,   2.,   1.,\n",
       "          0.,   0.,   0.,   0.,   0.,   0.,   1.,   1.,   2.,   1.,   1.,\n",
       "          0.,   1.,   0.,   0.,   2.,   0.,   1.,   2.,   1.,   2.,   0.,\n",
       "          1.,   1.,   2.,   1.,   3.,   1.,   1.,   0.,   1.,   3.,   3.,\n",
       "          1.,   2.,   3.,   3.,   2.,   3.,   2.,   4.,   1.,   1.,   2.,\n",
       "          1.,   2.,   1.,   0.,   0.,   3.,   2.,   3.,   2.,   3.,   2.,\n",
       "          3.,   2.,   2.,   7.,   2.,   3.,   6.,   3.,   3.,   3.,   2.,\n",
       "          5.,   2.,   3.,   2.,   4.,   4.,   1.,   1.,   3.,   2.,   1.,\n",
       "          2.,   3.,   7.,   3.,   4.,   5.,   4.,   3.,   1.,   8.,   1.,\n",
       "          2.,   3.,   7.,   8.,   3.,   5.,   6.,   4.,   7.,   4.,   8.,\n",
       "          8.,   8.,   5.,   8.,   6.,   3.,   3.,   6.,   5.,   6.,   6.,\n",
       "          7.,  10.,  10.,   8.,  12.,   4.,   9.,   7.,   6.,   6.,  13.,\n",
       "          9.,  11.,   4.,  11.,  12.,   7.,   3.,  10.,  15.,  10.,  11.,\n",
       "         17.,   9.,  16.,   7.,  12.,  14.,  13.,  17.,  19.,   8.,  12.,\n",
       "         19.,  13.,  11.,  11.,  11.,  13.,  18.,  15.,  18.,  14.,  24.,\n",
       "         20.,  16.,  19.,  12.,  23.,  21.,  17.,  16.,  22.,  20.,  22.,\n",
       "         20.,  14.,  18.,  17.,  23.,  20.,  23.,  19.,  19.,  29.,  18.,\n",
       "         25.,  32.,  31.,  21.,  30.,  22.,  25.,  25.,  27.,  33.,  31.,\n",
       "         14.,  28.,  26.,  18.,  29.,  18.,  26.,  27.,  24.,  19.,  26.,\n",
       "         23.,  26.,  31.,  25.,  30.,  25.,  31.,  29.,  34.,  44.,  38.,\n",
       "         28.,  26.,  28.,  30.,  29.,  38.,  25.,  38.,  31.,  40.,  47.,\n",
       "         42.,  43.,  38.,  41.,  31.,  39.,  42.,  44.,  30.,  43.,  45.,\n",
       "         38.,  47.,  35.,  57.,  43.,  54.,  36.,  56.,  51.,  46.,  61.,\n",
       "         52.,  40.,  55.,  44.,  69.,  54.,  51.,  50.,  47.,  51.,  49.,\n",
       "         72.,  48.,  61.,  58.,  49.,  68.,  61.,  60.,  56.,  54.,  54.,\n",
       "         66.,  69.,  52.,  62.,  55.,  65.,  58.,  66.,  78.,  60.,  65.,\n",
       "         70.,  89.,  63.,  51.,  66.,  71.,  68.,  62.,  74.,  73.,  64.,\n",
       "         65.,  71.,  78.,  58.,  78.,  67.,  67.,  66.,  85.,  82.,  84.,\n",
       "         73.,  78.,  66.,  77.,  56.,  84.,  76.,  80.,  83.,  66.,  68.,\n",
       "         82.,  76.,  78.,  81.,  70.,  76.,  77.,  87.,  74.,  98.,  80.,\n",
       "         86.,  93.,  69.,  93.,  77.,  90.,  83.,  86.,  86.,  81.,  92.,\n",
       "         96.,  92.,  69.,  90.,  94.,  79.,  89.,  82.,  92.,  82.,  85.,\n",
       "         88., 105.,  75.,  76.,  85.,  80.,  73.,  91.,  94., 109., 100.,\n",
       "         83., 102.,  82., 103.,  94.,  83.,  95.,  92.,  98.,  94., 103.,\n",
       "        105., 102.,  90.,  78.,  75.,  86.,  89.,  80.,  92.,  96.,  88.,\n",
       "         95.,  94.,  88., 115.,  96.,  81.,  83., 106.,  85.,  99.,  97.,\n",
       "        100.,  85.,  77.,  81.,  92.,  93.,  89.,  95.,  88., 101.,  89.,\n",
       "        101.,  88.,  91.,  79.,  91.,  86.,  87.,  82., 102.,  94.,  82.,\n",
       "         77.,  75.,  81.,  90.,  78.,  87.,  83.,  86.,  89.,  97.,  93.,\n",
       "         74.,  94.,  90., 101.,  94.,  71.,  87., 102.,  75.,  91.,  87.,\n",
       "         90.,  90.,  88.,  71.,  96.,  86.,  86.,  80.,  89.,  69.,  81.,\n",
       "         83.,  95.,  69.,  83.,  74.,  63.,  69.,  71.,  64.,  81.,  82.,\n",
       "         83.,  91.,  79.,  73.,  70.,  74.,  68.,  61.,  72.,  70.,  75.,\n",
       "         80.,  84.,  88.,  66.,  74.,  64.,  71.,  70.,  77.,  63.,  60.,\n",
       "         74.,  87.,  67.,  62.,  77.,  71.,  72.,  69.,  69.,  67.,  77.,\n",
       "         59.,  54.,  60.,  53.,  54.,  56.,  67.,  70.,  58.,  61.,  65.,\n",
       "         53.,  49.,  46.,  54.,  56.,  41.,  52.,  51.,  58.,  66.,  40.,\n",
       "         57.,  51.,  55.,  43.,  54.,  43.,  53.,  41.,  40.,  41.,  54.,\n",
       "         42.,  46.,  49.,  38.,  41.,  41.,  35.,  43.,  47.,  30.,  47.,\n",
       "         37.,  31.,  47.,  48.,  33.,  40.,  40.,  45.,  37.,  37.,  37.,\n",
       "         37.,  44.,  35.,  40.,  37.,  36.,  34.,  44.,  49.,  34.,  34.,\n",
       "         37.,  29.,  31.,  34.,  27.,  25.,  25.,  19.,  26.,  31.,  26.,\n",
       "         31.,  30.,  30.,  33.,  16.,  27.,  35.,  16.,  31.,  33.,  21.,\n",
       "         24.,  21.,  19.,  26.,  33.,  28.,  12.,  22.,  28.,  12.,  31.,\n",
       "         18.,  18.,  22.,  21.,  19.,  20.,  16.,  23.,  15.,  23.,  20.,\n",
       "         19.,  21.,  14.,  15.,  14.,  19.,  11.,  23.,  17.,  15.,  11.,\n",
       "         14.,  14.,  15.,  21.,  12.,  11.,  13.,  21.,  13.,  11.,  11.,\n",
       "         11.,   8.,  11.,  13.,  11.,   8.,   6.,  14.,   5.,   9.,   8.,\n",
       "         10.,  12.,   5.,   9.,   9.,   9.,  10.,   6.,   7.,  13.,   8.,\n",
       "          8.,   8.,   4.,  11.,   8.,   9.,  13.,   5.,   8.,   8.,   8.,\n",
       "          8.,   8.,   8.,   5.,  10.,   6.,   6.,   4.,   5.,   5.,   5.,\n",
       "          2.,   1.,   4.,   0.,   0.,   8.,   5.,   8.,   6.,   3.,   4.,\n",
       "          4.,   4.,   3.,   2.,   3.,   6.,   0.,   3.,   8.,   2.,   4.,\n",
       "          3.,   2.,   3.,   1.,   1.,   1.,   3.,   7.,   5.,   4.,   0.,\n",
       "          0.,   0.,   2.,   6.,   1.,   2.,   0.,   1.,   3.,   2.,   0.,\n",
       "          2.,   1.,   2.,   2.,   4.,   1.,   3.,   3.,   1.,   3.,   2.,\n",
       "          1.,   2.,   2.,   1.,   0.,   1.,   1.,   1.,   1.,   0.,   3.,\n",
       "          2.,   1.,   1.,   1.,   0.,   0.,   2.,   1.,   0.,   1.,   0.,\n",
       "          1.,   0.,   3.,   2.,   0.,   2.,   1.,   1.,   0.,   0.,   1.,\n",
       "          1.,   0.,   0.,   1.,   2.,   1.,   3.,   0.,   0.,   0.,   3.,\n",
       "          0.,   1.,   1.,   0.,   0.,   2.,   0.,   1.,   0.,   0.,   0.,\n",
       "          0.,   1.,   0.,   0.,   1.,   0.,   1.,   0.,   0.,   0.,   0.,\n",
       "          1.,   0.,   1.,   1.,   0.,   0.,   0.,   0.,   0.,   0.,   0.,\n",
       "          0.,   0.,   0.,   0.,   0.,   0.,   0.,   0.,   1.,   0.,   0.,\n",
       "          0.,   0.,   0.,   0.,   0.,   0.,   0.,   0.,   0.,   0.,   0.,\n",
       "          0.,   0.,   0.,   0.,   0.,   0.,   0.,   0.,   0.,   1.,   0.,\n",
       "          0.,   0.,   0.,   0.,   0.,   0.,   0.,   0.,   0.,   0.,   0.,\n",
       "          0.,   0.,   0.,   0.,   0.,   0.,   0.,   0.,   0.,   0.,   0.,\n",
       "          0.,   0.,   0.,   0.,   0.,   0.,   0.,   0.,   0.,   0.,   0.,\n",
       "          0.,   0.,   0.,   0.,   0.,   0.,   0.,   0.,   0.,   0.,   1.,\n",
       "          0.,   0.,   0.,   0.,   0.,   0.,   0.,   0.,   0.,   1.]),\n",
       " array([-5.39304376e-07, -5.38222772e-07, -5.37141168e-07, ...,\n",
       "         5.40136469e-07,  5.41218073e-07,  5.42299677e-07]),\n",
       " <a list of 1000 Patch objects>)"
      ]
     },
     "execution_count": 23,
     "metadata": {},
     "output_type": "execute_result"
    },
    {
     "data": {
      "image/png": "[encoded data removed]",
      "text/plain": [
       "<Figure size 432x288 with 1 Axes>"
      ]
     },
     "metadata": {
      "needs_background": "light"
     },
     "output_type": "display_data"
    }
   ],
   "source": [
    "plt.hist(xstep3_arr, bins=1000, alpha=0.5)"
   ]
  },
  {
   "cell_type": "code",
   "execution_count": null,
   "metadata": {},
   "outputs": [],
   "source": []
  },
  {
   "cell_type": "code",
   "execution_count": null,
   "metadata": {},
   "outputs": [],
   "source": []
  },
  {
   "cell_type": "code",
   "execution_count": 24,
   "metadata": {},
   "outputs": [],
   "source": [
    "xarr_v1=np.array(xarr_v1)\n",
    "yarr_v1=np.array(yarr_v1)"
   ]
  },
  {
   "cell_type": "code",
   "execution_count": 25,
   "metadata": {},
   "outputs": [],
   "source": [
    "xarr_v2=np.array(xarr_v2)\n",
    "yarr_v2=np.array(yarr_v2)"
   ]
  },
  {
   "cell_type": "code",
   "execution_count": 26,
   "metadata": {},
   "outputs": [],
   "source": [
    "xarr_v3=np.array(xarr_v3)\n",
    "yarr_v3=np.array(yarr_v3)"
   ]
  },
  {
   "cell_type": "code",
   "execution_count": 27,
   "metadata": {},
   "outputs": [
    {
     "data": {
      "image/png": "[encoded data removed]",
      "text/plain": [
       "<Figure size 432x432 with 1 Axes>"
      ]
     },
     "metadata": {
      "needs_background": "light"
     },
     "output_type": "display_data"
    }
   ],
   "source": [
    "from pylab import rcParams\n",
    "rcParams ['figure.figsize']=6,6\n",
    "plt.plot(xarr_v1,yarr_v1,'blue')\n",
    "plt.plot(xarr_v2,yarr_v2,'green')\n",
    "plt.plot(xarr_v3,yarr_v3,'red')\n",
    "plt.plot(xarr_v2[0],yarr_v2[0], 'ro')\n",
    "plt.plot(xarr_v3[-1],yarr_v3[-1], 'yo')\n",
    "\n",
    "#plt.ylabel(r'$\\mu m$', size=20)\n",
    "#plt.xlabel(r'$\\mu m$', size=20)\n",
    "plt.axis('square')\n",
    "plt.show()"
   ]
  },
  {
   "cell_type": "code",
   "execution_count": null,
   "metadata": {},
   "outputs": [],
   "source": [
    "'''from pylab import rcParams\n",
    "rcParams ['figure.figsize']=6,6\n",
    "#plt.plot(xarr_v1,yarr_v1,'blue')\n",
    "plt.plot(xarr_v2,yarr_v2,'green')\n",
    "plt.plot(xarr_v1[0],yarr_v1[0], 'ro')\n",
    "plt.plot(xarr_v1[-1],yarr_v1[-1], 'yo')\n",
    "\n",
    "#plt.ylabel(r'$\\mu m$', size=20)\n",
    "#plt.xlabel(r'$\\mu m$', size=20)\n",
    "plt.axis('square')\n",
    "plt.show()'''"
   ]
  },
  {
   "cell_type": "code",
   "execution_count": 28,
   "metadata": {},
   "outputs": [],
   "source": [
    "np.savetxt('101.txt',xarr_v1)\n",
    "np.savetxt('102.txt',yarr_v1)\n",
    "np.savetxt('103.txt',t_arr1)"
   ]
  },
  {
   "cell_type": "code",
   "execution_count": 29,
   "metadata": {},
   "outputs": [],
   "source": [
    "np.savetxt('104.txt',xarr_v2)\n",
    "np.savetxt('105.txt',yarr_v2)\n",
    "np.savetxt('106.txt',t_arr2)"
   ]
  },
  {
   "cell_type": "code",
   "execution_count": 30,
   "metadata": {},
   "outputs": [],
   "source": [
    "np.savetxt('107.txt',xarr_v3)\n",
    "np.savetxt('108.txt',yarr_v3)\n",
    "np.savetxt('109.txt',t_arr3)"
   ]
  },
  {
   "cell_type": "code",
   "execution_count": null,
   "metadata": {},
   "outputs": [],
   "source": [
    "len(xarr_v)"
   ]
  }
 ],
 "metadata": {
  "kernelspec": {
   "display_name": "Python 3",
   "language": "python",
   "name": "python3"
  },
  "language_info": {
   "codemirror_mode": {
    "name": "ipython",
    "version": 3
   },
   "file_extension": ".py",
   "mimetype": "text/x-python",
   "name": "python",
   "nbconvert_exporter": "python",
   "pygments_lexer": "ipython3",
   "version": "3.7.3"
  }
 },
 "nbformat": 4,
 "nbformat_minor": 2
}
