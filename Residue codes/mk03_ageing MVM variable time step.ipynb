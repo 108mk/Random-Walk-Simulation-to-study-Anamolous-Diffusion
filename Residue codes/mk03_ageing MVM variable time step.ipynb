{
 "cells": [
  {
   "cell_type": "code",
   "execution_count": 1,
   "metadata": {},
   "outputs": [],
   "source": [
    "import numpy as np\n",
    "from math import *\n",
    "from random import *\n",
    "import matplotlib.pyplot as plt\n",
    "\n",
    "from datetime import datetime\n",
    "time1=datetime.now().strftime('%Y-%m-%d %H:%M:%S')\n",
    "                                                  #initial time starting of the runtime\n",
    "#---------system parameters.\n",
    "T=300.0                                   #temparature in unit kelvin\n",
    "eta=1e4                       #viscosity co efficient in unit Pa.s\n",
    "etas=1e-3\n",
    "a=2e-6                          #diameter of the probe sphere in meter\n",
    "\n",
    "kb=1.38e-23                      #boltzman constant s.i unit\n",
    "Gp=1000                                    #elastic modulus for both model Pa\n",
    "\n",
    "#---------some constants determined from the above parameters\n",
    "\n",
    "D=(kb*T)/(6*pi*eta*(a/2))                  #diffusion coefficient of liquid\n",
    "m=0.0                                     #mean of the random walk motion\n",
    "lamb=1e-4\n",
    "k=6*pi*(a/2)*Gp   "
   ]
  },
  {
   "cell_type": "code",
   "execution_count": 2,
   "metadata": {},
   "outputs": [],
   "source": [
    "lamb=1e-7"
   ]
  },
  {
   "cell_type": "code",
   "execution_count": 3,
   "metadata": {},
   "outputs": [],
   "source": [
    "#-------------------------------body of the code\n",
    "xm=0.0                                     #initial x cordinate in unit micro meter\n",
    "ym=0.0                                     #initial y cordinate in unit micro meter\n",
    "zm=0.0\n",
    "xarr_m=[]                                #list of total x after ith step\n",
    "yarr_m=[]                                #list of total y after ith step\n",
    "zarr_m=[]\n",
    "\n",
    "\n",
    "\n",
    "xv=0.0                                     #initial x cordinate in unit micro meter\n",
    "yv=0.0                                     #initial y cordinate in unit micro meter\n",
    "zv=0.0\n",
    "xarr_v=[]                                #list of total x after ith step\n",
    "yarr_v=[]                                #list of total y after \n",
    "zarr_v=[]\n",
    "\n",
    "\n",
    "xv2=0.0                                     #initial x cordinate in unit micro meter\n",
    "yv2=0.0                                     #initial y cordinate in unit micro meter\n",
    "zv2=0.0\n",
    "xarr_v2=[]                                #list of total x after ith step\n",
    "yarr_v2=[]                                #list of total y after \n",
    "zarr_v2=[]\n",
    "\n"
   ]
  },
  {
   "cell_type": "code",
   "execution_count": 11,
   "metadata": {},
   "outputs": [],
   "source": [
    "alpha = 2*log(10)/1200\n",
    "beta = log(10)/1200"
   ]
  },
  {
   "cell_type": "code",
   "execution_count": 12,
   "metadata": {},
   "outputs": [],
   "source": [
    "time0=1200\n",
    "time1=1800\n",
    "time2=2400"
   ]
  },
  {
   "cell_type": "code",
   "execution_count": 13,
   "metadata": {},
   "outputs": [
    {
     "data": {
      "text/plain": [
       "0.2115276586285882"
      ]
     },
     "execution_count": 13,
     "metadata": {},
     "output_type": "execute_result"
    }
   ],
   "source": [
    "(exp(alpha*(time0+50))-exp(alpha*time0))/exp(alpha*time0)"
   ]
  },
  {
   "cell_type": "code",
   "execution_count": 6,
   "metadata": {},
   "outputs": [
    {
     "data": {
      "text/plain": [
       "96577"
      ]
     },
     "execution_count": 6,
     "metadata": {},
     "output_type": "execute_result"
    }
   ],
   "source": [
    "tf=60                                  #total time in unit second\n",
    "\n",
    "t=0.0\n",
    "t_arr=[]                               #delta time array in seconds\n",
    "\n",
    "t = 0\n",
    "while t < tf:\n",
    "    #--------------------maxwell part of the code\n",
    "    p=uniform(-9,-2)\n",
    "    dt=(10**p)                            #linear distributed in 10 base logscale of time\n",
    "    s=((2*D*dt)**(0.5))                   #standard deviation of the random walk in  meter\n",
    "    \n",
    "    xm=0#xm+(gauss(m,s))\n",
    "    xarr_m.append(xm)\n",
    "    \n",
    "    ym=0#ym+(gauss(m,s))\n",
    "    yarr_m.append(ym)\n",
    "    \n",
    "    zm=0#ym+(gauss(m,s))\n",
    "    zarr_m.append(zm)\n",
    "    \n",
    "    \n",
    "    #---------------------voigt part of the code\n",
    "    Ax=xv*exp(-(dt/(lamb*(exp(beta*time0)))))\n",
    "    Bx=sqrt(((kb*T)/(k*(exp(alpha*time0))))*(1-exp(-(2*dt/(lamb*(exp(beta*time0)))))))\n",
    "    \n",
    "    Ay=yv*exp(-(dt/(lamb*(exp(beta*time1)))))\n",
    "    By=sqrt(((kb*T)/(k*(exp(alpha*time1))))*(1-exp(-(2*dt/(lamb*(exp(beta*time1)))))))\n",
    "    \n",
    "    Az=zv*exp(-(dt/(lamb*(exp(beta*time2)))))\n",
    "    Bz=sqrt(((kb*T)/(k*(exp(alpha*time2))))*(1-exp(-(2*dt/(lamb*(exp(beta*time2)))))))\n",
    "    \n",
    "    #---------------------voigt part of the code\n",
    "    Ax2=xv2*exp(-(dt/(lamb*(exp(beta*time0)))))\n",
    "    Bx2=sqrt(((kb*T)/(k*(exp(alpha*time0))))*(1-exp(-(2*dt/(lamb*(exp(beta*time0)))))))\n",
    "    \n",
    "    Ay2=yv2*exp(-(dt/(lamb*(exp(beta*time1)))))\n",
    "    By2=sqrt(((kb*T)/(k*(exp(alpha*time1))))*(1-exp(-(2*dt/(lamb*(exp(beta*time1)))))))\n",
    "    \n",
    "    Az2=zv2*exp(-(dt/(lamb*(exp(beta*time2)))))\n",
    "    Bz2=sqrt(((kb*T)/(k*(exp(alpha*time2))))*(1-exp(-(2*dt/(lamb*(exp(beta*time2)))))))\n",
    "    \n",
    "    \n",
    "    xv=(gauss(Ax,Bx))\n",
    "    xarr_v.append(xv)\n",
    "    \n",
    "    yv=(gauss(Ay,By))\n",
    "    yarr_v.append(yv)\n",
    "    \n",
    "    zv=(gauss(Az,Bz))\n",
    "    zarr_v.append(zv)\n",
    "    \n",
    "    xv2=(gauss(Ax2,Bx2))\n",
    "    xarr_v2.append(xv2)\n",
    "    \n",
    "    yv2=(gauss(Ay2,By2))\n",
    "    yarr_v2.append(yv2)\n",
    "    \n",
    "    zv2=(gauss(Az2,Bz2))\n",
    "    zarr_v2.append(zv2)\n",
    "    \n",
    "    \n",
    "    t=t+dt\n",
    "    t_arr.append(t)\n",
    "    \n",
    "    \n",
    "xarr_m=np.array(xarr_m)\n",
    "yarr_m=np.array(yarr_m)\n",
    "zarr_m=np.array(zarr_m)\n",
    "\n",
    "#-----------------------------------\n",
    "xarr_v=np.array(xarr_v)\n",
    "yarr_v=np.array(yarr_v)\n",
    "zarr_v=np.array(zarr_v)\n",
    "\n",
    "\n",
    "    \n",
    "xarr_mv=(xarr_m +xarr_v)\n",
    "yarr_mv=(yarr_m +yarr_v)\n",
    "zarr_mv=(zarr_m +zarr_v)\n",
    "\n",
    "\n",
    "#------------------------------------\n",
    "xarr_v2=np.array(xarr_v2)\n",
    "yarr_v2=np.array(yarr_v2)\n",
    "zarr_v2=np.array(zarr_v2)\n",
    "\n",
    "\n",
    "    \n",
    "xarr_mv2=(xarr_m +xarr_v2)\n",
    "yarr_mv2=(yarr_m +yarr_v2)\n",
    "zarr_mv2=(zarr_m +zarr_v2)\n",
    "\n",
    "\n",
    "max(t_arr)\n",
    "\n",
    "len(xarr_mv)"
   ]
  },
  {
   "cell_type": "code",
   "execution_count": 7,
   "metadata": {},
   "outputs": [
    {
     "data": {
      "text/plain": [
       "array([3.43175303e-11, 4.12279410e-11, 5.56320260e-11, ...,\n",
       "       3.33025286e-11, 2.07544367e-10, 9.58907407e-11])"
      ]
     },
     "execution_count": 7,
     "metadata": {},
     "output_type": "execute_result"
    }
   ],
   "source": [
    "xarr_mv"
   ]
  },
  {
   "cell_type": "code",
   "execution_count": 8,
   "metadata": {},
   "outputs": [
    {
     "data": {
      "text/plain": [
       "array([ 6.71562772e-12, -5.87220378e-11, -4.87526612e-11, ...,\n",
       "        1.37175996e-10, -2.89258015e-11, -1.28355039e-10])"
      ]
     },
     "execution_count": 8,
     "metadata": {},
     "output_type": "execute_result"
    }
   ],
   "source": [
    "yarr_mv"
   ]
  },
  {
   "cell_type": "code",
   "execution_count": 9,
   "metadata": {},
   "outputs": [
    {
     "data": {
      "image/png": "[encoded data removed]",
      "text/plain": [
       "<Figure size 432x432 with 1 Axes>"
      ]
     },
     "metadata": {
      "needs_background": "light"
     },
     "output_type": "display_data"
    }
   ],
   "source": [
    "from pylab import rcParams\n",
    "rcParams ['figure.figsize']=6,6\n",
    "\n",
    "plt.plot(xarr_mv,xarr_mv2,'r-')\n",
    "plt.plot(yarr_mv,yarr_mv2,'g-')\n",
    "plt.plot(zarr_mv,zarr_mv2,'b-')\n",
    "\n",
    "plt.ylabel('y(m)',size=20)\n",
    "plt.xlabel('x(m)',size=20)\n",
    "plt.axis('square')\n",
    "plt.show()"
   ]
  },
  {
   "cell_type": "code",
   "execution_count": 10,
   "metadata": {},
   "outputs": [],
   "source": [
    "np.savetxt('x_arr_vts13.txt', xarr_mv)\n",
    "np.savetxt('y_arr_vts13.txt', yarr_mv)\n",
    "np.savetxt('z_arr_vts13.txt', zarr_mv)\n",
    "np.savetxt('dt_arr_vts13.txt',t_arr)"
   ]
  },
  {
   "cell_type": "code",
   "execution_count": null,
   "metadata": {},
   "outputs": [],
   "source": []
  }
 ],
 "metadata": {
  "kernelspec": {
   "display_name": "Python 3",
   "language": "python",
   "name": "python3"
  },
  "language_info": {
   "codemirror_mode": {
    "name": "ipython",
    "version": 3
   },
   "file_extension": ".py",
   "mimetype": "text/x-python",
   "name": "python",
   "nbconvert_exporter": "python",
   "pygments_lexer": "ipython3",
   "version": "3.7.6"
  }
 },
 "nbformat": 4,
 "nbformat_minor": 2
}
