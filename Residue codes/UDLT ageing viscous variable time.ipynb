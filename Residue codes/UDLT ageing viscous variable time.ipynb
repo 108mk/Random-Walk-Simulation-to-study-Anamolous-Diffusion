{
 "cells": [
  {
   "cell_type": "code",
   "execution_count": 1,
   "metadata": {},
   "outputs": [],
   "source": [
    "#--------------VISCOUS FLUID---------- SPHERICAL PARTICLE--------VARIABLE TIME---------\n",
    "import numpy as np\n",
    "from math import *\n",
    "from random import *\n",
    "import matplotlib.pyplot as plt\n",
    "from pylab import rcParams\n",
    "from datetime import datetime\n",
    "fig = plt.figure() "
   ]
  },
  {
   "cell_type": "code",
   "execution_count": 2,
   "metadata": {},
   "outputs": [],
   "source": [
    "x_arr = np.loadtxt('age 20.txt')                                      #all elements are in micron\n",
    "y_arr = np.loadtxt('age 21.txt')                                       #all elements are in micron\n",
    "t_arr = np.loadtxt('age 22.txt') "
   ]
  },
  {
   "cell_type": "code",
   "execution_count": 3,
   "metadata": {
    "scrolled": true
   },
   "outputs": [
    {
     "data": {
      "text/plain": [
       "27332"
      ]
     },
     "execution_count": 3,
     "metadata": {},
     "output_type": "execute_result"
    }
   ],
   "source": [
    "len(x_arr) "
   ]
  },
  {
   "cell_type": "code",
   "execution_count": 4,
   "metadata": {},
   "outputs": [
    {
     "data": {
      "text/plain": [
       "'import pandas as pd\\ndf = pd.DataFrame(t_arr)'"
      ]
     },
     "execution_count": 4,
     "metadata": {},
     "output_type": "execute_result"
    }
   ],
   "source": [
    "'''import pandas as pd\n",
    "df = pd.DataFrame(t_arr)'''"
   ]
  },
  {
   "cell_type": "code",
   "execution_count": 5,
   "metadata": {},
   "outputs": [
    {
     "data": {
      "text/plain": [
       "'df'"
      ]
     },
     "execution_count": 5,
     "metadata": {},
     "output_type": "execute_result"
    }
   ],
   "source": [
    "'''df'''"
   ]
  },
  {
   "cell_type": "code",
   "execution_count": 6,
   "metadata": {},
   "outputs": [
    {
     "data": {
      "text/plain": [
       "'pd.DataFrame.describe(df)'"
      ]
     },
     "execution_count": 6,
     "metadata": {},
     "output_type": "execute_result"
    }
   ],
   "source": [
    "'''pd.DataFrame.describe(df)'''"
   ]
  },
  {
   "cell_type": "code",
   "execution_count": 7,
   "metadata": {},
   "outputs": [
    {
     "data": {
      "text/plain": [
       "'pd.DataFrame.hist(df,bins=50)'"
      ]
     },
     "execution_count": 7,
     "metadata": {},
     "output_type": "execute_result"
    }
   ],
   "source": [
    "'''pd.DataFrame.hist(df,bins=50)'''"
   ]
  },
  {
   "cell_type": "code",
   "execution_count": 4,
   "metadata": {},
   "outputs": [],
   "source": [
    "dt_min=1e-4                                                                 #initial time step\n",
    "dt_max=1e8                                                                 #final time step in msd graph\n",
    "msd_xarr=[]                                                                    #mean squared x\n",
    "msd_yarr=[]                                                                    #mean squared y\n",
    "msd_rarr=[]                                                                    #r is the msd array\n",
    "mean_t_arr=[]                                                                  #dtarray for msd plot\n",
    "\n",
    "N = 30\n",
    "timelaglog= np.logspace( np.log10(dt_min), np.log10(dt_max), num=N ) #nonzero points for msd plot(distributed linearly in log scale)\n",
    "counterarray=[]                                                                 #no of data averaging for particular dt'''"
   ]
  },
  {
   "cell_type": "code",
   "execution_count": 5,
   "metadata": {
    "scrolled": true
   },
   "outputs": [
    {
     "name": "stdout",
     "output_type": "stream",
     "text": [
      "0\n",
      "no. of  points 963\n",
      "tau= 0.0001610262027560939\n",
      "1\n",
      "no. of  points 1012\n",
      "tau= 0.00041753189365604\n",
      "2\n",
      "no. of  points 1005\n",
      "tau= 0.001082636733874054\n",
      "3\n",
      "no. of  points 1012\n",
      "tau= 0.002807216203941176\n",
      "4\n",
      "no. of  points 1123\n",
      "tau= 0.00727895384398315\n",
      "5\n",
      "no. of  points 1197\n",
      "tau= 0.018873918221350976\n",
      "6\n",
      "no. of  points 1209\n",
      "tau= 0.048939009184774944\n",
      "7\n",
      "no. of  points 1189\n",
      "tau= 0.12689610031679222\n",
      "8\n",
      "no. of  points 1259\n",
      "tau= 0.32903445623126676\n",
      "9\n",
      "no. of  points 1301\n",
      "tau= 0.853167852417281\n",
      "10\n",
      "no. of  points 1427\n",
      "tau= 2.21221629107045\n",
      "11\n",
      "no. of  points 1504\n",
      "tau= 5.736152510448681\n",
      "12\n",
      "no. of  points 1547\n",
      "tau= 14.873521072935118\n",
      "13\n",
      "no. of  points 1615\n",
      "tau= 38.56620421163472\n",
      "14\n",
      "no. of  points 1837\n",
      "tau= 100.00000000000001\n",
      "15\n",
      "no. of  points 1919\n",
      "tau= 259.29437974046675\n",
      "16\n",
      "no. of  points 1938\n",
      "tau= 672.3357536499335\n",
      "17\n",
      "no. of  points 2151\n",
      "tau= 1743.3288221999871\n",
      "18\n",
      "no. of  points 2306\n",
      "tau= 4520.35365636024\n",
      "19\n",
      "no. of  points 2684\n",
      "tau= 11721.022975334805\n",
      "20\n",
      "no. of  points 2823\n",
      "tau= 30391.95382313201\n",
      "21\n",
      "no. of  points 3338\n",
      "tau= 78804.62815669921\n",
      "22\n",
      "no. of  points 3733\n",
      "tau= 204335.9717856944\n",
      "23\n",
      "no. of  points 4254\n",
      "tau= 529831.6906283712\n",
      "24\n",
      "no. of  points 4866\n",
      "tau= 1373823.7958832637\n",
      "25\n",
      "no. of  points 5910\n",
      "tau= 3562247.890262444\n",
      "26\n",
      "no. of  points 7833\n",
      "tau= 9236708.571873866\n",
      "27\n",
      "no. of  points 10310\n",
      "tau= 23950266.19987486\n",
      "28\n",
      "no. of  points 16206\n",
      "tau= 62101694.18915617\n",
      "2020-05-04 23:19:56\n",
      "2020-05-04 23:19:57\n"
     ]
    }
   ],
   "source": [
    "time1=datetime.now().strftime('%Y-%m-%d %H:%M:%S')\n",
    "\n",
    "for m in range(0,len(timelaglog)-1):\n",
    "    print(m)\n",
    "    r=0 \n",
    "    x=0\n",
    "    y=0 \n",
    "    count=0                                                                   #counter no of elements for data avraging for particular dt\n",
    "    for i in range(len(t_arr)):\n",
    "        for j in range(i+1,len(t_arr)):\n",
    "            timelag = t_arr[j]-t_arr[i]                                       #time difference between i'th and j'th elements\n",
    "            if timelag >= timelaglog[m]:\n",
    "                if timelag <= timelaglog[m+1]:\n",
    "                    count = count+1\n",
    "                    x = x+((x_arr[j]-x_arr[i])**2)\n",
    "                    y = y+((y_arr[j]-y_arr[i])**2)\n",
    "                else:\n",
    "                    break;\n",
    "            else:\n",
    "                break;\n",
    "            \n",
    "    print('no. of  points',count) \n",
    "    x=float(x/count)\n",
    "    y=float(y/count)\n",
    "    r=float(x+y) \n",
    "    msd_xarr.append(x)\n",
    "    msd_yarr.append(y)                                                          #msd for a particual dt\n",
    "    msd_rarr.append(r)\n",
    "    mean_t_arr.append(np.sqrt(timelaglog[m]*timelaglog[m+1]))\n",
    "    print( 'tau=', np.sqrt(timelaglog[m]*timelaglog[m+1]) )\n",
    "    counterarray.append(count)\n",
    "    \n",
    "time2=datetime.now().strftime('%Y-%m-%d %H:%M:%S') # final time ending of the run time\n",
    "print(time1)\n",
    "print(time2) "
   ]
  },
  {
   "cell_type": "code",
   "execution_count": 6,
   "metadata": {
    "scrolled": true
   },
   "outputs": [
    {
     "data": {
      "image/png": "[encoded data removed]",
      "text/plain": [
       "<Figure size 432x288 with 1 Axes>"
      ]
     },
     "metadata": {
      "needs_background": "light"
     },
     "output_type": "display_data"
    }
   ],
   "source": [
    "plt.plot(mean_t_arr,msd_rarr,'go-')\n",
    "\n",
    "plt.ylabel(r'$<\\Delta r^2> \\ \\  (m^2)$',size=20)\n",
    "plt.xlabel(r'$\\tau  (s)$',size=20)\n",
    "\n",
    "plt.xscale('log')\n",
    "plt.yscale('log')\n",
    "#plt.savefig('viscous_long.png')\n",
    "\n",
    "plt.show()"
   ]
  },
  {
   "cell_type": "code",
   "execution_count": 14,
   "metadata": {},
   "outputs": [
    {
     "name": "stderr",
     "output_type": "stream",
     "text": [
      "/Users/manishkumar/anaconda3/lib/python3.7/site-packages/ipykernel_launcher.py:2: RuntimeWarning: divide by zero encountered in log10\n",
      "  \n",
      "/Users/manishkumar/anaconda3/lib/python3.7/site-packages/numpy/lib/function_base.py:2449: RuntimeWarning: invalid value encountered in subtract\n",
      "  X -= avg[:, None]\n"
     ]
    }
   ],
   "source": [
    "from scipy.stats import linregress\n",
    "slope, intercept, r_value, p_value, std_err = linregress(np.log10(t_step), np.log10(msd_x_arr))"
   ]
  },
  {
   "cell_type": "code",
   "execution_count": 15,
   "metadata": {},
   "outputs": [
    {
     "data": {
      "text/plain": [
       "nan"
      ]
     },
     "execution_count": 15,
     "metadata": {},
     "output_type": "execute_result"
    }
   ],
   "source": [
    "slope"
   ]
  },
  {
   "cell_type": "code",
   "execution_count": 11,
   "metadata": {},
   "outputs": [
    {
     "data": {
      "text/plain": [
       "\"plt.plot(mean_t_arr,msd_xarr,'bo-')\\nplt.plot(mean_t_arr,msd_yarr,'ro-')\\nplt.ylabel(r'$<\\\\Delta x^2>,<\\\\Delta y^2> \\\\ \\\\  (m^2)$',size=15)\\nplt.xlabel(r'$\\tau  (s)$',size=20)\\n\\nplt.xscale('log')\\nplt.yscale('log')\\n#plt.savefig('viscous_x_y_long.png')\\n\\nplt.show()\\n\\n\""
      ]
     },
     "execution_count": 11,
     "metadata": {},
     "output_type": "execute_result"
    }
   ],
   "source": [
    "'''plt.plot(mean_t_arr,msd_xarr,'bo-')\n",
    "plt.plot(mean_t_arr,msd_yarr,'ro-')\n",
    "plt.ylabel(r'$<\\Delta x^2>,<\\Delta y^2> \\ \\  (m^2)$',size=15)\n",
    "plt.xlabel(r'$\\tau  (s)$',size=20)\n",
    "\n",
    "plt.xscale('log')\n",
    "plt.yscale('log')\n",
    "#plt.savefig('viscous_x_y_long.png')\n",
    "\n",
    "plt.show()\n",
    "\n",
    "'''"
   ]
  },
  {
   "cell_type": "code",
   "execution_count": 12,
   "metadata": {},
   "outputs": [
    {
     "data": {
      "text/plain": [
       "\"np.savetxt('msd_x_viscous.txt',msd_xarr)\\nnp.savetxt('msd_y_viscous.txt',msd_yarr)\\nnp.savetxt('msd_r_viscous.txt',msd_rarr)\\nnp.savetxt('t_arr_viscous.txt',mean_t_arr)\\nnp.savetxt('counterarray_viscous.txt',counterarray)\""
      ]
     },
     "execution_count": 12,
     "metadata": {},
     "output_type": "execute_result"
    }
   ],
   "source": [
    "'''np.savetxt('msd_x_viscous.txt',msd_xarr)\n",
    "np.savetxt('msd_y_viscous.txt',msd_yarr)\n",
    "np.savetxt('msd_r_viscous.txt',msd_rarr)\n",
    "np.savetxt('t_arr_viscous.txt',mean_t_arr)\n",
    "np.savetxt('counterarray_viscous.txt',counterarray)'''"
   ]
  },
  {
   "cell_type": "code",
   "execution_count": 13,
   "metadata": {},
   "outputs": [
    {
     "data": {
      "text/plain": [
       "'import numpy\\na = numpy.asarray([ mean_t_arr, msd_rarr, msd_xarr, msd_yarr])\\nindex = [\\'time\\', \\'msd_r\\', \\'msd_x\\', \\'msd_y\\']\\n\\nimport pandas as pd\\ndf_a = pd.DataFrame(a, index)\\ndf_a_tp = pd.DataFrame.transpose(df_a)\\n\\nnumpy.savetxt(\"viscous_long.csv\", df_a_tp, delimiter=\",\")'"
      ]
     },
     "execution_count": 13,
     "metadata": {},
     "output_type": "execute_result"
    }
   ],
   "source": [
    "'''import numpy\n",
    "a = numpy.asarray([ mean_t_arr, msd_rarr, msd_xarr, msd_yarr])\n",
    "index = ['time', 'msd_r', 'msd_x', 'msd_y']\n",
    "\n",
    "import pandas as pd\n",
    "df_a = pd.DataFrame(a, index)\n",
    "df_a_tp = pd.DataFrame.transpose(df_a)\n",
    "\n",
    "numpy.savetxt(\"viscous_long.csv\", df_a_tp, delimiter=\",\")'''"
   ]
  },
  {
   "cell_type": "code",
   "execution_count": null,
   "metadata": {},
   "outputs": [],
   "source": []
  }
 ],
 "metadata": {
  "kernelspec": {
   "display_name": "Python 3",
   "language": "python",
   "name": "python3"
  },
  "language_info": {
   "codemirror_mode": {
    "name": "ipython",
    "version": 3
   },
   "file_extension": ".py",
   "mimetype": "text/x-python",
   "name": "python",
   "nbconvert_exporter": "python",
   "pygments_lexer": "ipython3",
   "version": "3.7.3"
  }
 },
 "nbformat": 4,
 "nbformat_minor": 2
}
