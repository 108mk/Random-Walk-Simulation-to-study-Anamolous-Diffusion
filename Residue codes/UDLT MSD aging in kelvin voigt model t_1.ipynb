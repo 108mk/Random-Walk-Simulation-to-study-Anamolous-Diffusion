{
 "cells": [
  {
   "cell_type": "code",
   "execution_count": 1,
   "metadata": {},
   "outputs": [
    {
     "data": {
      "text/plain": [
       "<Figure size 432x288 with 0 Axes>"
      ]
     },
     "metadata": {},
     "output_type": "display_data"
    }
   ],
   "source": [
    "import numpy as np\n",
    "from math import *\n",
    "from random import *\n",
    "import matplotlib.pyplot as plt\n",
    "from pylab import rcParams\n",
    "from datetime import datetime\n",
    "fig = plt.figure()\n",
    "time1=datetime.now().strftime('%Y-%m-%d %H:%M:%S')"
   ]
  },
  {
   "cell_type": "code",
   "execution_count": 2,
   "metadata": {},
   "outputs": [],
   "source": [
    "x_arr1 = np.loadtxt('101.txt')                                      #all elements are in micron\n",
    "y_arr1 = np.loadtxt('102.txt')                                       #all elements are in micron\n",
    "t_arr1 = np.loadtxt('103.txt')"
   ]
  },
  {
   "cell_type": "code",
   "execution_count": 7,
   "metadata": {},
   "outputs": [],
   "source": [
    "x_arr2 = np.loadtxt('104.txt')                                      #all elements are in micron\n",
    "y_arr2 = np.loadtxt('105.txt')                                       #all elements are in micron\n",
    "t_arr2 = np.loadtxt('106.txt')"
   ]
  },
  {
   "cell_type": "code",
   "execution_count": 12,
   "metadata": {},
   "outputs": [],
   "source": [
    "x_arr3 = np.loadtxt('107.txt')                                      #all elements are in micron\n",
    "y_arr3 = np.loadtxt('108.txt')                                       #all elements are in micron\n",
    "t_arr3 = np.loadtxt('109.txt')"
   ]
  },
  {
   "cell_type": "code",
   "execution_count": null,
   "metadata": {},
   "outputs": [],
   "source": []
  },
  {
   "cell_type": "code",
   "execution_count": 3,
   "metadata": {},
   "outputs": [
    {
     "data": {
      "text/plain": [
       "22153"
      ]
     },
     "execution_count": 3,
     "metadata": {},
     "output_type": "execute_result"
    }
   ],
   "source": [
    "len(x_arr)"
   ]
  },
  {
   "cell_type": "code",
   "execution_count": 13,
   "metadata": {},
   "outputs": [],
   "source": [
    "dt_min=1e-8                                                                   #initial time step\n",
    "dt_max=1e-2                                                                 #final time step in msd graph\n",
    "msd_xarr=[]                                                                    #mean squared x\n",
    "msd_yarr=[]                                                                    #mean squared y\n",
    "msd_rarr=[]                                                                    #r is the msd array\n",
    "mean_t_arr=[]                                                                  #dtarray for msd plot\n",
    "N = 40\n",
    "timelaglog= np.logspace( np.log10(dt_min), np.log10(dt_max), num=N ) #nonzero points for msd plot(distributed linearly in log scale)\n",
    "counterarray=[]                                                                 #no of data averaging for particular dt"
   ]
  },
  {
   "cell_type": "code",
   "execution_count": 4,
   "metadata": {},
   "outputs": [],
   "source": [
    "x_arr=x_arr1                               \n",
    "y_arr=y_arr1                                     \n",
    "t_arr=t_arr1 "
   ]
  },
  {
   "cell_type": "code",
   "execution_count": 9,
   "metadata": {},
   "outputs": [],
   "source": [
    "x_arr=x_arr2                               \n",
    "y_arr=y_arr2                                     \n",
    "t_arr=t_arr2 "
   ]
  },
  {
   "cell_type": "code",
   "execution_count": 14,
   "metadata": {},
   "outputs": [],
   "source": [
    "x_arr=x_arr3                               \n",
    "y_arr=y_arr3                                     \n",
    "t_arr=t_arr3 "
   ]
  },
  {
   "cell_type": "code",
   "execution_count": 15,
   "metadata": {},
   "outputs": [
    {
     "name": "stdout",
     "output_type": "stream",
     "text": [
      "0\n",
      "no. of  points in bin 718\n",
      "tau= 1.193776641714437e-08\n",
      "1\n",
      "no. of  points in bin 678\n",
      "tau= 1.7012542798525893e-08\n",
      "2\n",
      "no. of  points in bin 703\n",
      "tau= 2.4244620170823283e-08\n",
      "3\n",
      "no. of  points in bin 707\n",
      "tau= 3.455107294592218e-08\n",
      "4\n",
      "no. of  points in bin 754\n",
      "tau= 4.923882631706737e-08\n",
      "5\n",
      "no. of  points in bin 740\n",
      "tau= 7.01703828670383e-08\n",
      "6\n",
      "no. of  points in bin 707\n",
      "tau= 1e-07\n",
      "7\n",
      "no. of  points in bin 713\n",
      "tau= 1.4251026703029976e-07\n",
      "8\n",
      "no. of  points in bin 785\n",
      "tau= 2.030917620904737e-07\n",
      "9\n",
      "no. of  points in bin 799\n",
      "tau= 2.894266124716752e-07\n",
      "10\n",
      "no. of  points in bin 809\n",
      "tau= 4.1246263829013527e-07\n",
      "11\n",
      "no. of  points in bin 765\n",
      "tau= 5.878016072274918e-07\n",
      "12\n",
      "no. of  points in bin 815\n",
      "tau= 8.376776400682924e-07\n",
      "13\n",
      "no. of  points in bin 839\n",
      "tau= 1.193776641714437e-06\n",
      "14\n",
      "no. of  points in bin 892\n",
      "tau= 1.701254279852591e-06\n",
      "15\n",
      "no. of  points in bin 956\n",
      "tau= 2.4244620170823308e-06\n",
      "16\n",
      "no. of  points in bin 988\n",
      "tau= 3.4551072945922185e-06\n",
      "17\n",
      "no. of  points in bin 1078\n",
      "tau= 4.923882631706737e-06\n",
      "18\n",
      "no. of  points in bin 1128\n",
      "tau= 7.017038286703829e-06\n",
      "19\n",
      "no. of  points in bin 1026\n",
      "tau= 9.999999999999999e-06\n",
      "20\n",
      "no. of  points in bin 1065\n",
      "tau= 1.4251026703029978e-05\n",
      "21\n",
      "no. of  points in bin 1144\n",
      "tau= 2.030917620904737e-05\n",
      "22\n",
      "no. of  points in bin 1313\n",
      "tau= 2.8942661247167517e-05\n",
      "23\n",
      "no. of  points in bin 1315\n",
      "tau= 4.124626382901352e-05\n",
      "24\n",
      "no. of  points in bin 1429\n",
      "tau= 5.878016072274918e-05\n",
      "25\n",
      "no. of  points in bin 1415\n",
      "tau= 8.376776400682924e-05\n",
      "26\n",
      "no. of  points in bin 1438\n",
      "tau= 0.0001193776641714437\n",
      "27\n",
      "no. of  points in bin 1552\n",
      "tau= 0.0001701254279852591\n",
      "28\n",
      "no. of  points in bin 1626\n",
      "tau= 0.00024244620170823307\n",
      "29\n",
      "no. of  points in bin 1879\n",
      "tau= 0.0003455107294592222\n",
      "30\n",
      "no. of  points in bin 1968\n",
      "tau= 0.0004923882631706741\n",
      "31\n",
      "no. of  points in bin 2072\n",
      "tau= 0.0007017038286703829\n",
      "32\n",
      "no. of  points in bin 2270\n",
      "tau= 0.001000000000000001\n",
      "33\n",
      "no. of  points in bin 2349\n",
      "tau= 0.0014251026703029992\n",
      "34\n",
      "no. of  points in bin 2598\n",
      "tau= 0.0020309176209047366\n",
      "35\n",
      "no. of  points in bin 3081\n",
      "tau= 0.0028942661247167516\n",
      "36\n",
      "no. of  points in bin 2954\n",
      "tau= 0.004124626382901352\n",
      "37\n",
      "no. of  points in bin 3642\n",
      "tau= 0.005878016072274918\n",
      "38\n",
      "no. of  points in bin 4198\n",
      "tau= 0.008376776400682925\n",
      "2020-05-14 23:59:27\n",
      "2020-05-14 23:59:29\n"
     ]
    }
   ],
   "source": [
    "time1=datetime.now().strftime('%Y-%m-%d %H:%M:%S')\n",
    "\n",
    "for m in range(0,len(timelaglog)-1):\n",
    "    print(m)\n",
    "    r=0 \n",
    "    x=0\n",
    "    y=0 \n",
    "    count=0                                                                   #counter no of elements for data avraging for particular dt\n",
    "    for i in range(len(t_arr)):\n",
    "        for j in range(i+1,len(t_arr)):\n",
    "            timelag = t_arr[j]-t_arr[i]                                       #time difference between i'th and j'th elements\n",
    "            if timelag >= timelaglog[m]:\n",
    "                if timelag <= timelaglog[m+1]:\n",
    "                    x = x+((x_arr[j]-x_arr[i])**2)\n",
    "                    y = y+((y_arr[j]-y_arr[i])**2)\n",
    "                    count = count+1\n",
    "                else:\n",
    "                    break;\n",
    "            else:\n",
    "                break;           \n",
    "    print('no. of  points in bin',count) \n",
    "    x=float(x/count)\n",
    "    y=float(y/count)\n",
    "    r=float(x+y) \n",
    "    msd_xarr.append(x)\n",
    "    msd_yarr.append(y)                                                          #msd for a particual dt\n",
    "    msd_rarr.append(r)\n",
    "    mean_t_arr.append(np.sqrt(timelaglog[m]*timelaglog[m+1]))\n",
    "    print( 'tau=', np.sqrt(timelaglog[m]*timelaglog[m+1]) )\n",
    "    counterarray.append(count)\n",
    "  \n",
    "    \n",
    "time2=datetime.now().strftime('%Y-%m-%d %H:%M:%S') # final time ending of the run time\n",
    "print(time1)\n",
    "print(time2) "
   ]
  },
  {
   "cell_type": "code",
   "execution_count": 7,
   "metadata": {},
   "outputs": [],
   "source": [
    "'''np.savetxt('msd_x_iso.txt',msd_xarr)\n",
    "np.savetxt('msd_y_iso.txt',msd_yarr)\n",
    "np.savetxt('msd_r_iso.txt',msd_rarr)\n",
    "np.savetxt('t_arr_formsd_iso.txt',mean_t_arr)\n",
    "np.savetxt('counterarray.txt',counterarray)'''"
   ]
  },
  {
   "cell_type": "code",
   "execution_count": 6,
   "metadata": {},
   "outputs": [],
   "source": [
    "msd_rarr1 = np.array(msd_rarr)\n",
    "msd_xarr1 = np.array(msd_xarr)\n",
    "msd_yarr1 = np.array(msd_yarr)"
   ]
  },
  {
   "cell_type": "code",
   "execution_count": 11,
   "metadata": {},
   "outputs": [],
   "source": [
    "msd_rarr2 = np.array(msd_rarr)\n",
    "msd_xarr2 = np.array(msd_xarr)\n",
    "msd_yarr2 = np.array(msd_yarr)"
   ]
  },
  {
   "cell_type": "code",
   "execution_count": 16,
   "metadata": {},
   "outputs": [],
   "source": [
    "msd_rarr3 = np.array(msd_rarr)\n",
    "msd_xarr3 = np.array(msd_xarr)\n",
    "msd_yarr3 = np.array(msd_yarr)"
   ]
  },
  {
   "cell_type": "code",
   "execution_count": null,
   "metadata": {},
   "outputs": [],
   "source": []
  },
  {
   "cell_type": "code",
   "execution_count": 17,
   "metadata": {},
   "outputs": [
    {
     "data": {
      "image/png": "[encoded data removed]",
      "text/plain": [
       "<Figure size 432x288 with 1 Axes>"
      ]
     },
     "metadata": {
      "needs_background": "light"
     },
     "output_type": "display_data"
    }
   ],
   "source": [
    "plt.plot(mean_t_arr,msd_xarr1*1e12,'bo-')\n",
    "plt.plot(mean_t_arr,msd_xarr2*1e12,'go-')\n",
    "plt.plot(mean_t_arr,msd_xarr3*1e12,'ro-')\n",
    "\n",
    "\n",
    "plt.ylabel(r'$<\\Delta x^2>,<\\Delta y^2> \\ \\  (nm^2)$',size=15)\n",
    "plt.xlabel(r'$\\tau  (s)$',size=20)\n",
    "plt.xscale('log')\n",
    "plt.yscale('log')\n",
    "#plt.savefig('mvm_iso_x_y_long.png')\n",
    "plt.show()"
   ]
  },
  {
   "cell_type": "code",
   "execution_count": 10,
   "metadata": {},
   "outputs": [
    {
     "data": {
      "text/plain": [
       "\"plt.plot(mean_t_arr,msd_rarr*1e18,'go-')\\nplt.ylabel(r'$<\\\\Delta r^2> \\\\ \\\\  (nm^2)$',size=20)\\nplt.xlabel(r'$\\tau  (s)$',size=20)\\nplt.xscale('log')\\nplt.yscale('log')\\n#plt.savefig('mvm_iso_long.png')\\nplt.show()\""
      ]
     },
     "execution_count": 10,
     "metadata": {},
     "output_type": "execute_result"
    }
   ],
   "source": [
    "'''plt.plot(mean_t_arr,msd_rarr*1e18,'go-')\n",
    "plt.ylabel(r'$<\\Delta r^2> \\ \\  (nm^2)$',size=20)\n",
    "plt.xlabel(r'$\\tau  (s)$',size=20)\n",
    "plt.xscale('log')\n",
    "plt.yscale('log')\n",
    "#plt.savefig('mvm_iso_long.png')\n",
    "plt.show()'''"
   ]
  },
  {
   "cell_type": "code",
   "execution_count": 11,
   "metadata": {},
   "outputs": [
    {
     "data": {
      "text/plain": [
       "'import numpy\\na = numpy.asarray([ mean_t_arr, msd_rarr, msd_xarr, msd_yarr])\\nindex = [\\'time\\', \\'msd_r\\', \\'msd_x\\', \\'msd_y\\']\\n\\nimport pandas as pd\\ndf_a = pd.DataFrame(a, index)\\ndf_a_tp = pd.DataFrame.transpose(df_a)\\n\\nnumpy.savetxt(\"mvm_vts_iso_2.csv\", df_a_tp, delimiter=\",\")'"
      ]
     },
     "execution_count": 11,
     "metadata": {},
     "output_type": "execute_result"
    }
   ],
   "source": [
    "'''import numpy\n",
    "a = numpy.asarray([ mean_t_arr, msd_rarr, msd_xarr, msd_yarr])\n",
    "index = ['time', 'msd_r', 'msd_x', 'msd_y']\n",
    "\n",
    "import pandas as pd\n",
    "df_a = pd.DataFrame(a, index)\n",
    "df_a_tp = pd.DataFrame.transpose(df_a)\n",
    "\n",
    "numpy.savetxt(\"mvm_vts_iso_2.csv\", df_a_tp, delimiter=\",\")'''"
   ]
  },
  {
   "cell_type": "code",
   "execution_count": null,
   "metadata": {},
   "outputs": [],
   "source": []
  }
 ],
 "metadata": {
  "kernelspec": {
   "display_name": "Python 3",
   "language": "python",
   "name": "python3"
  },
  "language_info": {
   "codemirror_mode": {
    "name": "ipython",
    "version": 3
   },
   "file_extension": ".py",
   "mimetype": "text/x-python",
   "name": "python",
   "nbconvert_exporter": "python",
   "pygments_lexer": "ipython3",
   "version": "3.7.3"
  }
 },
 "nbformat": 4,
 "nbformat_minor": 2
}
