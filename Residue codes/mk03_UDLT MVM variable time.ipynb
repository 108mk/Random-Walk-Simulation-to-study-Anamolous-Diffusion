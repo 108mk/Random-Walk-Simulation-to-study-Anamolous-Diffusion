{
 "cells": [
  {
   "cell_type": "code",
   "execution_count": 1,
   "metadata": {},
   "outputs": [
    {
     "data": {
      "text/plain": [
       "<Figure size 432x288 with 0 Axes>"
      ]
     },
     "metadata": {},
     "output_type": "display_data"
    }
   ],
   "source": [
    "import numpy as np\n",
    "from math import *\n",
    "from random import *\n",
    "import matplotlib.pyplot as plt\n",
    "from pylab import rcParams\n",
    "from datetime import datetime\n",
    "fig = plt.figure()\n",
    "time1=datetime.now().strftime('%Y-%m-%d %H:%M:%S')"
   ]
  },
  {
   "cell_type": "code",
   "execution_count": 2,
   "metadata": {},
   "outputs": [],
   "source": [
    "x_arr = np.loadtxt('x_arr_vts13.txt')                                      #all elements are in micron\n",
    "y_arr = np.loadtxt('y_arr_vts13.txt')                                       #all elements are in micron\n",
    "z_arr = np.loadtxt('z_arr_vts13.txt')                                       #all elements are in micron\n",
    "t_arr = np.loadtxt('dt_arr_vts13.txt')"
   ]
  },
  {
   "cell_type": "code",
   "execution_count": 3,
   "metadata": {},
   "outputs": [
    {
     "data": {
      "text/plain": [
       "array([1.00000000e-09, 1.51177507e-09, 2.28546386e-09, 3.45510729e-09,\n",
       "       5.22334507e-09, 7.89652287e-09, 1.19377664e-08, 1.80472177e-08,\n",
       "       2.72833338e-08, 4.12462638e-08, 6.23550734e-08, 9.42668455e-08,\n",
       "       1.42510267e-07, 2.15443469e-07, 3.25702066e-07, 4.92388263e-07,\n",
       "       7.44380301e-07, 1.12533558e-06, 1.70125428e-06, 2.57191381e-06,\n",
       "       3.88815518e-06, 5.87801607e-06, 8.88623816e-06, 1.34339933e-05,\n",
       "       2.03091762e-05, 3.07029063e-05, 4.64158883e-05, 7.01703829e-05,\n",
       "       1.06081836e-04, 1.60371874e-04, 2.42446202e-04, 3.66524124e-04,\n",
       "       5.54102033e-04, 8.37677640e-04, 1.26638017e-03, 1.91448198e-03,\n",
       "       2.89426612e-03, 4.37547938e-03, 6.61474064e-03, 1.00000000e-02])"
      ]
     },
     "execution_count": 3,
     "metadata": {},
     "output_type": "execute_result"
    }
   ],
   "source": [
    "dt_min=1e-9                                                                   #initial time step\n",
    "dt_max=1e-2                                                                   #final time step in msd graph\n",
    "msd_xarr=[]                                                                    #mean squared x\n",
    "msd_yarr=[]                                                                    #mean squared y\n",
    "msd_zarr=[]                                                                    #mean squared y\n",
    "\n",
    "msd_rarr=[]                                                                    #r is the msd array\n",
    "mean_t_arr=[]                                                                  #dtarray for msd plot\n",
    "\n",
    "N = 40    \n",
    "timelaglog= np.logspace( np.log10(dt_min), np.log10(dt_max), num=N ) #nonzero points for msd plot(distributed linearly in log scale)\n",
    "counterarray=[]                                                                 #no of data averaging for particular dt\n",
    "\n",
    "timelaglog"
   ]
  },
  {
   "cell_type": "code",
   "execution_count": 4,
   "metadata": {},
   "outputs": [
    {
     "data": {
      "text/plain": [
       "1.2295426265956216e-09"
      ]
     },
     "execution_count": 4,
     "metadata": {},
     "output_type": "execute_result"
    }
   ],
   "source": [
    "np.sqrt(timelaglog[0]*timelaglog[0+1])"
   ]
  },
  {
   "cell_type": "code",
   "execution_count": 5,
   "metadata": {
    "scrolled": true
   },
   "outputs": [
    {
     "name": "stdout",
     "output_type": "stream",
     "text": [
      "0\n",
      "1\n",
      "2\n",
      "3\n",
      "4\n",
      "5\n",
      "6\n",
      "7\n",
      "8\n",
      "9\n",
      "10\n",
      "11\n",
      "12\n",
      "13\n",
      "14\n",
      "15\n",
      "16\n",
      "17\n",
      "18\n",
      "19\n",
      "20\n",
      "21\n",
      "22\n",
      "23\n",
      "24\n",
      "25\n",
      "26\n",
      "27\n",
      "28\n",
      "29\n",
      "30\n",
      "31\n",
      "32\n",
      "33\n",
      "34\n",
      "35\n",
      "36\n",
      "37\n",
      "38\n"
     ]
    }
   ],
   "source": [
    "#from numba import jit\n",
    "#@jit(nopython=True)\n",
    "\n",
    "for m in range(0,len(timelaglog)-1):\n",
    "    print(m)\n",
    "    r=0 \n",
    "    x=0\n",
    "    y=0 \n",
    "    z=0\n",
    "    w=0\n",
    "    count=0                                                                  \n",
    "    for i in range(len(t_arr)):\n",
    "        for j in range(i+1,len(t_arr)):\n",
    "            timelag = t_arr[j]-t_arr[i]                                       \n",
    "            if timelag >= timelaglog[m]:\n",
    "                if timelag <= timelaglog[m+1]:\n",
    "                    x = x+((x_arr[j]-x_arr[i])**2)\n",
    "                    y = y+((y_arr[j]-y_arr[i])**2)\n",
    "                    z = z+((z_arr[j]-z_arr[i])**2)\n",
    "                    count = count+1\n",
    "                else:\n",
    "                    break;\n",
    "            else:\n",
    "                break;  \n",
    "                \n",
    "    x=float(x/count)\n",
    "    y=float(y/count)\n",
    "    z=float(z/count)\n",
    "    r=float(x+y+z) \n",
    "    msd_xarr.append(x)\n",
    "    msd_yarr.append(y)                                                         \n",
    "    msd_zarr.append(z)\n",
    "    msd_rarr.append(r)\n",
    "    mean_t_arr.append(np.sqrt(timelaglog[m]*timelaglog[m+1]))\n",
    "    counterarray.append(count)\n",
    "    \n",
    "    "
   ]
  },
  {
   "cell_type": "code",
   "execution_count": 6,
   "metadata": {},
   "outputs": [],
   "source": [
    "msd_xarr=np.array(msd_xarr)\n",
    "msd_yarr=np.array(msd_yarr)                                                         \n",
    "msd_zarr=np.array(msd_zarr)"
   ]
  },
  {
   "cell_type": "code",
   "execution_count": 7,
   "metadata": {},
   "outputs": [
    {
     "data": {
      "image/png": "[encoded data removed]",
      "text/plain": [
       "<Figure size 432x288 with 1 Axes>"
      ]
     },
     "metadata": {
      "needs_background": "light"
     },
     "output_type": "display_data"
    }
   ],
   "source": [
    "\n",
    "\n",
    "plt.plot(mean_t_arr,msd_xarr,'r*')\n",
    "plt.plot(mean_t_arr,msd_yarr,'c+')\n",
    "plt.plot(mean_t_arr,msd_zarr,'m.')\n",
    "\n",
    "plt.ylabel(r'$<R^2> \\ \\  [nm^2]$',size=20)\n",
    "plt.xlabel(r'$\\tau [s]$', size =20)\n",
    "\n",
    "\n",
    "plt.xscale('log')\n",
    "plt.yscale('log')"
   ]
  },
  {
   "cell_type": "code",
   "execution_count": 8,
   "metadata": {},
   "outputs": [
    {
     "data": {
      "image/png": "[encoded data removed]",
      "text/plain": [
       "<Figure size 504x360 with 1 Axes>"
      ]
     },
     "metadata": {
      "needs_background": "light"
     },
     "output_type": "display_data"
    }
   ],
   "source": [
    "from pylab import rcParams\n",
    "rcParams ['figure.figsize']=7,5\n",
    "\n",
    "plt.plot(mean_t_arr,msd_xarr*1e18,'r*', label=r'$t_w = 1200 s$')\n",
    "plt.plot(mean_t_arr,msd_yarr*1e18,'c+', label=r'$t_w = 1800 s$')\n",
    "plt.plot(mean_t_arr,msd_zarr*1e18,'m.', label=r'$t_w = 2400 s$')\n",
    "\n",
    "plt.ylabel(r'$<R^2> \\ \\  [nm^2]$',size=20)\n",
    "plt.xlabel(r'$t -t_w \\ [s]$', size =20)\n",
    "plt.legend(loc=\"lower right\")\n",
    "plt.xscale('log')\n",
    "plt.yscale('log')\n",
    "plt.show()"
   ]
  },
  {
   "cell_type": "code",
   "execution_count": 9,
   "metadata": {},
   "outputs": [
    {
     "data": {
      "text/plain": [
       "'import numpy\\na = numpy.asarray([ mean_t_arr, msd_rarr, msd_xarr, msd_yarr])\\nindex = [\\'time\\', \\'msd_r\\', \\'msd_x\\', \\'msd_y\\']\\n\\nimport pandas as pd\\ndf_a = pd.DataFrame(a, index)\\ndf_a_tp = pd.DataFrame.transpose(df_a)\\n\\nnumpy.savetxt(\"mvm_vts_iso.csv\", df_a_tp, delimiter=\",\")'"
      ]
     },
     "execution_count": 9,
     "metadata": {},
     "output_type": "execute_result"
    }
   ],
   "source": [
    "'''import numpy\n",
    "a = numpy.asarray([ mean_t_arr, msd_rarr, msd_xarr, msd_yarr])\n",
    "index = ['time', 'msd_r', 'msd_x', 'msd_y']\n",
    "\n",
    "import pandas as pd\n",
    "df_a = pd.DataFrame(a, index)\n",
    "df_a_tp = pd.DataFrame.transpose(df_a)\n",
    "\n",
    "numpy.savetxt(\"mvm_vts_iso.csv\", df_a_tp, delimiter=\",\")'''"
   ]
  },
  {
   "cell_type": "code",
   "execution_count": null,
   "metadata": {},
   "outputs": [],
   "source": []
  },
  {
   "cell_type": "code",
   "execution_count": 9,
   "metadata": {},
   "outputs": [],
   "source": [
    "alpha = log(10)/1200\n",
    "beta = 0#log(10)/1200"
   ]
  },
  {
   "cell_type": "code",
   "execution_count": 10,
   "metadata": {},
   "outputs": [],
   "source": [
    "time0=1200\n",
    "time1=1800\n",
    "time2=2400"
   ]
  },
  {
   "cell_type": "code",
   "execution_count": 11,
   "metadata": {},
   "outputs": [],
   "source": [
    "n=len(mean_t_arr)"
   ]
  },
  {
   "cell_type": "code",
   "execution_count": 12,
   "metadata": {},
   "outputs": [],
   "source": [
    "mean_t_arr0=mean_t_arr+(np.ones(n)*time0)\n",
    "e_t=(np.exp(-(alpha-beta)*(mean_t_arr0)))\n",
    "e_tw =(exp(-(alpha-beta)*time0))*np.ones(n)\n",
    "ett_mean_t_arr0 = (1.0/(alpha - beta))*(e_tw - e_t)"
   ]
  },
  {
   "cell_type": "code",
   "execution_count": 13,
   "metadata": {},
   "outputs": [
    {
     "data": {
      "text/plain": [
       "array([1.22966217e-10, 1.85866887e-10, 2.81009845e-10, 4.24827233e-10,\n",
       "       6.42242093e-10, 9.70906591e-10, 1.46778355e-09, 2.21898983e-09,\n",
       "       3.35460837e-09, 5.07141984e-09, 7.66682284e-09, 1.15905170e-08,\n",
       "       1.75222375e-08, 2.64896946e-08, 4.00464705e-08, 6.05412329e-08,\n",
       "       9.15247273e-08, 1.38364825e-07, 2.09176470e-07, 3.16227762e-07,\n",
       "       4.78065248e-07, 7.22727127e-07, 1.09260084e-06, 1.65176672e-06,\n",
       "       2.49709973e-06, 3.77505308e-06, 5.70703101e-06, 8.62774697e-06,\n",
       "       1.30432122e-05, 1.97184018e-05, 2.98097854e-05, 4.50656839e-05,\n",
       "       6.81291624e-05, 1.02995935e-04, 1.55706608e-04, 2.35393188e-04,\n",
       "       3.55861142e-04, 5.37981064e-04, 8.13304212e-04])"
      ]
     },
     "execution_count": 13,
     "metadata": {},
     "output_type": "execute_result"
    }
   ],
   "source": [
    "ett_mean_t_arr0"
   ]
  },
  {
   "cell_type": "code",
   "execution_count": 14,
   "metadata": {},
   "outputs": [],
   "source": [
    "mean_t_arr1=mean_t_arr+(np.ones(n)*time1)\n",
    "e_t=(np.exp(-(alpha-beta)*(mean_t_arr1)))\n",
    "e_tw =(exp(-(alpha-beta)*time1))*np.ones(n)\n",
    "ett_mean_t_arr1 = (1.0/(alpha - beta))*(e_tw - e_t)"
   ]
  },
  {
   "cell_type": "code",
   "execution_count": 15,
   "metadata": {},
   "outputs": [
    {
     "data": {
      "text/plain": [
       "array([3.88852997e-11, 5.87854024e-11, 8.88651869e-11, 1.34342870e-10,\n",
       "       2.03094597e-10, 3.07028606e-10, 4.64153712e-10, 7.01707346e-10,\n",
       "       1.06082048e-09, 1.60372479e-09, 2.42446028e-09, 3.66524235e-09,\n",
       "       5.54101960e-09, 8.37677880e-09, 1.26638062e-08, 1.91448209e-08,\n",
       "       2.89426616e-08, 4.37548002e-08, 6.61474061e-08, 1.00000001e-07,\n",
       "       1.51177507e-07, 2.28546387e-07, 3.45510725e-07, 5.22334500e-07,\n",
       "       7.89652271e-07, 1.19377660e-06, 1.80472167e-06, 2.72833315e-06,\n",
       "       4.12462587e-06, 6.23550616e-06, 9.42668185e-06, 1.42510205e-05,\n",
       "       2.15443328e-05, 3.25701744e-05, 4.92387528e-05, 7.44378620e-05,\n",
       "       1.12533174e-04, 1.70124550e-04, 2.57189374e-04])"
      ]
     },
     "execution_count": 15,
     "metadata": {},
     "output_type": "execute_result"
    }
   ],
   "source": [
    "ett_mean_t_arr1"
   ]
  },
  {
   "cell_type": "code",
   "execution_count": 16,
   "metadata": {},
   "outputs": [],
   "source": [
    "mean_t_arr2=mean_t_arr+(np.ones(n)*time2)\n",
    "e_t=(np.exp(-(alpha-beta)*(mean_t_arr2)))\n",
    "e_tw =(exp(-(alpha-beta)*time2))*np.ones(n)\n",
    "ett_mean_t_arr2 = (1.0/(alpha - beta))*(e_tw - e_t)"
   ]
  },
  {
   "cell_type": "code",
   "execution_count": 17,
   "metadata": {},
   "outputs": [
    {
     "data": {
      "text/plain": [
       "array([1.22978874e-11, 1.85892200e-11, 2.81008037e-11, 4.24825425e-11,\n",
       "       6.42242093e-11, 9.70930096e-11, 1.46778174e-10, 2.21898078e-10,\n",
       "       3.35455774e-10, 5.07137102e-10, 7.66681923e-10, 1.15904899e-09,\n",
       "       1.75222158e-09, 2.64897199e-09, 4.00464614e-09, 6.05412347e-09,\n",
       "       9.15247508e-09, 1.38364776e-08, 2.09176460e-08, 3.16227784e-08,\n",
       "       4.78065242e-08, 7.22727123e-08, 1.09260084e-07, 1.65176674e-07,\n",
       "       2.49709973e-07, 3.77505306e-07, 5.70703101e-07, 8.62774699e-07,\n",
       "       1.30432122e-06, 1.97184018e-06, 2.98097854e-06, 4.50656839e-06,\n",
       "       6.81291624e-06, 1.02995935e-05, 1.55706608e-05, 2.35393188e-05,\n",
       "       3.55861142e-05, 5.37981064e-05, 8.13304212e-05])"
      ]
     },
     "execution_count": 17,
     "metadata": {},
     "output_type": "execute_result"
    }
   ],
   "source": [
    "ett_mean_t_arr2"
   ]
  },
  {
   "cell_type": "code",
   "execution_count": null,
   "metadata": {},
   "outputs": [],
   "source": []
  },
  {
   "cell_type": "code",
   "execution_count": 18,
   "metadata": {},
   "outputs": [
    {
     "data": {
      "image/png": "[encoded data removed]",
      "text/plain": [
       "<Figure size 504x360 with 1 Axes>"
      ]
     },
     "metadata": {
      "needs_background": "light"
     },
     "output_type": "display_data"
    }
   ],
   "source": [
    "from pylab import rcParams\n",
    "rcParams ['figure.figsize']=7,5\n",
    "\n",
    "\n",
    "plt.plot(ett_mean_t_arr0,msd_xarr*(1e18),'r*', label=r'$t_w = 1200 s$')\n",
    "plt.plot(ett_mean_t_arr1,msd_yarr*(1e18),'c+', label=r'$t_w = 1800 s$')\n",
    "plt.plot(ett_mean_t_arr2,msd_zarr*(1e18),'m.', label=r'$t_w = 2400 s$')\n",
    "\n",
    "plt.ylabel(r'$<R^2> \\ \\  [nm^2]$',size=15)\n",
    "plt.xlabel(r'$\\xi-\\xi_w\\ [s] $',size=20)\n",
    "\n",
    "plt.xscale('log')\n",
    "plt.yscale('log')\n",
    "#plt.savefig('mvm_iso_x_y_long.png')\n",
    "plt.legend(loc=\"upper left\")\n",
    "plt.show()"
   ]
  },
  {
   "cell_type": "code",
   "execution_count": 21,
   "metadata": {},
   "outputs": [
    {
     "data": {
      "image/png": "[encoded data removed]",
      "text/plain": [
       "<Figure size 504x360 with 1 Axes>"
      ]
     },
     "metadata": {
      "needs_background": "light"
     },
     "output_type": "display_data"
    }
   ],
   "source": [
    "from pylab import rcParams\n",
    "rcParams ['figure.figsize']=7,5\n",
    "\n",
    "\n",
    "plt.plot(ett_mean_t_arr0,msd_xarr*(1*1e18),'r*', label=r'$t_w = 1200 s$')\n",
    "plt.plot(ett_mean_t_arr1,msd_yarr*(3.16*1e18),'c+', label=r'$t_w = 1800 s$')\n",
    "plt.plot(ett_mean_t_arr2,msd_zarr*(10*1e18),'m.', label=r'$t_w = 2400 s$')\n",
    "\n",
    "plt.ylabel(r'$b<R^2> \\ \\  [nm^2]$',size=15)\n",
    "plt.xlabel(r'$\\xi-\\xi_w\\ [s] $',size=20)\n",
    "\n",
    "plt.xscale('log')\n",
    "plt.yscale('log')\n",
    "#plt.savefig('mvm_iso_x_y_long.png')\n",
    "plt.legend(loc=\"upper left\")\n",
    "plt.show()\n",
    "\n"
   ]
  }
 ],
 "metadata": {
  "kernelspec": {
   "display_name": "Python 3",
   "language": "python",
   "name": "python3"
  },
  "language_info": {
   "codemirror_mode": {
    "name": "ipython",
    "version": 3
   },
   "file_extension": ".py",
   "mimetype": "text/x-python",
   "name": "python",
   "nbconvert_exporter": "python",
   "pygments_lexer": "ipython3",
   "version": "3.7.6"
  }
 },
 "nbformat": 4,
 "nbformat_minor": 2
}
